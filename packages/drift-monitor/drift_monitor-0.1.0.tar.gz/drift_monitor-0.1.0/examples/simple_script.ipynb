{
 "cells": [
  {
   "cell_type": "markdown",
   "metadata": {},
   "source": [
    "# Drift Watch Monitoring Server\n",
    "\n",
    "Drift Watch monitoring server is a stand-alone HTTP server that serves multiple REST API endpoints for storing experiments and drifts. While Drift Watch can be used in local environment, for starters it is recommended to use one of the available online endpoints. This way you can easily share your results with your team members and access them from anywhere:\n",
    "\n",
    "**Collaboration**: Multiple users can create experiment in the same endpoints where to log drifts.\n",
    "\n",
    "**Sharing Results**: The monitoring server also serves as monitoring interface, where members can easily explore each other’s results.\n"
   ]
  },
  {
   "cell_type": "markdown",
   "metadata": {},
   "source": [
    "## Logging to a Monitoring Server\n"
   ]
  },
  {
   "cell_type": "markdown",
   "metadata": {},
   "source": [
    "Once you started the tracking server, you can connect your local clients by set the **DRIFT_MONITOR_URL** environment variable to the server’s URI, along with its scheme and port (for example, http://localhost:5000)\n"
   ]
  },
  {
   "cell_type": "code",
   "execution_count": 1,
   "metadata": {},
   "outputs": [],
   "source": [
    "import os\n",
    "\n",
    "os.environ[\"DRIFT_MONITOR_URL\"] = \"https://drift-watch.dev.ai4eosc.eu\"\n",
    "os.environ[\"DRIFT_MONITOR_MYTOKEN\"] = \"token_from_mytoken.data.kit.edu\""
   ]
  },
  {
   "cell_type": "code",
   "execution_count": 2,
   "metadata": {},
   "outputs": [],
   "source": [
    "from uuid import uuid4\n",
    "\n",
    "from drift_monitor import DriftMonitor, new_experiment, register"
   ]
  },
  {
   "cell_type": "markdown",
   "metadata": {},
   "source": [
    "Register to the service in case you did not do it before.\n"
   ]
  },
  {
   "cell_type": "code",
   "execution_count": 3,
   "metadata": {},
   "outputs": [],
   "source": [
    "register(accept_terms=True)"
   ]
  },
  {
   "cell_type": "markdown",
   "metadata": {},
   "source": [
    "Define your detector methods. In this example, for the aim os simplicity, we mock detectors where a tuple (detection, features) is returned. The detection is a boolean indicating if the detector found an anomaly or not. The features is a dictionary with the features used in the detector.\n"
   ]
  },
  {
   "cell_type": "code",
   "execution_count": 4,
   "metadata": {},
   "outputs": [],
   "source": [
    "def concept_detector(*args, **kwds) -> tuple[bool, dict]:\n",
    "    return True, {\"feature1\": 0.05, \"feature2\": 0.1}\n",
    "\n",
    "\n",
    "def data_detector(*args, **kwds) -> tuple[bool, dict]:\n",
    "    return True, {\"feature3\": 0.02, \"feature4\": 0.08}"
   ]
  },
  {
   "cell_type": "markdown",
   "metadata": {},
   "source": [
    "Now open a DriftMonitor context and call the detectors. The DriftMonitor will store the results in a dictionary with the detector names as keys and the tuple (detection, features) as values.\n"
   ]
  },
  {
   "cell_type": "code",
   "execution_count": 5,
   "metadata": {},
   "outputs": [
    {
     "data": {
      "text/plain": [
       "{'created_at': '2024-10-22T14:40:35.270588',\n",
       " 'description': 'Test experiment example',\n",
       " 'id': 'd4acb385-9014-4e1a-96bf-ed95d38e10b4',\n",
       " 'name': 'experiment_c8036cb5-7c51-4c8c-b69f-38bb4d030821',\n",
       " 'permissions': {'47f61d0e-87c3-47cb-8fe3-37526d3b66de': 'Manage'},\n",
       " 'public': True}"
      ]
     },
     "execution_count": 5,
     "metadata": {},
     "output_type": "execute_result"
    }
   ],
   "source": [
    "experiment_name = f\"experiment_{uuid4()}\"\n",
    "description = \"Test experiment example\"\n",
    "new_experiment(experiment_name, description, public=True)"
   ]
  },
  {
   "cell_type": "code",
   "execution_count": 6,
   "metadata": {},
   "outputs": [],
   "source": [
    "with DriftMonitor(experiment_name, \"model_1\") as monitor:\n",
    "    detected, detection_parameters = concept_detector()\n",
    "    monitor.concept(detected, detection_parameters)\n",
    "    detected, detection_parameters = data_detector()\n",
    "    monitor.data(detected, detection_parameters)"
   ]
  },
  {
   "cell_type": "markdown",
   "metadata": {},
   "source": [
    "When the context is closed, the DriftMonitor will send the results to the API with status \"Completed\". If and exception occurs, the DriftMonitor will catch the exception, send the results with status \"Failed\" and re-raise the exception.\n"
   ]
  }
 ],
 "metadata": {
  "kernelspec": {
   "display_name": "web",
   "language": "python",
   "name": "python3"
  },
  "language_info": {
   "codemirror_mode": {
    "name": "ipython",
    "version": 3
   },
   "file_extension": ".py",
   "mimetype": "text/x-python",
   "name": "python",
   "nbconvert_exporter": "python",
   "pygments_lexer": "ipython3",
   "version": "3.12.5"
  }
 },
 "nbformat": 4,
 "nbformat_minor": 2
}
