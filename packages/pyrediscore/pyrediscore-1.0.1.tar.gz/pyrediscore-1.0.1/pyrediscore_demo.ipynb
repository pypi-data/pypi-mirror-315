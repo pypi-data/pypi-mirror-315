{
 "cells": [
  {
   "cell_type": "code",
   "execution_count": 1,
   "id": "449cf0bd",
   "metadata": {},
   "outputs": [],
   "source": [
    "from pyrediscore.redantic import RedisStore\n",
    "store = RedisStore(\"127.0.0.1\", 6379)"
   ]
  },
  {
   "cell_type": "code",
   "execution_count": 3,
   "id": "8ffd61aa",
   "metadata": {},
   "outputs": [
    {
     "data": {
      "text/plain": [
       "True"
      ]
     },
     "execution_count": 3,
     "metadata": {},
     "output_type": "execute_result"
    }
   ],
   "source": [
    "from pydantic import BaseModel\n",
    "\n",
    "class User(BaseModel):\n",
    "    my_uuid: int\n",
    "    name = 'Jane Doe'\n",
    "    \n",
    "store.load_model(User, 'my_uuid')\n",
    "x = User(my_uuid=1234, name = \"Cecile Hilpert\")\n",
    "store.add(x)"
   ]
  },
  {
   "cell_type": "code",
   "execution_count": 10,
   "id": "3792370c",
   "metadata": {},
   "outputs": [
    {
     "name": "stdout",
     "output_type": "stream",
     "text": [
      "User:1234\n"
     ]
    }
   ],
   "source": [
    "for k in store.list_key():\n",
    "    print(k)\n",
    "#    print(store.get(k))"
   ]
  },
  {
   "cell_type": "code",
   "execution_count": 11,
   "id": "e9313d96",
   "metadata": {},
   "outputs": [
    {
     "data": {
      "text/plain": [
       "User(my_uuid=1234, name='Cecile Hilpert')"
      ]
     },
     "execution_count": 11,
     "metadata": {},
     "output_type": "execute_result"
    }
   ],
   "source": [
    "store.get(1234)"
   ]
  }
 ],
 "metadata": {
  "kernelspec": {
   "display_name": "pyrediscore_devel",
   "language": "python",
   "name": "pyrediscore_devel"
  },
  "language_info": {
   "codemirror_mode": {
    "name": "ipython",
    "version": 3
   },
   "file_extension": ".py",
   "mimetype": "text/x-python",
   "name": "python",
   "nbconvert_exporter": "python",
   "pygments_lexer": "ipython3",
   "version": "3.9.7"
  }
 },
 "nbformat": 4,
 "nbformat_minor": 5
}
