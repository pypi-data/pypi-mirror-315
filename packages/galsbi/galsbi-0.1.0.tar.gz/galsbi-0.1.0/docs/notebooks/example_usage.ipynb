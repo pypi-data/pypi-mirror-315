{
 "cells": [
  {
   "cell_type": "code",
   "execution_count": null,
   "id": "55124274-a05a-48ca-95a2-4db7811ff616",
   "metadata": {},
   "outputs": [],
   "source": [
    "%load_ext autoreload\n",
    "%autoreload 2\n",
    "from galsbi import GalSBI\n",
    "from cosmic_toolbox import arraytools as at, colors\n",
    "from trianglechain import TriangleChain\n",
    "import matplotlib.pyplot as plt\n",
    "\n",
    "colors.set_cycle()"
   ]
  },
  {
   "cell_type": "markdown",
   "id": "58b1b4f8",
   "metadata": {},
   "source": [
    "# Default behavior"
   ]
  },
  {
   "cell_type": "markdown",
   "id": "3bcc6e65-5d6c-430f-b3b8-b4cc4d827214",
   "metadata": {},
   "source": [
    "Initialize the model with the configurations of choice."
   ]
  },
  {
   "cell_type": "code",
   "execution_count": null,
   "id": "b8306707-5ca2-4ba3-842f-9f1a8cbfe1dc",
   "metadata": {},
   "outputs": [],
   "source": [
    "model = GalSBI(\"Fischbacher+24\")"
   ]
  },
  {
   "cell_type": "markdown",
   "id": "52a556ed-1f17-45c6-9a34-52448ac84ff5",
   "metadata": {},
   "source": [
    "Generate an intrinsic catalog from this model. If you run a model for the first time, it might take a bit longer since some files have to be loaded to cache.\n",
    "By default, the saved catalogs only have the intrinsic parameters and are sampled from the first healpy pixels of a map with nside 64."
   ]
  },
  {
   "cell_type": "code",
   "execution_count": null,
   "id": "0672c9e6-06ce-4d30-8545-554ff6d9b388",
   "metadata": {
    "scrolled": true
   },
   "outputs": [],
   "source": [
    "model()"
   ]
  },
  {
   "cell_type": "markdown",
   "id": "c71c78d3",
   "metadata": {},
   "source": [
    "Then, the catalogs can be loaded for all bands and you can plot the intrinsic distribution. The name of the catalogs are `{catalog_name}_{model_index}_{band}_ucat.gal.cat` and `{catalog_name}_{model_index}_{band}_ucat.star.cat`. The catalog name and the model index can easily be changed as an argument of the called model. The bands are fixed for a given model. To add other bands, writing a custom config file is needed. You can directly load the catalogs using the `load_catalogs` module. It returns a dictionary with all the catalogs written in the step above. The format of the catalog can be a structured numpy array (`rec`), a pandas dataframe (`df`) or a fits table (`fits`)."
   ]
  },
  {
   "cell_type": "code",
   "execution_count": null,
   "id": "ddc510e2-4ac8-46ce-a9cd-51fc6072fa66",
   "metadata": {},
   "outputs": [],
   "source": [
    "cats = model.load_catalogs(output_format=\"rec\")\n",
    "cat = cats[\"ucat galaxies i\"]\n",
    "\n",
    "ranges = {\n",
    "    \"mag\": [18, 27],\n",
    "    \"r50\": [0, 4],\n",
    "    \"sersic_n\": [0, 5],\n",
    "    \"z\": [0, 6]\n",
    "}\n",
    "tri = TriangleChain(ranges=ranges, params=list(ranges.keys()), fill=True)\n",
    "tri.contour_cl(cat);"
   ]
  },
  {
   "cell_type": "markdown",
   "id": "907972f9",
   "metadata": {},
   "source": [
    "If you want to have one combined catalog with information from all bands, you can load it with the `combine=True` parameter."
   ]
  },
  {
   "cell_type": "code",
   "execution_count": null,
   "id": "bcaeb11e",
   "metadata": {},
   "outputs": [],
   "source": [
    "cats = model.load_catalogs(combine=True)\n",
    "cat = cats[\"ucat galaxies\"]\n",
    "\n",
    "ranges = {\n",
    "    \"mag g\": [18, 27],\n",
    "    \"mag r\": [18, 27],\n",
    "    \"mag i\": [18, 27],\n",
    "    \"mag z\": [18, 27],\n",
    "    \"mag y\": [18, 27],\n",
    "    \"r50\": [0, 4],\n",
    "    \"sersic_n\": [0, 5],\n",
    "    \"z\": [0, 6]\n",
    "}\n",
    "tri = TriangleChain(ranges=ranges, params=list(ranges.keys()), fill=True)\n",
    "tri.contour_cl(cat);"
   ]
  },
  {
   "cell_type": "markdown",
   "id": "13972217",
   "metadata": {},
   "source": [
    "All the galaxies are positioned by default in the first healpy index."
   ]
  },
  {
   "cell_type": "code",
   "execution_count": null,
   "id": "5cf78173",
   "metadata": {},
   "outputs": [],
   "source": [
    "from astropy.coordinates import SkyCoord\n",
    "import astropy.units as u\n",
    "\n",
    "def plot_ra_dec(ra, dec):\n",
    "    coords = SkyCoord(cat[\"ra\"], cat[\"dec\"], unit=(u.deg, u.deg))\n",
    "\n",
    "    plt.figure(figsize=(10, 5))\n",
    "    ax = plt.subplot(111, projection='mollweide')\n",
    "\n",
    "    sc = ax.scatter(coords.ra.radian, coords.dec.radian, s=1)\n",
    "\n",
    "    plt.title('RA vs Dec Mollweide Projection')\n",
    "    ax.set_xlabel('RA (radians)')\n",
    "    ax.set_ylabel('Dec (radians)')\n",
    "\n",
    "    ax.grid(True)\n",
    "\n",
    "plot_ra_dec(cat[\"ra\"], cat[\"dec\"]);"
   ]
  },
  {
   "cell_type": "markdown",
   "id": "36d6f483-270f-4b76-9dd5-93400d2aba48",
   "metadata": {},
   "source": [
    "Find out which papers you should cite with the configuration you have chosen above."
   ]
  },
  {
   "cell_type": "code",
   "execution_count": null,
   "id": "001a6ce0-486e-4c0e-be16-383702eb4bcc",
   "metadata": {},
   "outputs": [],
   "source": [
    "model.cite()"
   ]
  },
  {
   "cell_type": "markdown",
   "id": "da832dbe",
   "metadata": {},
   "source": [
    "# Specify survey size"
   ]
  },
  {
   "cell_type": "markdown",
   "id": "a1d768fa",
   "metadata": {},
   "source": [
    "The easiest way to specify a specific survey area where a galaxy catalog should be created is by passing a boolean healpy map to the `GalSBI` class."
   ]
  },
  {
   "cell_type": "code",
   "execution_count": null,
   "id": "bd8173ed",
   "metadata": {},
   "outputs": [],
   "source": [
    "import healpy as hp\n",
    "import numpy as np\n",
    "import matplotlib.pyplot as plt\n",
    "\n",
    "nside = 2048\n",
    "npix = hp.nside2npix(nside)\n",
    "\n",
    "mask = np.zeros(npix)\n",
    "\n",
    "# Define a circular patch around the point (theta, phi) = (45 degrees, 45 degrees)\n",
    "theta_center = np.radians(45.0)\n",
    "phi_center = np.radians(45.0)\n",
    "\n",
    "# Set a 0.5 degree radius\n",
    "radius = np.radians(0.5)\n",
    "\n",
    "# Find all pixel indices within this patch and set mask to 1\n",
    "vec_center = hp.ang2vec(theta_center, phi_center)\n",
    "patch_pixels = hp.query_disc(nside, vec_center, radius)\n",
    "mask[patch_pixels] = 1"
   ]
  },
  {
   "cell_type": "code",
   "execution_count": null,
   "id": "4a89b038",
   "metadata": {},
   "outputs": [],
   "source": [
    "model = GalSBI(\"Fischbacher+24\")\n",
    "model(healpix_map=mask)"
   ]
  },
  {
   "cell_type": "markdown",
   "id": "edbdade5",
   "metadata": {},
   "source": [
    "As expected, the catalog looks the same since the galaxies are drawn from the same galaxy population model but the positions of the galaxies are located at the area specified by the map defined above."
   ]
  },
  {
   "cell_type": "code",
   "execution_count": null,
   "id": "b6035272",
   "metadata": {},
   "outputs": [],
   "source": [
    "cats = model.load_catalogs(output_format=\"rec\")\n",
    "cat = cats[\"ucat galaxies i\"]\n",
    "\n",
    "ranges = {\n",
    "    \"mag\": [18, 28],\n",
    "    \"r50\": [0, 4],\n",
    "    \"sersic_n\": [0, 5],\n",
    "    \"z\": [0, 6]\n",
    "}\n",
    "tri = TriangleChain(ranges=ranges, params=list(ranges.keys()), fill=True)\n",
    "tri.contour_cl(cat);\n",
    "\n",
    "plot_ra_dec(cat[\"ra\"], cat[\"dec\"])"
   ]
  },
  {
   "cell_type": "markdown",
   "id": "2e831be8",
   "metadata": {},
   "source": [
    "For larger survey areas, sampling galaxies in one call might become infeasible due to the additional memory and time that is required. However, the catalog generation can easily be split into smaller chunks which reduces the memory consumption significantly. Below we show an example where we split the mask into many submask that sample only one healpix pixels each. Speeding up the catalog generation can be achieved by parallelizing the last for-loop of this script, using e.g. `esub-epipe` to submit each index as a separate job on a cluster or classic parallelization tools such as Python's `multiprocessing` module or `concurrent.futures`."
   ]
  },
  {
   "cell_type": "code",
   "execution_count": null,
   "id": "2bed04c7",
   "metadata": {},
   "outputs": [],
   "source": [
    "def process_healpix_submask(submask, catalog_name):\n",
    "    model = GalSBI(\"Moser+24\")\n",
    "    model(healpix_map=submask, catalog_name=catalog_name)\n",
    "\n",
    "submasks = []\n",
    "catalog_names = []\n",
    "pixels_per_mask = 10\n",
    "n_pixels = len(patch_pixels)\n",
    "for i in range(n_pixels // pixels_per_mask + 1):\n",
    "    submask = np.zeros(npix)\n",
    "    pixels = patch_pixels[i*pixels_per_mask : (i+1)*pixels_per_mask]\n",
    "    submask[pixels] = 1\n",
    "    submasks.append(submask)\n",
    "    catalog_names.append(f\"catalogs_pixelbatch{i}\")\n",
    "    \n",
    "for i in range(len(submasks)):\n",
    "    process_healpix_submask(submasks[i], catalog_name=catalog_names[i])"
   ]
  },
  {
   "cell_type": "markdown",
   "id": "33a5cbe3",
   "metadata": {},
   "source": [
    "# Emulating image simulations"
   ]
  },
  {
   "cell_type": "markdown",
   "id": "fd00175f",
   "metadata": {},
   "source": [
    "The above examples generate intrinsic catalogs. Not all of these galaxies would actually be detected when building up a catalog from actual astronomical images. The **detection probability** is to first order a function of the apparent magnitude. However, there are further effects such as **blending** or **background noise** that impact the detection probability (especially at the faint edge). Furthermore, an intrinsic size or magnitude will not the be the size that is measured in an actual astronomical image by a source extraction software such as `SExtractor`. Both background noise or the point spread function (**PSF**) have a strong impact on the measured parameters and introduce a scatter.\n",
    "\n",
    "Ideally, these effects are taken into account by performing image simulations (see below). But as shown in Fischbacher et al. (2024), it is possible to emulate this effects accurately. We show below how to generate a galaxy catalog with an emulator trained on HSC deep fields. Note that the detection classifiers predicts if an object is detected as a galaxy, most stars are therefore are rejected and only a few stars contaminate the catalog (based on the accuracy of the star galaxy separation method)."
   ]
  },
  {
   "cell_type": "code",
   "execution_count": null,
   "id": "4f4ec5d9",
   "metadata": {
    "scrolled": false
   },
   "outputs": [],
   "source": [
    "model = GalSBI(\"Fischbacher+24\")\n",
    "model(mode=\"emulator\")"
   ]
  },
  {
   "cell_type": "markdown",
   "id": "0755ea9f",
   "metadata": {},
   "source": [
    "Two catalogs are generated. The catalog of all intrinsic objects are saved as `{catalog_name}_{model_index}_{band}_ucat.gal.cat` and `{catalog_name}_{model_index}_{band}_ucat.star.cat`. The catalog of the measured objects is called `{catalog_name}_{model_index}_{band}_se.cat`."
   ]
  },
  {
   "cell_type": "code",
   "execution_count": null,
   "id": "e26b75ae",
   "metadata": {},
   "outputs": [],
   "source": [
    "cats = model.load_catalogs(output_format=\"rec\")\n",
    "\n",
    "cat_ucat = cats[\"ucat galaxies i\"]\n",
    "cat_sextractor = cats[\"sextractor i\"]\n",
    "\n",
    "ranges = {\n",
    "    \"mag\": [18, 28],\n",
    "    \"r50\": [0, 4],\n",
    "    \"sersic_n\": [0, 5],\n",
    "    \"z\": [0, 6],\n",
    "    \"MAG_AUTO\": [18, 28],\n",
    "    \"FLUX_RADIUS\": [0, 10],\n",
    "    \"log10_snr\": [0, 5],\n",
    "}\n",
    "tri = TriangleChain(ranges=ranges, params=list(ranges.keys()), fill=True, histograms_1D_density=False)\n",
    "tri.contour_cl(cat_ucat, label=\"intrinsic\");\n",
    "tri.contour_cl(cat_sextractor, label=\"measured\", show_legend=True);"
   ]
  },
  {
   "cell_type": "markdown",
   "id": "79b9d792",
   "metadata": {},
   "source": [
    "# Create an image"
   ]
  },
  {
   "cell_type": "markdown",
   "id": "d566524e",
   "metadata": {},
   "source": [
    "Running a realistic image simulation to compare with actual data (as it is done while constraining the galaxy population) requires a lot of work to correctly model the background and PSF for all real images. We give an example how to generate a simple image with constant PSF and background level. Note that the location of the image is not defined via a healpy map anymore but by defining the center of the image, the pixel scale and the number of pixels. We choose values for the image systematics that are represantative for HSC deep fields."
   ]
  },
  {
   "cell_type": "code",
   "execution_count": null,
   "id": "9a0457da",
   "metadata": {},
   "outputs": [],
   "source": [
    "model = GalSBI(\"Fischbacher+24\")\n",
    "model(mode=\"image\")"
   ]
  },
  {
   "cell_type": "markdown",
   "id": "e851ecaf",
   "metadata": {},
   "source": [
    "The image is save under `{catalog_name}_{model_index}_{band}_image.fits` but can also be loaded using `load_image` directly"
   ]
  },
  {
   "cell_type": "code",
   "execution_count": null,
   "id": "7671d0bf",
   "metadata": {},
   "outputs": [],
   "source": [
    "from astropy.visualization import ImageNormalize, LogStretch\n",
    "from astropy.visualization.mpl_normalize import ImageNormalize\n",
    "from astropy.visualization import ZScaleInterval, PercentileInterval\n",
    "import matplotlib.pyplot as plt\n",
    "\n",
    "images = model.load_images()\n",
    "image = images[\"image i\"]\n",
    "\n",
    "interval = PercentileInterval(99)\n",
    "vmin, vmax = interval.get_limits(image)\n",
    "norm = ImageNormalize(vmin=vmin, vmax=vmax)\n",
    "\n",
    "plt.imshow(image, cmap='gray', norm=norm)"
   ]
  },
  {
   "cell_type": "markdown",
   "id": "34508bb9",
   "metadata": {},
   "source": [
    "# Create an image and source extraction"
   ]
  },
  {
   "cell_type": "markdown",
   "id": "593e1759",
   "metadata": {},
   "source": [
    "After simulating the image, it is also possible to run `SExtractor` on the image. You then receive a catalog of intrinisic and measured quantities similar to the emulator case alongside the image and the background and segmentation map by `SExtractor`."
   ]
  },
  {
   "cell_type": "code",
   "execution_count": null,
   "id": "95cc6bd8",
   "metadata": {},
   "outputs": [],
   "source": [
    "model = GalSBI(\"Fischbacher+24\")\n",
    "model(mode=\"image+SE\")"
   ]
  },
  {
   "cell_type": "code",
   "execution_count": null,
   "id": "eb9a16d7",
   "metadata": {},
   "outputs": [],
   "source": [
    "images = model.load_images()\n",
    "image = images[\"image i\"]\n",
    "bkg = images[\"background i\"]\n",
    "seg = images[\"segmentation i\"]\n",
    "\n",
    "interval = PercentileInterval(95)\n",
    "vmin, vmax = interval.get_limits(image)\n",
    "norm = ImageNormalize(vmin=vmin, vmax=vmax)\n",
    "\n",
    "fig, axs = plt.subplots(1, 3, figsize=(9,3))\n",
    "axs[0].imshow(image, cmap='gray', norm=norm)\n",
    "axs[1].imshow(bkg)\n",
    "axs[2].imshow(seg!=0, cmap=\"Blues\")"
   ]
  },
  {
   "cell_type": "code",
   "execution_count": null,
   "id": "d33beb4e",
   "metadata": {},
   "outputs": [],
   "source": [
    "cats = model.load_catalogs()\n",
    "cat_ucat = cats[\"ucat galaxies i\"]\n",
    "cat_sextractor = cats[\"sextractor i\"]\n",
    "\n",
    "de_kwargs = {\n",
    "    \"smoothing_parameter1D\": 0.5,\n",
    "    \"smoothing_parameter2D\": 0.5,\n",
    "}\n",
    "\n",
    "ranges = {\n",
    "    \"mag\": [18, 28],\n",
    "    \"r50\": [0, 4],\n",
    "    \"sersic_n\": [0, 5],\n",
    "    \"z\": [0, 6],\n",
    "    \"MAG_AUTO\": [18, 28],\n",
    "    \"FLUX_RADIUS\": [0, 10],\n",
    "}\n",
    "tri = TriangleChain(ranges=ranges, params=list(ranges.keys()), fill=True, histograms_1D_density=False, de_kwargs=de_kwargs)\n",
    "tri.contour_cl(cat_ucat, label=\"intrinsic\");\n",
    "tri.contour_cl(cat_sextractor, label=\"measured\", show_legend=True);"
   ]
  },
  {
   "cell_type": "markdown",
   "id": "8cae9974",
   "metadata": {},
   "source": [
    "# Custom config file"
   ]
  },
  {
   "cell_type": "markdown",
   "id": "6521687e",
   "metadata": {},
   "source": [
    "`galsbi` is highly customizable. An overview of parameters that can be passed to `ucat` or `ufig` can be found in the corresponding common files. Each of these parameters can either be passed as an argument to the call of the model or a completely new config file can be passed. We advice to use the existing config files of the corresponding galaxy population models as a template. In this config files it is clearly stated which parameters should not be changed when using this galaxy population model (e.g. the parametrization of the luminosity function because this changes the meaning of the parameters of the galaxy population model).\n",
    "\n",
    "The config file can be passed as a path or a module. Below we show an example where we load the basic intrinsic config file using both versions."
   ]
  },
  {
   "cell_type": "code",
   "execution_count": null,
   "id": "2f5b1707",
   "metadata": {},
   "outputs": [],
   "source": [
    "import galsbi\n",
    "import os\n",
    "\n",
    "\n",
    "path2config = os.path.join(galsbi.__path__[0], \"configs/config_Fischbacher+24_intrinsic.py\")\n",
    "model = GalSBI(\"Fischbacher+24\")\n",
    "model(mode=\"config_file\", config_file=path2config)\n",
    "\n",
    "config_module = \"galsbi.configs.config_Fischbacher+24_intrinsic\"\n",
    "model = GalSBI(\"Fischbacher+24\")\n",
    "model(mode=\"config_file\", config_file=config_module)"
   ]
  },
  {
   "cell_type": "code",
   "execution_count": null,
   "id": "694bcf6a",
   "metadata": {},
   "outputs": [],
   "source": []
  }
 ],
 "metadata": {
  "kernelspec": {
   "display_name": "GalSBI cpvn",
   "language": "python",
   "name": "galsbi-cpvn"
  },
  "language_info": {
   "codemirror_mode": {
    "name": "ipython",
    "version": 3
   },
   "file_extension": ".py",
   "mimetype": "text/x-python",
   "name": "python",
   "nbconvert_exporter": "python",
   "pygments_lexer": "ipython3",
   "version": "3.12.6"
  },
  "toc": {
   "base_numbering": 1,
   "nav_menu": {},
   "number_sections": true,
   "sideBar": true,
   "skip_h1_title": false,
   "title_cell": "Table of Contents",
   "title_sidebar": "Contents",
   "toc_cell": false,
   "toc_position": {},
   "toc_section_display": true,
   "toc_window_display": false
  }
 },
 "nbformat": 4,
 "nbformat_minor": 5
}
