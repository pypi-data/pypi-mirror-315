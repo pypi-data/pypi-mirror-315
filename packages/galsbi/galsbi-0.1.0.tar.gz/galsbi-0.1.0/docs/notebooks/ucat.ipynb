{
 "cells": [
  {
   "cell_type": "markdown",
   "id": "7119c712",
   "metadata": {},
   "source": [
    "ucat generates a catalog of galaxies using the ivy workflow engine. We are describing here how to use galsbi.ucat."
   ]
  },
  {
   "cell_type": "markdown",
   "id": "87b93be2",
   "metadata": {},
   "source": [
    "# Running pluings directly"
   ]
  },
  {
   "cell_type": "markdown",
   "id": "cbfdbc55",
   "metadata": {},
   "source": [
    "The most straightforward way to create a galaxy catalog is by running the corresponding ucat plugin directly. First, we need to build the context of the simulation. We load the default values from the galsbi.ucat.config.common module and assign the correct file paths to others."
   ]
  },
  {
   "cell_type": "code",
   "execution_count": 7,
   "id": "84d2fad6",
   "metadata": {},
   "outputs": [],
   "source": [
    "par = ctx.parameters"
   ]
  },
  {
   "cell_type": "code",
   "execution_count": 10,
   "id": "6317b964",
   "metadata": {},
   "outputs": [
    {
     "data": {
      "text/plain": [
       "{'B': 'SuprimeCam_B',\n",
       " 'g': 'HSC_g',\n",
       " 'r': 'HSC_r2',\n",
       " 'i': 'HSC_i2',\n",
       " 'z': 'HSC_z',\n",
       " 'y': 'HSC_y'}"
      ]
     },
     "execution_count": 10,
     "metadata": {},
     "output_type": "execute_result"
    }
   ],
   "source": [
    "par.filters_full_names"
   ]
  },
  {
   "cell_type": "code",
   "execution_count": 12,
   "id": "65ceb5e8",
   "metadata": {},
   "outputs": [],
   "source": [
    "import ivy\n",
    "import os\n",
    "from cosmo_torrent import data_path\n",
    "\n",
    "ctx = ivy.context.create_ctx(\n",
    "    parameters=ivy.load_configs(\"galsbi.ucat.config.common\")\n",
    ")\n",
    "\n",
    "# integrations tables, templates, filters and extinction files\n",
    "ctx.parameters.template_file_name = os.path.join(data_path(\"template_BlantonRoweis07\"), \"template_spectra_BlantonRoweis07.h5\")\n",
    "ctx.parameters.filters_file_name = os.path.join(\n",
    "    data_path(\"HSC_tables\"), \"HSC_filters_collection_yfix.h5\"\n",
    ")\n",
    "ctx.parameters.templates_file_name = os.path.join(\n",
    "    data_path(\"template_BlantonRoweis07\"), \"template_spectra_BlantonRoweis07.h5\"\n",
    ")\n",
    "ctx.parameters.extinction_map_file_name = os.path.join(\n",
    "    data_path(\"lambda_sfd_ebv\"), \"lambda_sfd_ebv.fits\"\n",
    ")\n",
    "ctx.parameters.templates_int_tables_file_name = os.path.join(\n",
    "    data_path(\"HSC_tables\"), \"HSC_template_integrals_yfix.h5\"\n",
    ")\n",
    "\n",
    "ctx.parameters.filters_full_names[\"i\"] = \"SuprimeCam_IA679\""
   ]
  },
  {
   "cell_type": "code",
   "execution_count": null,
   "id": "04817394",
   "metadata": {},
   "outputs": [],
   "source": []
  },
  {
   "cell_type": "code",
   "execution_count": 13,
   "id": "b76c99ef",
   "metadata": {},
   "outputs": [
    {
     "name": "stdout",
     "output_type": "stream",
     "text": [
      "[main]\n",
      "model = LCDM\n",
      "core_equations_files = ['/Users/silvanfischbacher/miniforge3/envs/galsbi-cpvn/lib/python3.12/site-packages/PyCosmo/CosmologyCore.py']\n",
      "compilation_flags = -O3\n",
      "default_ini_file = config/default_lcdm.ini\n",
      "\n",
      "[equation_parameters]\n",
      "l_max = 20\n",
      "splits = None\n",
      "reorder = True\n",
      "cache hit at /Users/silvanfischbacher/Library/Cache/PyCosmo/macosx-11.0-arm64/2_2_0/2_2_4__9bfe33.pkl\n",
      "load wrapper from /Users/silvanfischbacher/Library/Cache/sympy2c/macosx-11.0-arm64/2_2_4__np_1_26_4/1db8b055_fc3ec\n",
      "Parameters updated\n",
      "24-12-11 11:59:39 sample_gal INF   Sampling galaxies based on RA/DEC and pixel scale \n"
     ]
    },
    {
     "ename": "KeyError",
     "evalue": "\"Unable to open object (object 'IA679' doesn't exist)\"",
     "output_type": "error",
     "traceback": [
      "\u001b[0;31m---------------------------------------------------------------------------\u001b[0m",
      "\u001b[0;31mKeyError\u001b[0m                                  Traceback (most recent call last)",
      "Cell \u001b[0;32mIn[13], line 4\u001b[0m\n\u001b[1;32m      1\u001b[0m \u001b[38;5;28;01mfrom\u001b[39;00m \u001b[38;5;21;01mgalsbi\u001b[39;00m\u001b[38;5;21;01m.\u001b[39;00m\u001b[38;5;21;01mucat\u001b[39;00m\u001b[38;5;21;01m.\u001b[39;00m\u001b[38;5;21;01mplugins\u001b[39;00m \u001b[38;5;28;01mimport\u001b[39;00m sample_galaxies\n\u001b[1;32m      3\u001b[0m plugin \u001b[38;5;241m=\u001b[39m sample_galaxies\u001b[38;5;241m.\u001b[39mPlugin(ctx)\n\u001b[0;32m----> 4\u001b[0m \u001b[43mplugin\u001b[49m\u001b[43m(\u001b[49m\u001b[43m)\u001b[49m\n",
      "File \u001b[0;32m~/repos/galsbi/src/galsbi/ucat/plugins/sample_galaxies.py:23\u001b[0m, in \u001b[0;36mPlugin.__call__\u001b[0;34m(self)\u001b[0m\n\u001b[1;32m     18\u001b[0m \u001b[38;5;28;01mfrom\u001b[39;00m \u001b[38;5;21;01mgalsbi\u001b[39;00m\u001b[38;5;21;01m.\u001b[39;00m\u001b[38;5;21;01mucat\u001b[39;00m\u001b[38;5;21;01m.\u001b[39;00m\u001b[38;5;21;01mplugins\u001b[39;00m\u001b[38;5;21;01m.\u001b[39;00m\u001b[38;5;21;01msample_galaxies_morph\u001b[39;00m \u001b[38;5;28;01mimport\u001b[39;00m \\\n\u001b[1;32m     19\u001b[0m     Plugin \u001b[38;5;28;01mas\u001b[39;00m PluginMorph\n\u001b[1;32m     20\u001b[0m \u001b[38;5;28;01mfrom\u001b[39;00m \u001b[38;5;21;01mgalsbi\u001b[39;00m\u001b[38;5;21;01m.\u001b[39;00m\u001b[38;5;21;01mucat\u001b[39;00m\u001b[38;5;21;01m.\u001b[39;00m\u001b[38;5;21;01mplugins\u001b[39;00m\u001b[38;5;21;01m.\u001b[39;00m\u001b[38;5;21;01msample_galaxies_photo\u001b[39;00m \u001b[38;5;28;01mimport\u001b[39;00m \\\n\u001b[1;32m     21\u001b[0m     Plugin \u001b[38;5;28;01mas\u001b[39;00m PluginPhoto\n\u001b[0;32m---> 23\u001b[0m \u001b[43mPluginPhoto\u001b[49m\u001b[43m(\u001b[49m\u001b[38;5;28;43mself\u001b[39;49m\u001b[38;5;241;43m.\u001b[39;49m\u001b[43mctx\u001b[49m\u001b[43m)\u001b[49m\u001b[43m(\u001b[49m\u001b[43m)\u001b[49m\n\u001b[1;32m     24\u001b[0m PluginMorph(\u001b[38;5;28mself\u001b[39m\u001b[38;5;241m.\u001b[39mctx)()\n",
      "File \u001b[0;32m~/repos/galsbi/src/galsbi/ucat/plugins/sample_galaxies_photo.py:216\u001b[0m, in \u001b[0;36mPlugin.__call__\u001b[0;34m(self)\u001b[0m\n\u001b[1;32m    209\u001b[0m     warnings\u001b[38;5;241m.\u001b[39mwarn(\n\u001b[1;32m    210\u001b[0m         \u001b[38;5;124m\"\u001b[39m\u001b[38;5;124msetting filters to default, this will cause problems if you work\u001b[39m\u001b[38;5;124m\"\u001b[39m\n\u001b[1;32m    211\u001b[0m         \u001b[38;5;124m\"\u001b[39m\u001b[38;5;124m with filters from different cameras in the same band\u001b[39m\u001b[38;5;124m\"\u001b[39m,\n\u001b[1;32m    212\u001b[0m         stacklevel\u001b[38;5;241m=\u001b[39m\u001b[38;5;241m1\u001b[39m,\n\u001b[1;32m    213\u001b[0m     )\n\u001b[1;32m    215\u001b[0m \u001b[38;5;66;03m# get magnitude calculators (reload cache to avoid memory leaks and save memory)\u001b[39;00m\n\u001b[0;32m--> 216\u001b[0m mag_calc \u001b[38;5;241m=\u001b[39m \u001b[43mMAGNITUDES_CALCULATOR\u001b[49m\u001b[43m[\u001b[49m\u001b[43mpar\u001b[49m\u001b[38;5;241;43m.\u001b[39;49m\u001b[43mmagnitude_calculation\u001b[49m\u001b[43m]\u001b[49m\u001b[43m(\u001b[49m\n\u001b[1;32m    217\u001b[0m \u001b[43m    \u001b[49m\u001b[43mfilter_names\u001b[49m\u001b[38;5;241;43m=\u001b[39;49m\u001b[43mall_filters\u001b[49m\u001b[43m,\u001b[49m\u001b[43m \u001b[49m\u001b[43mpar\u001b[49m\u001b[38;5;241;43m=\u001b[39;49m\u001b[43mpar\u001b[49m\n\u001b[1;32m    218\u001b[0m \u001b[43m\u001b[49m\u001b[43m)\u001b[49m\n\u001b[1;32m    219\u001b[0m n_templates \u001b[38;5;241m=\u001b[39m mag_calc\u001b[38;5;241m.\u001b[39mn_templates\n\u001b[1;32m    220\u001b[0m \u001b[38;5;66;03m# Cut in z - M - plane & boundaries\u001b[39;00m\n",
      "File \u001b[0;32m~/repos/galsbi/src/galsbi/ucat/plugins/sample_galaxies_photo.py:108\u001b[0m, in \u001b[0;36mget_magnitude_calculator_table\u001b[0;34m(filter_names, par)\u001b[0m\n\u001b[1;32m    103\u001b[0m filter_full_names \u001b[38;5;241m=\u001b[39m [par\u001b[38;5;241m.\u001b[39mfilters_full_names[f] \u001b[38;5;28;01mfor\u001b[39;00m f \u001b[38;5;129;01min\u001b[39;00m filter_names]\n\u001b[1;32m    105\u001b[0m \u001b[38;5;28;01mfrom\u001b[39;00m \u001b[38;5;21;01mgalsbi\u001b[39;00m\u001b[38;5;21;01m.\u001b[39;00m\u001b[38;5;21;01mucat\u001b[39;00m\u001b[38;5;21;01m.\u001b[39;00m\u001b[38;5;21;01mmagnitude_calculator\u001b[39;00m \u001b[38;5;28;01mimport\u001b[39;00m MagCalculatorTable\n\u001b[1;32m    107\u001b[0m \u001b[38;5;28;01mreturn\u001b[39;00m UseShortFilterNames(\n\u001b[0;32m--> 108\u001b[0m     \u001b[43mMagCalculatorTable\u001b[49m\u001b[43m(\u001b[49m\n\u001b[1;32m    109\u001b[0m \u001b[43m        \u001b[49m\u001b[43mfilter_full_names\u001b[49m\u001b[43m,\u001b[49m\n\u001b[1;32m    110\u001b[0m \u001b[43m        \u001b[49m\u001b[43mfilepath_sed_integ\u001b[49m\u001b[43m,\u001b[49m\n\u001b[1;32m    111\u001b[0m \u001b[43m        \u001b[49m\u001b[43mcopy_to_cwd\u001b[49m\u001b[38;5;241;43m=\u001b[39;49m\u001b[43mpar\u001b[49m\u001b[38;5;241;43m.\u001b[39;49m\u001b[43mcopy_template_int_tables_to_cwd\u001b[49m\u001b[43m,\u001b[49m\n\u001b[1;32m    112\u001b[0m \u001b[43m    \u001b[49m\u001b[43m)\u001b[49m,\n\u001b[1;32m    113\u001b[0m     par\u001b[38;5;241m.\u001b[39mfilters_full_names,\n\u001b[1;32m    114\u001b[0m )\n",
      "File \u001b[0;32m~/repos/galsbi/src/galsbi/ucat/magnitude_calculator.py:130\u001b[0m, in \u001b[0;36mMagCalculatorTable.__init__\u001b[0;34m(self, filter_names, filepath_sed_integrals, reload_cache, copy_to_cwd)\u001b[0m\n\u001b[1;32m    107\u001b[0m \u001b[38;5;28;01mdef\u001b[39;00m \u001b[38;5;21m__init__\u001b[39m(\n\u001b[1;32m    108\u001b[0m     \u001b[38;5;28mself\u001b[39m,\n\u001b[1;32m    109\u001b[0m     filter_names,\n\u001b[0;32m   (...)\u001b[0m\n\u001b[1;32m    113\u001b[0m ):\n\u001b[1;32m    114\u001b[0m     \u001b[38;5;66;03m# TODO: check if this cache helped at all and if it did, fix the memory leak\u001b[39;00m\n\u001b[1;32m    115\u001b[0m \u001b[38;5;250m    \u001b[39m\u001b[38;5;124;03m\"\"\"\u001b[39;00m\n\u001b[1;32m    116\u001b[0m \u001b[38;5;124;03m    if reload_cache:\u001b[39;00m\n\u001b[1;32m    117\u001b[0m \u001b[38;5;124;03m        for key in TEMPL_INTEGRALS_CACHE.keys():\u001b[39;00m\n\u001b[0;32m   (...)\u001b[0m\n\u001b[1;32m    128\u001b[0m \n\u001b[1;32m    129\u001b[0m \u001b[38;5;124;03m    \"\"\"\u001b[39;00m\n\u001b[0;32m--> 130\u001b[0m     \u001b[38;5;28mself\u001b[39m\u001b[38;5;241m.\u001b[39mtemplates_int_table_dict \u001b[38;5;241m=\u001b[39m \u001b[43msed_templates_util\u001b[49m\u001b[38;5;241;43m.\u001b[39;49m\u001b[43mload_sed_integrals\u001b[49m\u001b[43m(\u001b[49m\n\u001b[1;32m    131\u001b[0m \u001b[43m        \u001b[49m\u001b[43mfilepath_sed_integrals\u001b[49m\u001b[43m,\u001b[49m\n\u001b[1;32m    132\u001b[0m \u001b[43m        \u001b[49m\u001b[43mfilter_names\u001b[49m\u001b[43m,\u001b[49m\n\u001b[1;32m    133\u001b[0m \u001b[43m        \u001b[49m\u001b[43mcrop_negative\u001b[49m\u001b[38;5;241;43m=\u001b[39;49m\u001b[38;5;28;43;01mTrue\u001b[39;49;00m\u001b[43m,\u001b[49m\n\u001b[1;32m    134\u001b[0m \u001b[43m        \u001b[49m\u001b[43msed_templates\u001b[49m\u001b[38;5;241;43m=\u001b[39;49m\u001b[38;5;28;43;01mNone\u001b[39;49;00m\u001b[43m,\u001b[49m\n\u001b[1;32m    135\u001b[0m \u001b[43m        \u001b[49m\u001b[43mcopy_to_cwd\u001b[49m\u001b[38;5;241;43m=\u001b[39;49m\u001b[43mcopy_to_cwd\u001b[49m\u001b[43m,\u001b[49m\n\u001b[1;32m    136\u001b[0m \u001b[43m    \u001b[49m\u001b[43m)\u001b[49m\n\u001b[1;32m    137\u001b[0m     \u001b[38;5;28mself\u001b[39m\u001b[38;5;241m.\u001b[39mz_grid \u001b[38;5;241m=\u001b[39m \u001b[38;5;28mself\u001b[39m\u001b[38;5;241m.\u001b[39mtemplates_int_table_dict\u001b[38;5;241m.\u001b[39mz_grid\n\u001b[1;32m    138\u001b[0m     \u001b[38;5;28mself\u001b[39m\u001b[38;5;241m.\u001b[39mexcess_b_v_grid \u001b[38;5;241m=\u001b[39m \u001b[38;5;28mself\u001b[39m\u001b[38;5;241m.\u001b[39mtemplates_int_table_dict\u001b[38;5;241m.\u001b[39mexcess_b_v_grid\n",
      "File \u001b[0;32m~/repos/galsbi/src/galsbi/ucat/sed_templates_util.py:167\u001b[0m, in \u001b[0;36mload_sed_integrals\u001b[0;34m(filepath_sed_integ, filter_names, crop_negative, sed_templates, copy_to_cwd)\u001b[0m\n\u001b[1;32m    162\u001b[0m filter_name_use \u001b[38;5;241m=\u001b[39m filter_name_back_compatibility(\n\u001b[1;32m    163\u001b[0m     filter_name, f[\u001b[38;5;124m\"\u001b[39m\u001b[38;5;124mintegrals\u001b[39m\u001b[38;5;124m\"\u001b[39m]\n\u001b[1;32m    164\u001b[0m )\n\u001b[1;32m    165\u001b[0m sed_templates[filter_name_use] \u001b[38;5;241m=\u001b[39m []\n\u001b[0;32m--> 167\u001b[0m n_templ \u001b[38;5;241m=\u001b[39m \u001b[38;5;28mlen\u001b[39m(\u001b[43mf\u001b[49m\u001b[43m[\u001b[49m\u001b[38;5;124;43m\"\u001b[39;49m\u001b[38;5;124;43mintegrals\u001b[39;49m\u001b[38;5;124;43m\"\u001b[39;49m\u001b[43m]\u001b[49m\u001b[43m[\u001b[49m\u001b[43mfilter_name_use\u001b[49m\u001b[43m]\u001b[49m\u001b[38;5;241m.\u001b[39mkeys())\n\u001b[1;32m    169\u001b[0m \u001b[38;5;28;01mfor\u001b[39;00m i \u001b[38;5;129;01min\u001b[39;00m \u001b[38;5;28mrange\u001b[39m(n_templ):\n\u001b[1;32m    170\u001b[0m     int_templ \u001b[38;5;241m=\u001b[39m np\u001b[38;5;241m.\u001b[39marray(\n\u001b[1;32m    171\u001b[0m         f[\u001b[38;5;124m\"\u001b[39m\u001b[38;5;124mintegrals\u001b[39m\u001b[38;5;124m\"\u001b[39m][filter_name_use][\u001b[38;5;124mf\u001b[39m\u001b[38;5;124m\"\u001b[39m\u001b[38;5;124mtemplate_\u001b[39m\u001b[38;5;132;01m{\u001b[39;00mi\u001b[38;5;132;01m}\u001b[39;00m\u001b[38;5;124m\"\u001b[39m]\n\u001b[1;32m    172\u001b[0m     )\n",
      "File \u001b[0;32mh5py/_objects.pyx:54\u001b[0m, in \u001b[0;36mh5py._objects.with_phil.wrapper\u001b[0;34m()\u001b[0m\n",
      "File \u001b[0;32mh5py/_objects.pyx:55\u001b[0m, in \u001b[0;36mh5py._objects.with_phil.wrapper\u001b[0;34m()\u001b[0m\n",
      "File \u001b[0;32m~/miniforge3/envs/galsbi-cpvn/lib/python3.12/site-packages/h5py/_hl/group.py:357\u001b[0m, in \u001b[0;36mGroup.__getitem__\u001b[0;34m(self, name)\u001b[0m\n\u001b[1;32m    355\u001b[0m         \u001b[38;5;28;01mraise\u001b[39;00m \u001b[38;5;167;01mValueError\u001b[39;00m(\u001b[38;5;124m\"\u001b[39m\u001b[38;5;124mInvalid HDF5 object reference\u001b[39m\u001b[38;5;124m\"\u001b[39m)\n\u001b[1;32m    356\u001b[0m \u001b[38;5;28;01melif\u001b[39;00m \u001b[38;5;28misinstance\u001b[39m(name, (\u001b[38;5;28mbytes\u001b[39m, \u001b[38;5;28mstr\u001b[39m)):\n\u001b[0;32m--> 357\u001b[0m     oid \u001b[38;5;241m=\u001b[39m \u001b[43mh5o\u001b[49m\u001b[38;5;241;43m.\u001b[39;49m\u001b[43mopen\u001b[49m\u001b[43m(\u001b[49m\u001b[38;5;28;43mself\u001b[39;49m\u001b[38;5;241;43m.\u001b[39;49m\u001b[43mid\u001b[49m\u001b[43m,\u001b[49m\u001b[43m \u001b[49m\u001b[38;5;28;43mself\u001b[39;49m\u001b[38;5;241;43m.\u001b[39;49m\u001b[43m_e\u001b[49m\u001b[43m(\u001b[49m\u001b[43mname\u001b[49m\u001b[43m)\u001b[49m\u001b[43m,\u001b[49m\u001b[43m \u001b[49m\u001b[43mlapl\u001b[49m\u001b[38;5;241;43m=\u001b[39;49m\u001b[38;5;28;43mself\u001b[39;49m\u001b[38;5;241;43m.\u001b[39;49m\u001b[43m_lapl\u001b[49m\u001b[43m)\u001b[49m\n\u001b[1;32m    358\u001b[0m \u001b[38;5;28;01melse\u001b[39;00m:\n\u001b[1;32m    359\u001b[0m     \u001b[38;5;28;01mraise\u001b[39;00m \u001b[38;5;167;01mTypeError\u001b[39;00m(\u001b[38;5;124m\"\u001b[39m\u001b[38;5;124mAccessing a group is done with bytes or str, \u001b[39m\u001b[38;5;124m\"\u001b[39m\n\u001b[1;32m    360\u001b[0m                     \u001b[38;5;124m\"\u001b[39m\u001b[38;5;124mnot \u001b[39m\u001b[38;5;132;01m{}\u001b[39;00m\u001b[38;5;124m\"\u001b[39m\u001b[38;5;241m.\u001b[39mformat(\u001b[38;5;28mtype\u001b[39m(name)))\n",
      "File \u001b[0;32mh5py/_objects.pyx:54\u001b[0m, in \u001b[0;36mh5py._objects.with_phil.wrapper\u001b[0;34m()\u001b[0m\n",
      "File \u001b[0;32mh5py/_objects.pyx:55\u001b[0m, in \u001b[0;36mh5py._objects.with_phil.wrapper\u001b[0;34m()\u001b[0m\n",
      "File \u001b[0;32mh5py/h5o.pyx:257\u001b[0m, in \u001b[0;36mh5py.h5o.open\u001b[0;34m()\u001b[0m\n",
      "\u001b[0;31mKeyError\u001b[0m: \"Unable to open object (object 'IA679' doesn't exist)\""
     ]
    }
   ],
   "source": [
    "from galsbi.ucat.plugins import sample_galaxies\n",
    "\n",
    "plugin = sample_galaxies.Plugin(ctx)\n",
    "plugin()"
   ]
  },
  {
   "cell_type": "markdown",
   "id": "5aff5b67",
   "metadata": {},
   "source": [
    "The context contains now a galaxy catalog with parameters such as redshift or apparent magnitudes for different bands. Note that the hard cut in the i-band magnitude comes from the fact that a cut in the i-band is performed when sampling"
   ]
  },
  {
   "cell_type": "code",
   "execution_count": 3,
   "id": "51fc9d62",
   "metadata": {},
   "outputs": [
    {
     "data": {
      "image/png": "[encoded data removed]",
      "text/plain": [
       "<Figure size 300x200 with 1 Axes>"
      ]
     },
     "metadata": {},
     "output_type": "display_data"
    },
    {
     "data": {
      "image/png": "[encoded data removed]",
      "text/plain": [
       "<Figure size 600x200 with 3 Axes>"
      ]
     },
     "metadata": {},
     "output_type": "display_data"
    }
   ],
   "source": [
    "import matplotlib.pyplot as plt\n",
    "from cosmic_toolbox.colors import set_cycle\n",
    "set_cycle()\n",
    "\n",
    "plt.figure(figsize=(3,2))\n",
    "plt.hist(ctx.galaxies.z, bins=100)\n",
    "plt.xlabel(\"$z$\")\n",
    "plt.show()\n",
    "\n",
    "fig, axs = plt.subplots(1,3, figsize=(6,2), sharex=True, sharey=True)\n",
    "axs[0].hist(ctx.galaxies.int_magnitude_dict[\"g\"], bins=100)\n",
    "axs[0].set_xlabel(\"mag g\")\n",
    "axs[1].hist(ctx.galaxies.int_magnitude_dict[\"r\"], bins=100)\n",
    "axs[1].set_xlabel(\"mag r\")\n",
    "axs[2].hist(ctx.galaxies.int_magnitude_dict[\"i\"], bins=100)\n",
    "axs[2].set_xlabel(\"mag i\");"
   ]
  },
  {
   "cell_type": "markdown",
   "id": "ecdf9db0",
   "metadata": {},
   "source": [
    "# Running from config files"
   ]
  },
  {
   "cell_type": "markdown",
   "id": "c11c60ba",
   "metadata": {},
   "source": [
    "## Basic example "
   ]
  },
  {
   "cell_type": "markdown",
   "id": "e715c735",
   "metadata": {},
   "source": [
    "Especially if the pipelines become more complex, it might be easier to generate a config file and run this config file. The script from above would look like this if you setup a config file: basic_example_config.py"
   ]
  },
  {
   "cell_type": "markdown",
   "id": "84815e98",
   "metadata": {},
   "source": [
    "Running this config file is then done by using ivy.execute command. The resulting galaxy distribution is the same as above."
   ]
  },
  {
   "cell_type": "code",
   "execution_count": 4,
   "id": "6441ec7c",
   "metadata": {},
   "outputs": [
    {
     "ename": "ModuleNotFoundError",
     "evalue": "No module named 'ucat'",
     "output_type": "error",
     "traceback": [
      "\u001b[0;31m---------------------------------------------------------------------------\u001b[0m",
      "\u001b[0;31mModuleNotFoundError\u001b[0m                       Traceback (most recent call last)",
      "Cell \u001b[0;32mIn[4], line 1\u001b[0m\n\u001b[0;32m----> 1\u001b[0m ctx \u001b[38;5;241m=\u001b[39m \u001b[43mivy\u001b[49m\u001b[38;5;241;43m.\u001b[39;49m\u001b[43mexecute\u001b[49m\u001b[43m(\u001b[49m\u001b[38;5;124;43m\"\u001b[39;49m\u001b[38;5;124;43mbasic_example_config\u001b[39;49m\u001b[38;5;124;43m\"\u001b[39;49m\u001b[43m)\u001b[49m\n\u001b[1;32m      3\u001b[0m plt\u001b[38;5;241m.\u001b[39mfigure(figsize\u001b[38;5;241m=\u001b[39m(\u001b[38;5;241m3\u001b[39m,\u001b[38;5;241m2\u001b[39m))\n\u001b[1;32m      4\u001b[0m plt\u001b[38;5;241m.\u001b[39mhist(ctx\u001b[38;5;241m.\u001b[39mgalaxies\u001b[38;5;241m.\u001b[39mz, bins\u001b[38;5;241m=\u001b[39m\u001b[38;5;241m100\u001b[39m)\n",
      "File \u001b[0;32m~/miniforge3/envs/galsbi-cpvn/lib/python3.12/site-packages/ivy/__init__.py:33\u001b[0m, in \u001b[0;36mexecute\u001b[0;34m(args, **kwargs)\u001b[0m\n\u001b[1;32m     25\u001b[0m \u001b[38;5;28;01mdef\u001b[39;00m \u001b[38;5;21mexecute\u001b[39m(args, \u001b[38;5;241m*\u001b[39m\u001b[38;5;241m*\u001b[39mkwargs):\n\u001b[1;32m     26\u001b[0m \u001b[38;5;250m    \u001b[39m\u001b[38;5;124;03m\"\"\"\u001b[39;00m\n\u001b[1;32m     27\u001b[0m \u001b[38;5;124;03m    Runs a workflow for the given arguments.\u001b[39;00m\n\u001b[1;32m     28\u001b[0m \u001b[38;5;124;03m    :param args: list of arguments which should be passed to ivy. The last argument has to be the config. Can also be a\u001b[39;00m\n\u001b[0;32m   (...)\u001b[0m\n\u001b[1;32m     31\u001b[0m \u001b[38;5;124;03m    :returns: the context of the workflow\u001b[39;00m\n\u001b[1;32m     32\u001b[0m \u001b[38;5;124;03m    \"\"\"\u001b[39;00m\n\u001b[0;32m---> 33\u001b[0m     mgr \u001b[38;5;241m=\u001b[39m \u001b[43mWorkflowManager\u001b[49m\u001b[43m(\u001b[49m\u001b[43margs\u001b[49m\u001b[43m,\u001b[49m\u001b[43m \u001b[49m\u001b[38;5;241;43m*\u001b[39;49m\u001b[38;5;241;43m*\u001b[39;49m\u001b[43mkwargs\u001b[49m\u001b[43m)\u001b[49m\n\u001b[1;32m     34\u001b[0m     mgr\u001b[38;5;241m.\u001b[39mlaunch()\n\u001b[1;32m     35\u001b[0m     \u001b[38;5;28;01mreturn\u001b[39;00m mgr\u001b[38;5;241m.\u001b[39mctx\n",
      "File \u001b[0;32m~/miniforge3/envs/galsbi-cpvn/lib/python3.12/site-packages/ivy/workflow_manager.py:36\u001b[0m, in \u001b[0;36mWorkflowManager.__init__\u001b[0;34m(self, argv, **kwargs)\u001b[0m\n\u001b[1;32m     32\u001b[0m \u001b[38;5;28;01mdef\u001b[39;00m \u001b[38;5;21m__init__\u001b[39m(\u001b[38;5;28mself\u001b[39m, argv, \u001b[38;5;241m*\u001b[39m\u001b[38;5;241m*\u001b[39mkwargs):\n\u001b[1;32m     33\u001b[0m \u001b[38;5;250m    \u001b[39m\u001b[38;5;124;03m\"\"\"\u001b[39;00m\n\u001b[1;32m     34\u001b[0m \u001b[38;5;124;03m    Constructor\u001b[39;00m\n\u001b[1;32m     35\u001b[0m \u001b[38;5;124;03m    \"\"\"\u001b[39;00m\n\u001b[0;32m---> 36\u001b[0m     \u001b[38;5;28;43mself\u001b[39;49m\u001b[38;5;241;43m.\u001b[39;49m\u001b[43m_setup\u001b[49m\u001b[43m(\u001b[49m\u001b[43margv\u001b[49m\u001b[43m,\u001b[49m\u001b[43m \u001b[49m\u001b[38;5;241;43m*\u001b[39;49m\u001b[38;5;241;43m*\u001b[39;49m\u001b[43mkwargs\u001b[49m\u001b[43m)\u001b[49m\n",
      "File \u001b[0;32m~/miniforge3/envs/galsbi-cpvn/lib/python3.12/site-packages/ivy/workflow_manager.py:40\u001b[0m, in \u001b[0;36mWorkflowManager._setup\u001b[0;34m(self, argv, **kwargs)\u001b[0m\n\u001b[1;32m     38\u001b[0m \u001b[38;5;28;01mdef\u001b[39;00m \u001b[38;5;21m_setup\u001b[39m(\u001b[38;5;28mself\u001b[39m, argv, \u001b[38;5;241m*\u001b[39m\u001b[38;5;241m*\u001b[39mkwargs):\n\u001b[0;32m---> 40\u001b[0m     config \u001b[38;5;241m=\u001b[39m \u001b[38;5;28;43mself\u001b[39;49m\u001b[38;5;241;43m.\u001b[39;49m\u001b[43m_parse_args\u001b[49m\u001b[43m(\u001b[49m\u001b[43margv\u001b[49m\u001b[43m,\u001b[49m\u001b[43m \u001b[49m\u001b[38;5;241;43m*\u001b[39;49m\u001b[38;5;241;43m*\u001b[39;49m\u001b[43mkwargs\u001b[49m\u001b[43m)\u001b[49m\n\u001b[1;32m     42\u001b[0m     \u001b[38;5;28;01mif\u001b[39;00m PLUGINS_KEY \u001b[38;5;129;01mnot\u001b[39;00m \u001b[38;5;129;01min\u001b[39;00m config:\n\u001b[1;32m     43\u001b[0m         \u001b[38;5;28;01mraise\u001b[39;00m InvalidAttributeException(\u001b[38;5;124m\"\u001b[39m\u001b[38;5;124mplugins definition is missing\u001b[39m\u001b[38;5;124m\"\u001b[39m)\n",
      "File \u001b[0;32m~/miniforge3/envs/galsbi-cpvn/lib/python3.12/site-packages/ivy/workflow_manager.py:78\u001b[0m, in \u001b[0;36mWorkflowManager._parse_args\u001b[0;34m(self, argv, **kwargs)\u001b[0m\n\u001b[1;32m     76\u001b[0m     \u001b[38;5;28;01mreturn\u001b[39;00m config\n\u001b[1;32m     77\u001b[0m \u001b[38;5;28;01melse\u001b[39;00m:\n\u001b[0;32m---> 78\u001b[0m     config \u001b[38;5;241m=\u001b[39m \u001b[43mload_configs\u001b[49m\u001b[43m(\u001b[49m\u001b[43margv\u001b[49m\u001b[43m[\u001b[49m\u001b[38;5;241;43m-\u001b[39;49m\u001b[38;5;241;43m1\u001b[39;49m\u001b[43m]\u001b[49m\u001b[43m,\u001b[49m\u001b[43m \u001b[49m\u001b[38;5;241;43m*\u001b[39;49m\u001b[38;5;241;43m*\u001b[39;49m\u001b[43mkwargs\u001b[49m\u001b[43m)\u001b[49m\n\u001b[1;32m     80\u001b[0m \u001b[38;5;66;03m# overwrite parameters by command line options\u001b[39;00m\n\u001b[1;32m     81\u001b[0m optlist, positional \u001b[38;5;241m=\u001b[39m getopt(\n\u001b[1;32m     82\u001b[0m     argv, \u001b[38;5;124m\"\u001b[39m\u001b[38;5;124m\"\u001b[39m, [name\u001b[38;5;241m.\u001b[39mreplace(\u001b[38;5;124m\"\u001b[39m\u001b[38;5;124m_\u001b[39m\u001b[38;5;124m\"\u001b[39m, \u001b[38;5;124m\"\u001b[39m\u001b[38;5;124m-\u001b[39m\u001b[38;5;124m\"\u001b[39m) \u001b[38;5;241m+\u001b[39m \u001b[38;5;124m\"\u001b[39m\u001b[38;5;124m=\u001b[39m\u001b[38;5;124m\"\u001b[39m \u001b[38;5;28;01mfor\u001b[39;00m name \u001b[38;5;129;01min\u001b[39;00m config\u001b[38;5;241m.\u001b[39mkeys()]\n\u001b[1;32m     83\u001b[0m )\n",
      "File \u001b[0;32m~/miniforge3/envs/galsbi-cpvn/lib/python3.12/site-packages/ivy/workflow_manager.py:131\u001b[0m, in \u001b[0;36mload_configs\u001b[0;34m(configs, **kwargs)\u001b[0m\n\u001b[1;32m    129\u001b[0m args \u001b[38;5;241m=\u001b[39m {}\n\u001b[1;32m    130\u001b[0m \u001b[38;5;28;01mfor\u001b[39;00m config_name \u001b[38;5;129;01min\u001b[39;00m configs:\n\u001b[0;32m--> 131\u001b[0m     config \u001b[38;5;241m=\u001b[39m importlib\u001b[38;5;241m.\u001b[39mreload(\u001b[43mimportlib\u001b[49m\u001b[38;5;241;43m.\u001b[39;49m\u001b[43mimport_module\u001b[49m\u001b[43m(\u001b[49m\u001b[43mconfig_name\u001b[49m\u001b[43m)\u001b[49m)\n\u001b[1;32m    133\u001b[0m     attrs \u001b[38;5;241m=\u001b[39m []\n\u001b[1;32m    134\u001b[0m     \u001b[38;5;28;01mfor\u001b[39;00m name \u001b[38;5;129;01min\u001b[39;00m \u001b[38;5;28mdir\u001b[39m(config):\n",
      "File \u001b[0;32m~/miniforge3/envs/galsbi-cpvn/lib/python3.12/importlib/__init__.py:90\u001b[0m, in \u001b[0;36mimport_module\u001b[0;34m(name, package)\u001b[0m\n\u001b[1;32m     88\u001b[0m             \u001b[38;5;28;01mbreak\u001b[39;00m\n\u001b[1;32m     89\u001b[0m         level \u001b[38;5;241m+\u001b[39m\u001b[38;5;241m=\u001b[39m \u001b[38;5;241m1\u001b[39m\n\u001b[0;32m---> 90\u001b[0m \u001b[38;5;28;01mreturn\u001b[39;00m \u001b[43m_bootstrap\u001b[49m\u001b[38;5;241;43m.\u001b[39;49m\u001b[43m_gcd_import\u001b[49m\u001b[43m(\u001b[49m\u001b[43mname\u001b[49m\u001b[43m[\u001b[49m\u001b[43mlevel\u001b[49m\u001b[43m:\u001b[49m\u001b[43m]\u001b[49m\u001b[43m,\u001b[49m\u001b[43m \u001b[49m\u001b[43mpackage\u001b[49m\u001b[43m,\u001b[49m\u001b[43m \u001b[49m\u001b[43mlevel\u001b[49m\u001b[43m)\u001b[49m\n",
      "File \u001b[0;32m<frozen importlib._bootstrap>:1387\u001b[0m, in \u001b[0;36m_gcd_import\u001b[0;34m(name, package, level)\u001b[0m\n",
      "File \u001b[0;32m<frozen importlib._bootstrap>:1360\u001b[0m, in \u001b[0;36m_find_and_load\u001b[0;34m(name, import_)\u001b[0m\n",
      "File \u001b[0;32m<frozen importlib._bootstrap>:1331\u001b[0m, in \u001b[0;36m_find_and_load_unlocked\u001b[0;34m(name, import_)\u001b[0m\n",
      "File \u001b[0;32m<frozen importlib._bootstrap>:935\u001b[0m, in \u001b[0;36m_load_unlocked\u001b[0;34m(spec)\u001b[0m\n",
      "File \u001b[0;32m<frozen importlib._bootstrap_external>:995\u001b[0m, in \u001b[0;36mexec_module\u001b[0;34m(self, module)\u001b[0m\n",
      "File \u001b[0;32m<frozen importlib._bootstrap>:488\u001b[0m, in \u001b[0;36m_call_with_frames_removed\u001b[0;34m(f, *args, **kwds)\u001b[0m\n",
      "File \u001b[0;32m~/repos/galsbi/docs/notebooks/basic_example_config.py:3\u001b[0m\n\u001b[1;32m      1\u001b[0m \u001b[38;5;28;01mimport\u001b[39;00m \u001b[38;5;21;01mos\u001b[39;00m\n\u001b[0;32m----> 3\u001b[0m \u001b[38;5;28;01mimport\u001b[39;00m \u001b[38;5;21;01mucat\u001b[39;00m\n\u001b[1;32m      4\u001b[0m \u001b[38;5;28;01mfrom\u001b[39;00m \u001b[38;5;21;01mcosmo_torrent\u001b[39;00m \u001b[38;5;28;01mimport\u001b[39;00m data_path\n\u001b[1;32m      6\u001b[0m \u001b[38;5;66;03m# Import all common settings from ucat and ufig\u001b[39;00m\n",
      "\u001b[0;31mModuleNotFoundError\u001b[0m: No module named 'ucat'"
     ]
    }
   ],
   "source": [
    "ctx = ivy.execute(\"basic_example_config\")\n",
    "\n",
    "plt.figure(figsize=(3,2))\n",
    "plt.hist(ctx.galaxies.z, bins=100)\n",
    "plt.xlabel(\"$z$\")\n",
    "plt.show()\n",
    "\n",
    "fig, axs = plt.subplots(1,3, figsize=(6,2), sharex=True, sharey=True)\n",
    "axs[0].hist(ctx.galaxies.int_magnitude_dict[\"g\"], bins=100)\n",
    "axs[0].set_xlabel(\"mag g\")\n",
    "axs[1].hist(ctx.galaxies.int_magnitude_dict[\"r\"], bins=100)\n",
    "axs[1].set_xlabel(\"mag r\")\n",
    "axs[2].hist(ctx.galaxies.int_magnitude_dict[\"i\"], bins=100)\n",
    "axs[2].set_xlabel(\"mag i\");"
   ]
  },
  {
   "cell_type": "markdown",
   "id": "94e9cbeb",
   "metadata": {},
   "source": [
    "## Complex example"
   ]
  },
  {
   "cell_type": "markdown",
   "id": "3137dc83",
   "metadata": {},
   "source": [
    "You can combine different plugins by adapting the config file. For plugins that are not working on all bands but on specific bands, you can use loops from ivy. This example samples galaxies based on the default values, applies shear to them and saves the catalogs for all bands. Example: complex_example_config.py"
   ]
  },
  {
   "cell_type": "code",
   "execution_count": 2,
   "id": "4f78ac71",
   "metadata": {},
   "outputs": [
    {
     "name": "stderr",
     "output_type": "stream",
     "text": [
      "<frozen importlib._bootstrap>:488: DeprecationWarning: Type google.protobuf.pyext._message.ScalarMapContainer uses PyType_Spec with a metaclass that has custom tp_new. This is deprecated and will no longer be allowed in Python 3.14.\n",
      "<frozen importlib._bootstrap>:488: DeprecationWarning: Type google.protobuf.pyext._message.MessageMapContainer uses PyType_Spec with a metaclass that has custom tp_new. This is deprecated and will no longer be allowed in Python 3.14.\n",
      "/Users/silvanfischbacher/miniforge3/envs/galsbi-cpvn/lib/python3.12/site-packages/tensorflow/lite/python/util.py:55: DeprecationWarning: jax.xla_computation is deprecated. Please use the AOT APIs; see https://jax.readthedocs.io/en/latest/aot.html. For example, replace xla_computation(f)(*xs) with jit(f).lower(*xs).compiler_ir('hlo'). See CHANGELOG.md for 0.4.30 for more examples.\n",
      "  from jax import xla_computation as _xla_computation\n"
     ]
    },
    {
     "name": "stdout",
     "output_type": "stream",
     "text": [
      "[main]\n",
      "model = LCDM\n",
      "core_equations_files = ['/Users/silvanfischbacher/miniforge3/envs/galsbi-cpvn/lib/python3.12/site-packages/PyCosmo/CosmologyCore.py']\n",
      "compilation_flags = -O3\n",
      "default_ini_file = config/default_lcdm.ini\n",
      "\n",
      "[equation_parameters]\n",
      "l_max = 20\n",
      "splits = None\n",
      "reorder = True\n",
      "cache hit at /Users/silvanfischbacher/Library/Cache/PyCosmo/macosx-11.0-arm64/2_2_0/2_2_4__9bfe33.pkl\n",
      "load wrapper from /Users/silvanfischbacher/Library/Cache/sympy2c/macosx-11.0-arm64/2_2_4__np_1_26_4/1db8b055_fc3ec\n",
      "Parameters updated\n",
      "24-10-08 16:36:36 sample_gal INF   Sampling galaxies based on RA/DEC and pixel scale \n"
     ]
    },
    {
     "name": "stderr",
     "output_type": "stream",
     "text": [
      "/Users/silvanfischbacher/repos/ucat/src/ucat/galaxy_sampling_util.py:150: UserWarning: par.lum_fct_m_max is too low according to z-m-interpolation, some galaxies may be missing\n",
      " gals_mag_max=27.00 lum_fct_z_max=3.00 m_max_sample=1.10 lum_fct_m_max=-5.00\n",
      "  warnings.warn(msg)\n"
     ]
    },
    {
     "name": "stdout",
     "output_type": "stream",
     "text": [
      "24-10-08 16:36:38 sample_gal INF   lumfun=red n_gals=13222 maximum number of galaxies reached=False (inf) \n",
      "24-10-08 16:36:47 sample_gal INF   lumfun=blue n_gals=144472 maximum number of galaxies reached=False (inf) \n",
      "24-10-08 16:36:47 sample_gal INF   galaxy counts n_total=157694 mem_mb_current=1348.5 \n",
      "[main]\n",
      "model = LCDM\n",
      "core_equations_files = ['/Users/silvanfischbacher/miniforge3/envs/galsbi-cpvn/lib/python3.12/site-packages/PyCosmo/CosmologyCore.py']\n",
      "compilation_flags = -O3\n",
      "default_ini_file = config/default_lcdm.ini\n",
      "\n",
      "[equation_parameters]\n",
      "l_max = 20\n",
      "splits = None\n",
      "reorder = True\n",
      "cache hit at /Users/silvanfischbacher/Library/Cache/PyCosmo/macosx-11.0-arm64/2_2_0/2_2_4__9bfe33.pkl\n",
      "load wrapper from /Users/silvanfischbacher/Library/Cache/sympy2c/macosx-11.0-arm64/2_2_4__np_1_26_4/1db8b055_fc3ec\n",
      "Parameters updated\n",
      "24-10-08 16:36:49 apply_shea INF   applying shear and magnification \n",
      "== Ivy run took:  20.249 s ===\n",
      "sample gal population         :  19.216s\n",
      "apply shear                   :   0.008s\n",
      "write ucat photo to file      :   0.324s\n",
      "write ucat catalog to file    :   0.700s\n"
     ]
    }
   ],
   "source": [
    "ctx = ivy.execute(\"complex_example_config\")"
   ]
  },
  {
   "cell_type": "markdown",
   "id": "666fe97e",
   "metadata": {},
   "source": [
    "This creates two catalogs, one with intrinsic properties of the galaxies (e.g. position, shape, size) and one with the photometric properties (magnitudes in different bands)"
   ]
  },
  {
   "cell_type": "code",
   "execution_count": 6,
   "id": "b1e4ac6a",
   "metadata": {},
   "outputs": [
    {
     "name": "stdout",
     "output_type": "stream",
     "text": [
      "24-09-04 16:35:10 arraytools INF   loaded ucat_photo.h5 with n_rows=157694 \n",
      "parameters of the photometric catalog: ('abs_mag_g', 'abs_mag_i', 'abs_mag_r', 'abs_mag_y', 'abs_mag_z', 'galaxy_type', 'int_mag_g', 'int_mag_i', 'int_mag_r', 'int_mag_y', 'int_mag_z', 'mag_g', 'mag_i', 'mag_r', 'mag_y', 'mag_z', 'template_coeffs', 'template_coeffs_abs', 'z')\n",
      "parameters of the intrinsic catalog: ('id', 'z', 'template_coeffs', 'template_coeffs_abs', 'abs_mag_lumfun', 'galaxy_type', 'excess_b_v', 'x', 'y', 'sersic_n', 'int_r50', 'int_e1', 'int_e2', 'gamma1', 'gamma2', 'kappa', 'e1', 'e2', 'r50')\n"
     ]
    }
   ],
   "source": [
    "from cosmic_toolbox import arraytools as at\n",
    "cat_photo = at.load_hdf_cols(\"ucat_photo.h5\")\n",
    "print(f\"parameters of the photometric catalog: {cat_photo.dtype.names}\")\n",
    "cat_int = at.load_hdf(\"ucat_galaxies.h5\")\n",
    "print(f\"parameters of the intrinsic catalog: {cat_int.dtype.names}\")"
   ]
  },
  {
   "cell_type": "markdown",
   "id": "77cf19e5",
   "metadata": {},
   "source": [
    "# Adapting ucat to your workflow"
   ]
  },
  {
   "cell_type": "markdown",
   "id": "07219885",
   "metadata": {},
   "source": [
    "The easiest way to adapt ucat to your workflow is by using a customized config file. Check out all the different parameters and their discription in galsbi.ucat.config.common. If you require new features, writing a new plugin is straightforward. A template plugin is shown below"
   ]
  },
  {
   "cell_type": "code",
   "execution_count": 7,
   "id": "fd514f93",
   "metadata": {},
   "outputs": [],
   "source": [
    "from ivy.plugin.base_plugin import BasePlugin\n",
    "\n",
    "class Plugin(BasePlugin):\n",
    "    def __call__(self):\n",
    "\n",
    "        # accessing all parameters from the config by calling the context\n",
    "        par = self.ctx.parameters\n",
    "\n",
    "        # implement new functionality\n",
    "\n",
    "\n",
    "    def __str__(self):\n",
    "        return \"new plugin doing something\""
   ]
  },
  {
   "cell_type": "markdown",
   "id": "04e2e243",
   "metadata": {},
   "source": [
    "If you want to use the generated galaxy catalog to create a simulated image, you can combine your config file with plugins from ufig, for this see the documentation of ufig.\n",
    "\n",
    "To use a galaxy population model that is constrained by data, you can use the galsbi interface. It is possible to to use your custom config files within the galsbi module but still using the parameters of one of the galaxy population model. For more information of how to use ucat with galsbi see the documentation of galsbi."
   ]
  },
  {
   "cell_type": "code",
   "execution_count": null,
   "id": "60c66884",
   "metadata": {},
   "outputs": [],
   "source": []
  }
 ],
 "metadata": {
  "kernelspec": {
   "display_name": "Python (myenv)",
   "language": "python",
   "name": "myenv"
  },
  "language_info": {
   "codemirror_mode": {
    "name": "ipython",
    "version": 3
   },
   "file_extension": ".py",
   "mimetype": "text/x-python",
   "name": "python",
   "nbconvert_exporter": "python",
   "pygments_lexer": "ipython3",
   "version": "3.12.6"
  },
  "toc": {
   "base_numbering": 1,
   "nav_menu": {},
   "number_sections": true,
   "sideBar": true,
   "skip_h1_title": false,
   "title_cell": "Table of Contents",
   "title_sidebar": "Contents",
   "toc_cell": false,
   "toc_position": {},
   "toc_section_display": true,
   "toc_window_display": false
  }
 },
 "nbformat": 4,
 "nbformat_minor": 5
}
