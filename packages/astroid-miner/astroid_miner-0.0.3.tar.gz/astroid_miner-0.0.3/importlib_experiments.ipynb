{
 "cells": [
  {
   "cell_type": "code",
   "execution_count": 1,
   "id": "aa545eaf-2334-49a7-9b5a-793e91f68be0",
   "metadata": {},
   "outputs": [],
   "source": [
    "from importlib.util import find_spec\n",
    "from os import environ\n",
    "\n",
    "# sys.modules contains stdlib modules and all packages imported so far.  As \n",
    "# modules are imported they are added to sys.modules.  You don't need to \n",
    "# manually refresh sys.modules when a new module is imported, it happens\n",
    "# automatically\n",
    "from sys import modules"
   ]
  },
  {
   "cell_type": "code",
   "execution_count": 2,
   "id": "228e76e0-ba37-411c-9f29-a0c3fd71ecf0",
   "metadata": {},
   "outputs": [
    {
     "data": {
      "text/plain": [
       "ModuleSpec(name='numpy', loader=<_frozen_importlib_external.SourceFileLoader object at 0x7fa474361e50>, origin='/home/john/jupyter-venv/lib/python3.9/site-packages/numpy/__init__.py', submodule_search_locations=['/home/john/jupyter-venv/lib/python3.9/site-packages/numpy'])"
      ]
     },
     "execution_count": 2,
     "metadata": {},
     "output_type": "execute_result"
    }
   ],
   "source": [
    "find_spec('numpy')"
   ]
  },
  {
   "cell_type": "code",
   "execution_count": 3,
   "id": "d29cca85-39b1-4ebf-abd6-ee4646e7be0e",
   "metadata": {},
   "outputs": [],
   "source": [
    "assert find_spec('foobar') is None"
   ]
  },
  {
   "cell_type": "code",
   "execution_count": 4,
   "id": "f406c39e-0d30-44f9-9ca8-ce6f37c8fba1",
   "metadata": {},
   "outputs": [],
   "source": [
    "assert 'pandas' not in modules.keys()"
   ]
  },
  {
   "cell_type": "code",
   "execution_count": 5,
   "id": "d914edf9-c2a9-432f-a164-f95fea0d7f46",
   "metadata": {},
   "outputs": [
    {
     "data": {
      "text/plain": [
       "ModuleSpec(name='pandas', loader=<_frozen_importlib_external.SourceFileLoader object at 0x7fa478bf2070>, origin='/home/john/jupyter-venv/lib/python3.9/site-packages/pandas/__init__.py', submodule_search_locations=['/home/john/jupyter-venv/lib/python3.9/site-packages/pandas'])"
      ]
     },
     "execution_count": 5,
     "metadata": {},
     "output_type": "execute_result"
    }
   ],
   "source": [
    "find_spec('pandas')"
   ]
  },
  {
   "cell_type": "code",
   "execution_count": 6,
   "id": "6e4547ca-fe6d-4e6e-9637-d66cc675f0b1",
   "metadata": {},
   "outputs": [
    {
     "name": "stdout",
     "output_type": "stream",
     "text": [
      "PYTHONPATH: python3\n"
     ]
    }
   ],
   "source": [
    "for key, value in environ.items():\n",
    "    if 'python' not in key.lower():\n",
    "        continue\n",
    "    print(f\"{key}: {value}\")"
   ]
  },
  {
   "cell_type": "code",
   "execution_count": 7,
   "id": "c4aa6c74-ce36-42ab-8bfe-4168af8d0a90",
   "metadata": {},
   "outputs": [],
   "source": [
    "assert 'pandas' not in modules.keys()"
   ]
  },
  {
   "cell_type": "code",
   "execution_count": 8,
   "id": "bd037f6b-248b-4967-a86c-4a322fd8a931",
   "metadata": {},
   "outputs": [],
   "source": [
    "import sys"
   ]
  },
  {
   "cell_type": "code",
   "execution_count": 9,
   "id": "d1a0fed7-9340-48a3-908a-cf97a9971780",
   "metadata": {},
   "outputs": [],
   "source": [
    "from sys import path as sys_path"
   ]
  },
  {
   "cell_type": "code",
   "execution_count": 10,
   "id": "68c7acd5-13c2-470b-bf5c-ada179163e86",
   "metadata": {},
   "outputs": [
    {
     "data": {
      "text/plain": [
       "['/home/john/Projects/astroid-miner',\n",
       " '/home/john/Projects/astroid-miner/python3',\n",
       " '/usr/lib/python39.zip',\n",
       " '/usr/lib/python3.9',\n",
       " '/usr/lib/python3.9/lib-dynload',\n",
       " '',\n",
       " '/home/john/jupyter-venv/lib/python3.9/site-packages']"
      ]
     },
     "execution_count": 10,
     "metadata": {},
     "output_type": "execute_result"
    }
   ],
   "source": [
    "sys_path"
   ]
  },
  {
   "cell_type": "code",
   "execution_count": null,
   "id": "f2413355-4277-4f97-b544-2d3d9f811460",
   "metadata": {},
   "outputs": [],
   "source": []
  }
 ],
 "metadata": {
  "kernelspec": {
   "display_name": "Python 3 (ipykernel)",
   "language": "python",
   "name": "python3"
  },
  "language_info": {
   "codemirror_mode": {
    "name": "ipython",
    "version": 3
   },
   "file_extension": ".py",
   "mimetype": "text/x-python",
   "name": "python",
   "nbconvert_exporter": "python",
   "pygments_lexer": "ipython3",
   "version": "3.9.5"
  }
 },
 "nbformat": 4,
 "nbformat_minor": 5
}
