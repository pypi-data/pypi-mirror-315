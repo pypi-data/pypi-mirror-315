{
 "cells": [
  {
   "cell_type": "markdown",
   "id": "483964b3dc6f52e1",
   "metadata": {},
   "source": [
    "# Demo of InfluenceMapper"
   ]
  },
  {
   "cell_type": "code",
   "execution_count": 1,
   "id": "initial_id",
   "metadata": {
    "ExecuteTime": {
     "end_time": "2024-10-28T02:37:48.401573Z",
     "start_time": "2024-10-28T02:37:48.385223Z"
    }
   },
   "outputs": [],
   "source": [
    "import json\n",
    "\n",
    "from openai import OpenAI\n",
    "\n",
    "import influencemapper\n",
    "from influencemapper.author_org.infer_iarc import build_prompt as author_org_build_prompt\n",
    "from influencemapper.study_org.infer_iarc import build_prompt as study_org_build_prompt\n",
    "from influencemapper.author_org.infer_iarc import infer as author_org_infer\n",
    "from influencemapper.study_org.infer_iarc import infer as study_org_infer\n",
    "from influencemapper.util import infer_is_funded, collapse_relationship"
   ]
  },
  {
   "cell_type": "markdown",
   "id": "1c82dd64d88560ff",
   "metadata": {},
   "source": [
    "### Setup the input\n",
    "The following uses the disclosure text as the input to InfluenceMapper. For extracting the author-entity relationships from the text, authors information is required.   "
   ]
  },
  {
   "cell_type": "code",
   "execution_count": 2,
   "id": "3d6699d4-9357-4d0b-8969-d4c94c3c8f3c",
   "metadata": {
    "ExecuteTime": {
     "end_time": "2024-10-28T01:10:45.785933Z",
     "start_time": "2024-10-28T01:10:45.781626Z"
    }
   },
   "outputs": [],
   "source": [
    "disclosure_text = 'All the authors are employed by Cardno ChemRisk, a consulting firm that provides scientific advice to the government, corporations, law firms and various scientific/professional organizations. Cardno ChemRisk has been engaged by DePuy Orthopaedics, Inc., a manufacturer of prosthetic devices, some of which contain cobalt and chromium, to provide general consulting and expert advice on scientific matters, as well as litigation support. This paper was prepared and written exclusively by the authors, without review, or comment by DePuy employees or counsel. It is likely that this work will be relied upon in medical research, nutrition research and litigation. One of the authors (DJP) has previously testified on behalf of DePuy in hip implant litigation. It is possible that any or all of the authors may be called upon to serve as expert witnesses on behalf of DePuy. Funding for the preparation of this paper was provided by DePuy. The preparation of the paper, including conduct of the literature review, review of the individual papers, integration and synthesis of the findings, the conclusions drawn and recommendations made are the exclusive professional work product of the authors and may not necessarily be those of their employer or the financial sponsor of the review.'\n",
    "authors = ['Brooke E Tvermoes',\n",
    " 'Dennis J Paustenbach',\n",
    " 'Brent D Kerger',\n",
    " 'Brent L Finley',\n",
    " 'Kenneth M Unice']"
   ]
  },
  {
   "cell_type": "markdown",
   "id": "6e935727e88f4896",
   "metadata": {},
   "source": [
    "### Setup the OpenAI client \n",
    "Create a plain text file called `secret.txt` containing the OpenAI API key."
   ]
  },
  {
   "cell_type": "code",
   "execution_count": 3,
   "id": "f753cbb5bfd0708c",
   "metadata": {
    "ExecuteTime": {
     "end_time": "2024-10-28T01:02:47.698597Z",
     "start_time": "2024-10-28T01:02:47.684638Z"
    }
   },
   "outputs": [],
   "source": [
    "api_key = open('../secret_key').read().strip()\n",
    "client = OpenAI(api_key=api_key)"
   ]
  },
  {
   "cell_type": "markdown",
   "id": "95bd857acbcf7cd7",
   "metadata": {},
   "source": [
    "## Author-Entity Relationship Extraction\n",
    "### Build prompt, send it to OpenAI and get the result"
   ]
  },
  {
   "cell_type": "code",
   "execution_count": 4,
   "id": "8bf8660821cd599a",
   "metadata": {
    "ExecuteTime": {
     "end_time": "2024-10-28T01:10:56.231789Z",
     "start_time": "2024-10-28T01:10:48.042079Z"
    }
   },
   "outputs": [],
   "source": [
    "prompt = author_org_build_prompt(authors, disclosure_text)\n",
    "result = author_org_infer(client, prompt)"
   ]
  },
  {
   "cell_type": "code",
   "execution_count": 5,
   "id": "59cc1ee2b72f6d3c",
   "metadata": {
    "ExecuteTime": {
     "end_time": "2024-10-28T01:11:01.919026Z",
     "start_time": "2024-10-28T01:11:01.913553Z"
    }
   },
   "outputs": [
    {
     "data": {
      "text/plain": [
       "ParsedChatCompletion[Result](id='chatcmpl-AN9weCZbXLOpcMA61nBNoIjeVV2og', choices=[ParsedChoice[Result](finish_reason='stop', index=0, logprobs=None, message=ParsedChatCompletionMessage[Result](content='{\"author_info\":[{\"author_name\":\"Brooke E Tvermoes\",\"organization\":[{\"org_name\":\"Cardno ChemRisk\",\"relationship_type\":[\"Employee of\"]},{\"org_name\":\"DePuy Orthopaedics, Inc\",\"relationship_type\":[\"Consultant\"]}]},{\"author_name\":\"Dennis J Paustenbach\",\"organization\":[{\"org_name\":\"Cardno ChemRisk\",\"relationship_type\":[\"Employee of\"]},{\"org_name\":\"DePuy Orthopaedics, Inc\",\"relationship_type\":[\"Consultant\", \"Expert testimony\"]}]},{\"author_name\":\"Brent D Kerger\",\"organization\":[{\"org_name\":\"Cardno ChemRisk\",\"relationship_type\":[\"Employee of\"]},{\"org_name\":\"DePuy Orthopaedics, Inc\",\"relationship_type\":[\"Consultant\"]}]},{\"author_name\":\"Brent L Finley\",\"organization\":[{\"org_name\":\"Cardno ChemRisk\",\"relationship_type\":[\"Employee of\"]},{\"org_name\":\"DePuy Orthopaedics, Inc\",\"relationship_type\":[\"Consultant\"]}]},{\"author_name\":\"Kenneth M Unice\",\"organization\":[{\"org_name\":\"Cardno ChemRisk\",\"relationship_type\":[\"Employee of\"]},{\"org_name\":\"DePuy Orthopaedics, Inc\",\"relationship_type\":[\"Consultant\"]}]}]}', refusal=None, role='assistant', function_call=None, tool_calls=[], parsed=Result(author_info=[AuthorInfo(author_name='Brooke E Tvermoes', organization=[Organization(org_name='Cardno ChemRisk', relationship_type=['Employee of']), Organization(org_name='DePuy Orthopaedics, Inc', relationship_type=['Consultant'])]), AuthorInfo(author_name='Dennis J Paustenbach', organization=[Organization(org_name='Cardno ChemRisk', relationship_type=['Employee of']), Organization(org_name='DePuy Orthopaedics, Inc', relationship_type=['Consultant', 'Expert testimony'])]), AuthorInfo(author_name='Brent D Kerger', organization=[Organization(org_name='Cardno ChemRisk', relationship_type=['Employee of']), Organization(org_name='DePuy Orthopaedics, Inc', relationship_type=['Consultant'])]), AuthorInfo(author_name='Brent L Finley', organization=[Organization(org_name='Cardno ChemRisk', relationship_type=['Employee of']), Organization(org_name='DePuy Orthopaedics, Inc', relationship_type=['Consultant'])]), AuthorInfo(author_name='Kenneth M Unice', organization=[Organization(org_name='Cardno ChemRisk', relationship_type=['Employee of']), Organization(org_name='DePuy Orthopaedics, Inc', relationship_type=['Consultant'])])])))], created=1730083136, model='ft:gpt-4o-mini-2024-07-18:network-dynamics-lab:author-org-legal:AJ3RkyvU', object='chat.completion', service_tier=None, system_fingerprint='fp_c05b983dba', usage=CompletionUsage(completion_tokens=252, prompt_tokens=682, total_tokens=934, prompt_tokens_details={'cached_tokens': 0}, completion_tokens_details={'reasoning_tokens': 0}))"
      ]
     },
     "execution_count": 5,
     "metadata": {},
     "output_type": "execute_result"
    }
   ],
   "source": [
    "result"
   ]
  },
  {
   "cell_type": "markdown",
   "id": "e287278c19640d6f",
   "metadata": {},
   "source": [
    "Check if the prompt was succesfully processed"
   ]
  },
  {
   "cell_type": "code",
   "execution_count": 6,
   "id": "1b97f99ec440a720",
   "metadata": {
    "ExecuteTime": {
     "end_time": "2024-10-28T01:56:32.428580Z",
     "start_time": "2024-10-28T01:56:32.424474Z"
    }
   },
   "outputs": [],
   "source": [
    "if result.choices[0].finish_reason != 'stop':\n",
    "    print(\"Failure\")"
   ]
  },
  {
   "cell_type": "code",
   "execution_count": 7,
   "id": "5921e41a23c67ce1",
   "metadata": {
    "ExecuteTime": {
     "end_time": "2024-10-28T01:59:10.083507Z",
     "start_time": "2024-10-28T01:59:10.079800Z"
    }
   },
   "outputs": [],
   "source": [
    "parsed_result = json.loads(result.choices[0].message.content)"
   ]
  },
  {
   "cell_type": "markdown",
   "id": "e3280dd48bdfe1e6",
   "metadata": {},
   "source": [
    "The result would be a list of triplets stored in `parsed_result['author_info']`"
   ]
  },
  {
   "cell_type": "code",
   "execution_count": 8,
   "id": "a98580f58224fd60",
   "metadata": {
    "ExecuteTime": {
     "end_time": "2024-10-28T02:03:44.322435Z",
     "start_time": "2024-10-28T02:03:44.317603Z"
    }
   },
   "outputs": [],
   "source": [
    "an_author_info = parsed_result['author_info'][1]"
   ]
  },
  {
   "cell_type": "markdown",
   "id": "c9e498c73e078b9a",
   "metadata": {},
   "source": [
    "Each author would be associated with multiple entities, and with each entity, the author would have various relationships."
   ]
  },
  {
   "cell_type": "code",
   "execution_count": 9,
   "id": "eb3732fa38486b00",
   "metadata": {
    "ExecuteTime": {
     "end_time": "2024-10-28T02:07:50.079213Z",
     "start_time": "2024-10-28T02:07:50.076970Z"
    }
   },
   "outputs": [
    {
     "name": "stdout",
     "output_type": "stream",
     "text": [
      "Cardno ChemRisk\n"
     ]
    }
   ],
   "source": [
    "# First entity associated\n",
    "print(an_author_info['organization'][0]['org_name'])"
   ]
  },
  {
   "cell_type": "code",
   "execution_count": 10,
   "id": "5ed26130b4a6a3b5",
   "metadata": {
    "ExecuteTime": {
     "end_time": "2024-10-28T02:09:30.705277Z",
     "start_time": "2024-10-28T02:09:30.701206Z"
    }
   },
   "outputs": [
    {
     "name": "stdout",
     "output_type": "stream",
     "text": [
      "Likely\n"
     ]
    }
   ],
   "source": [
    "# Check if the entity is a funded one\n",
    "print(infer_is_funded(an_author_info['organization'][0]['org_name']))"
   ]
  },
  {
   "cell_type": "code",
   "execution_count": 12,
   "id": "5c8c1c56e363ef89",
   "metadata": {
    "ExecuteTime": {
     "end_time": "2024-10-28T02:37:03.941780Z",
     "start_time": "2024-10-28T02:37:03.913290Z"
    }
   },
   "outputs": [
    {
     "name": "stdout",
     "output_type": "stream",
     "text": [
      "Direct financial relationship with entity\n"
     ]
    }
   ],
   "source": [
    "# Get the collapsed relationship\n",
    "print(collapse_relationship(an_author_info['organization'][0]['relationship_type'][0]))"
   ]
  },
  {
   "cell_type": "markdown",
   "id": "a6c8bdaa-686d-4e17-a715-c27e3a1de9cf",
   "metadata": {},
   "source": [
    "## Study-Entity Relationship Extraction\n",
    "### Build prompt, send it to OpenAI and get the result"
   ]
  },
  {
   "cell_type": "code",
   "execution_count": 14,
   "id": "ffc68dda-4754-4756-a93d-c3623fbda83d",
   "metadata": {},
   "outputs": [],
   "source": [
    "prompt2 = study_org_build_prompt(disclosure_text)\n",
    "result2 = study_org_infer(client, prompt)"
   ]
  },
  {
   "cell_type": "code",
   "execution_count": 16,
   "id": "3bfd5abb-3edd-48ff-a8aa-dbdd9bfc63ab",
   "metadata": {},
   "outputs": [],
   "source": [
    "parsed_result = json.loads(result2.choices[0].message.content)"
   ]
  },
  {
   "cell_type": "code",
   "execution_count": 17,
   "id": "9d828349-12f6-4789-ba71-9cd56a0899d4",
   "metadata": {},
   "outputs": [],
   "source": [
    "an_study_info = parsed_result['study_info'][1]"
   ]
  },
  {
   "cell_type": "code",
   "execution_count": 18,
   "id": "f912deaf-f4f1-48cf-a9b5-58a6d5486829",
   "metadata": {},
   "outputs": [
    {
     "data": {
      "text/plain": [
       "{'org_name': 'DePuy',\n",
       " 'relationships': [{'relationship_type': 'Received research grant funds indirectly',\n",
       "   'relationship_indication': 'Funding for the preparation of this paper was provided by DePuy'}]}"
      ]
     },
     "execution_count": 18,
     "metadata": {},
     "output_type": "execute_result"
    }
   ],
   "source": [
    "an_study_info"
   ]
  },
  {
   "cell_type": "code",
   "execution_count": null,
   "id": "c277e2c7-dd5f-46ea-8f8d-28cf16617e4e",
   "metadata": {},
   "outputs": [],
   "source": []
  }
 ],
 "metadata": {
  "kernelspec": {
   "display_name": "Python 3 (ipykernel)",
   "language": "python",
   "name": "python3"
  },
  "language_info": {
   "codemirror_mode": {
    "name": "ipython",
    "version": 3
   },
   "file_extension": ".py",
   "mimetype": "text/x-python",
   "name": "python",
   "nbconvert_exporter": "python",
   "pygments_lexer": "ipython3",
   "version": "3.9.6"
  }
 },
 "nbformat": 4,
 "nbformat_minor": 5
}
