{
 "cells": [
  {
   "cell_type": "code",
   "execution_count": null,
   "id": "75dd4cbd-2b2f-43e6-a9f3-cf80564c40bb",
   "metadata": {},
   "outputs": [],
   "source": [
    "for i in range(1, 11):\n",
    "    print(\"Notebook output\", i)"
   ]
  },
  {
   "cell_type": "code",
   "execution_count": null,
   "id": "ab04226c-09a4-48c3-8eb9-d43b2bda2d62",
   "metadata": {},
   "outputs": [],
   "source": [
    "with open(\"say_hello.txt\", \"w\") as f:\n",
    "    f.write(\"Hello!!!\")"
   ]
  }
 ],
 "metadata": {
  "kernelspec": {
   "display_name": "Python 3 (ipykernel)",
   "language": "python",
   "name": "python3"
  },
  "language_info": {
   "codemirror_mode": {
    "name": "ipython",
    "version": 3
   },
   "file_extension": ".py",
   "mimetype": "text/x-python",
   "name": "python",
   "nbconvert_exporter": "python",
   "pygments_lexer": "ipython3",
   "version": "3.13.0"
  }
 },
 "nbformat": 4,
 "nbformat_minor": 5
}
