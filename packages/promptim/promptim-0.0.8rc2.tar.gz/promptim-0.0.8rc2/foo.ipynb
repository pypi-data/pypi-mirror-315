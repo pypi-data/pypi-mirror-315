{
 "cells": [
  {
   "cell_type": "code",
   "execution_count": 9,
   "id": "1798342d-8142-4300-9550-335ca7ef1cd4",
   "metadata": {},
   "outputs": [],
   "source": [
    "from langchain.chat_models import init_chat_model\n",
    "from langchain_core.prompts import ChatPromptTemplate\n",
    "from pydantic import BaseModel, model_validator\n",
    "from trustcall import create_extractor\n",
    "\n",
    "model = init_chat_model(\"openai:gpt-4o-mini\")\n",
    "\n",
    "\n",
    "def improve_prompt(prompt: ChatPromptTemplate):\n",
    "    variables = prompt.input_variables\n",
    "\n",
    "    class ImprovePrompt(BaseModel):\n",
    "        thought: str\n",
    "        improved: str\n",
    "\n",
    "        @model_validator(mode=\"after\")\n",
    "        def validate_improved(cls, self):\n",
    "            new_variables = ChatPromptTemplate.from_template(\n",
    "                self.improved\n",
    "            ).input_variables\n",
    "            assert set(new_variables) == set(variables), (\n",
    "                \"Improved prompt must contain the same fstring variables as the input.\"\n",
    "                \"\\nExpected: {variables}.\\nGot {new_variables}.\"\n",
    "            )\n",
    "            return self\n",
    "\n",
    "    extractor = create_extractor(\n",
    "        model, tools=[ImprovePrompt], tool_choice=\"ImprovePrompt\"\n",
    "    )\n",
    "    result = extractor.invoke(\n",
    "        \"Improve this prompt a lot. Feel free to improve the naming of the fstring args\"\n",
    "        + str(prompt.messages[0].prompt.template)\n",
    "    )\n",
    "    return result\n",
    "\n",
    "\n",
    "prompt = ChatPromptTemplate.from_template(\n",
    "    \"You are a {foo} assistant. Respond with {bar}\"\n",
    ")\n",
    "\n",
    "improve_prompt(prompt)"
   ]
  }
 ],
 "metadata": {
  "kernelspec": {
   "display_name": "Python 3 (ipykernel)",
   "language": "python",
   "name": "python3"
  },
  "language_info": {
   "codemirror_mode": {
    "name": "ipython",
    "version": 3
   },
   "file_extension": ".py",
   "mimetype": "text/x-python",
   "name": "python",
   "nbconvert_exporter": "python",
   "pygments_lexer": "ipython3",
   "version": "3.11.2"
  }
 },
 "nbformat": 4,
 "nbformat_minor": 5
}
