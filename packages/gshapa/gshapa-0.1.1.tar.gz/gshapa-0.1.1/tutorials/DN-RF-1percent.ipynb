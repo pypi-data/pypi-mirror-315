{
 "cells": [
  {
   "cell_type": "code",
   "execution_count": 1,
   "id": "1fac38d4",
   "metadata": {},
   "outputs": [],
   "source": [
    "%load_ext autoreload\n",
    "%autoreload 2\n",
    "import os\n",
    "import numpy as np\n",
    "import pandas as pd\n",
    "import matplotlib.pyplot as plt\n",
    "import gseapy as gp\n",
    "import scanpy as sc"
   ]
  },
  {
   "cell_type": "markdown",
   "id": "4ddf2de5",
   "metadata": {},
   "source": [
    "# Load gene expression dataset"
   ]
  },
  {
   "cell_type": "code",
   "execution_count": 2,
   "id": "6cf0cd86",
   "metadata": {},
   "outputs": [],
   "source": [
    "adata = sc.datasets.ebi_expression_atlas(\"E-GEOD-131882\",filter_boring=True) # data from SeuratData::ifnb"
   ]
  },
  {
   "cell_type": "code",
   "execution_count": 3,
   "id": "d693d3e2",
   "metadata": {},
   "outputs": [
    {
     "data": {
      "text/html": [
       "<div>\n",
       "<style scoped>\n",
       "    .dataframe tbody tr th:only-of-type {\n",
       "        vertical-align: middle;\n",
       "    }\n",
       "\n",
       "    .dataframe tbody tr th {\n",
       "        vertical-align: top;\n",
       "    }\n",
       "\n",
       "    .dataframe thead th {\n",
       "        text-align: right;\n",
       "    }\n",
       "</style>\n",
       "<table border=\"1\" class=\"dataframe\">\n",
       "  <thead>\n",
       "    <tr style=\"text-align: right;\">\n",
       "      <th></th>\n",
       "      <th>Sample Characteristic[individual]</th>\n",
       "      <th>Sample Characteristic[sex]</th>\n",
       "      <th>Sample Characteristic Ontology Term[sex]</th>\n",
       "      <th>Sample Characteristic[age]</th>\n",
       "      <th>Sample Characteristic[disease]</th>\n",
       "      <th>Sample Characteristic Ontology Term[disease]</th>\n",
       "      <th>Sample Characteristic[clinical information]</th>\n",
       "      <th>Sample Characteristic[clinical treatment]</th>\n",
       "      <th>Factor Value[disease]</th>\n",
       "      <th>Factor Value Ontology Term[disease]</th>\n",
       "    </tr>\n",
       "  </thead>\n",
       "  <tbody>\n",
       "    <tr>\n",
       "      <th>SAMN11878523-AAACCTGAGTTTAGGA</th>\n",
       "      <td>Diabetes_3</td>\n",
       "      <td>female</td>\n",
       "      <td>http://purl.obolibrary.org/obo/PATO_0000383</td>\n",
       "      <td>57 year</td>\n",
       "      <td>diabetic nephropathy</td>\n",
       "      <td>http://www.ebi.ac.uk/efo/EFO_0000401</td>\n",
       "      <td>hemoglobin A1c 9.7 mmol/mol, glomerular filtra...</td>\n",
       "      <td>radical nephrectomy</td>\n",
       "      <td>diabetic nephropathy</td>\n",
       "      <td>http://www.ebi.ac.uk/efo/EFO_0000401</td>\n",
       "    </tr>\n",
       "    <tr>\n",
       "      <th>SAMN11878523-AAACCTGCAGAGTGTG</th>\n",
       "      <td>Diabetes_3</td>\n",
       "      <td>female</td>\n",
       "      <td>http://purl.obolibrary.org/obo/PATO_0000383</td>\n",
       "      <td>57 year</td>\n",
       "      <td>diabetic nephropathy</td>\n",
       "      <td>http://www.ebi.ac.uk/efo/EFO_0000401</td>\n",
       "      <td>hemoglobin A1c 9.7 mmol/mol, glomerular filtra...</td>\n",
       "      <td>radical nephrectomy</td>\n",
       "      <td>diabetic nephropathy</td>\n",
       "      <td>http://www.ebi.ac.uk/efo/EFO_0000401</td>\n",
       "    </tr>\n",
       "    <tr>\n",
       "      <th>SAMN11878523-AAACCTGCAGCCTGTG</th>\n",
       "      <td>Diabetes_3</td>\n",
       "      <td>female</td>\n",
       "      <td>http://purl.obolibrary.org/obo/PATO_0000383</td>\n",
       "      <td>57 year</td>\n",
       "      <td>diabetic nephropathy</td>\n",
       "      <td>http://www.ebi.ac.uk/efo/EFO_0000401</td>\n",
       "      <td>hemoglobin A1c 9.7 mmol/mol, glomerular filtra...</td>\n",
       "      <td>radical nephrectomy</td>\n",
       "      <td>diabetic nephropathy</td>\n",
       "      <td>http://www.ebi.ac.uk/efo/EFO_0000401</td>\n",
       "    </tr>\n",
       "    <tr>\n",
       "      <th>SAMN11878523-AAACCTGCATCCCATC</th>\n",
       "      <td>Diabetes_3</td>\n",
       "      <td>female</td>\n",
       "      <td>http://purl.obolibrary.org/obo/PATO_0000383</td>\n",
       "      <td>57 year</td>\n",
       "      <td>diabetic nephropathy</td>\n",
       "      <td>http://www.ebi.ac.uk/efo/EFO_0000401</td>\n",
       "      <td>hemoglobin A1c 9.7 mmol/mol, glomerular filtra...</td>\n",
       "      <td>radical nephrectomy</td>\n",
       "      <td>diabetic nephropathy</td>\n",
       "      <td>http://www.ebi.ac.uk/efo/EFO_0000401</td>\n",
       "    </tr>\n",
       "    <tr>\n",
       "      <th>SAMN11878523-AAACCTGTCCAGAAGG</th>\n",
       "      <td>Diabetes_3</td>\n",
       "      <td>female</td>\n",
       "      <td>http://purl.obolibrary.org/obo/PATO_0000383</td>\n",
       "      <td>57 year</td>\n",
       "      <td>diabetic nephropathy</td>\n",
       "      <td>http://www.ebi.ac.uk/efo/EFO_0000401</td>\n",
       "      <td>hemoglobin A1c 9.7 mmol/mol, glomerular filtra...</td>\n",
       "      <td>radical nephrectomy</td>\n",
       "      <td>diabetic nephropathy</td>\n",
       "      <td>http://www.ebi.ac.uk/efo/EFO_0000401</td>\n",
       "    </tr>\n",
       "  </tbody>\n",
       "</table>\n",
       "</div>"
      ],
      "text/plain": [
       "                              Sample Characteristic[individual]  \\\n",
       "SAMN11878523-AAACCTGAGTTTAGGA                        Diabetes_3   \n",
       "SAMN11878523-AAACCTGCAGAGTGTG                        Diabetes_3   \n",
       "SAMN11878523-AAACCTGCAGCCTGTG                        Diabetes_3   \n",
       "SAMN11878523-AAACCTGCATCCCATC                        Diabetes_3   \n",
       "SAMN11878523-AAACCTGTCCAGAAGG                        Diabetes_3   \n",
       "\n",
       "                              Sample Characteristic[sex]  \\\n",
       "SAMN11878523-AAACCTGAGTTTAGGA                     female   \n",
       "SAMN11878523-AAACCTGCAGAGTGTG                     female   \n",
       "SAMN11878523-AAACCTGCAGCCTGTG                     female   \n",
       "SAMN11878523-AAACCTGCATCCCATC                     female   \n",
       "SAMN11878523-AAACCTGTCCAGAAGG                     female   \n",
       "\n",
       "                                  Sample Characteristic Ontology Term[sex]  \\\n",
       "SAMN11878523-AAACCTGAGTTTAGGA  http://purl.obolibrary.org/obo/PATO_0000383   \n",
       "SAMN11878523-AAACCTGCAGAGTGTG  http://purl.obolibrary.org/obo/PATO_0000383   \n",
       "SAMN11878523-AAACCTGCAGCCTGTG  http://purl.obolibrary.org/obo/PATO_0000383   \n",
       "SAMN11878523-AAACCTGCATCCCATC  http://purl.obolibrary.org/obo/PATO_0000383   \n",
       "SAMN11878523-AAACCTGTCCAGAAGG  http://purl.obolibrary.org/obo/PATO_0000383   \n",
       "\n",
       "                              Sample Characteristic[age]  \\\n",
       "SAMN11878523-AAACCTGAGTTTAGGA                    57 year   \n",
       "SAMN11878523-AAACCTGCAGAGTGTG                    57 year   \n",
       "SAMN11878523-AAACCTGCAGCCTGTG                    57 year   \n",
       "SAMN11878523-AAACCTGCATCCCATC                    57 year   \n",
       "SAMN11878523-AAACCTGTCCAGAAGG                    57 year   \n",
       "\n",
       "                              Sample Characteristic[disease]  \\\n",
       "SAMN11878523-AAACCTGAGTTTAGGA           diabetic nephropathy   \n",
       "SAMN11878523-AAACCTGCAGAGTGTG           diabetic nephropathy   \n",
       "SAMN11878523-AAACCTGCAGCCTGTG           diabetic nephropathy   \n",
       "SAMN11878523-AAACCTGCATCCCATC           diabetic nephropathy   \n",
       "SAMN11878523-AAACCTGTCCAGAAGG           diabetic nephropathy   \n",
       "\n",
       "                              Sample Characteristic Ontology Term[disease]  \\\n",
       "SAMN11878523-AAACCTGAGTTTAGGA         http://www.ebi.ac.uk/efo/EFO_0000401   \n",
       "SAMN11878523-AAACCTGCAGAGTGTG         http://www.ebi.ac.uk/efo/EFO_0000401   \n",
       "SAMN11878523-AAACCTGCAGCCTGTG         http://www.ebi.ac.uk/efo/EFO_0000401   \n",
       "SAMN11878523-AAACCTGCATCCCATC         http://www.ebi.ac.uk/efo/EFO_0000401   \n",
       "SAMN11878523-AAACCTGTCCAGAAGG         http://www.ebi.ac.uk/efo/EFO_0000401   \n",
       "\n",
       "                                     Sample Characteristic[clinical information]  \\\n",
       "SAMN11878523-AAACCTGAGTTTAGGA  hemoglobin A1c 9.7 mmol/mol, glomerular filtra...   \n",
       "SAMN11878523-AAACCTGCAGAGTGTG  hemoglobin A1c 9.7 mmol/mol, glomerular filtra...   \n",
       "SAMN11878523-AAACCTGCAGCCTGTG  hemoglobin A1c 9.7 mmol/mol, glomerular filtra...   \n",
       "SAMN11878523-AAACCTGCATCCCATC  hemoglobin A1c 9.7 mmol/mol, glomerular filtra...   \n",
       "SAMN11878523-AAACCTGTCCAGAAGG  hemoglobin A1c 9.7 mmol/mol, glomerular filtra...   \n",
       "\n",
       "                              Sample Characteristic[clinical treatment]  \\\n",
       "SAMN11878523-AAACCTGAGTTTAGGA                       radical nephrectomy   \n",
       "SAMN11878523-AAACCTGCAGAGTGTG                       radical nephrectomy   \n",
       "SAMN11878523-AAACCTGCAGCCTGTG                       radical nephrectomy   \n",
       "SAMN11878523-AAACCTGCATCCCATC                       radical nephrectomy   \n",
       "SAMN11878523-AAACCTGTCCAGAAGG                       radical nephrectomy   \n",
       "\n",
       "                              Factor Value[disease]  \\\n",
       "SAMN11878523-AAACCTGAGTTTAGGA  diabetic nephropathy   \n",
       "SAMN11878523-AAACCTGCAGAGTGTG  diabetic nephropathy   \n",
       "SAMN11878523-AAACCTGCAGCCTGTG  diabetic nephropathy   \n",
       "SAMN11878523-AAACCTGCATCCCATC  diabetic nephropathy   \n",
       "SAMN11878523-AAACCTGTCCAGAAGG  diabetic nephropathy   \n",
       "\n",
       "                                Factor Value Ontology Term[disease]  \n",
       "SAMN11878523-AAACCTGAGTTTAGGA  http://www.ebi.ac.uk/efo/EFO_0000401  \n",
       "SAMN11878523-AAACCTGCAGAGTGTG  http://www.ebi.ac.uk/efo/EFO_0000401  \n",
       "SAMN11878523-AAACCTGCAGCCTGTG  http://www.ebi.ac.uk/efo/EFO_0000401  \n",
       "SAMN11878523-AAACCTGCATCCCATC  http://www.ebi.ac.uk/efo/EFO_0000401  \n",
       "SAMN11878523-AAACCTGTCCAGAAGG  http://www.ebi.ac.uk/efo/EFO_0000401  "
      ]
     },
     "execution_count": 3,
     "metadata": {},
     "output_type": "execute_result"
    }
   ],
   "source": [
    "adata.obs.head()"
   ]
  },
  {
   "cell_type": "code",
   "execution_count": 4,
   "id": "6aef82c8",
   "metadata": {},
   "outputs": [
    {
     "data": {
      "text/html": [
       "<div>\n",
       "<style scoped>\n",
       "    .dataframe tbody tr th:only-of-type {\n",
       "        vertical-align: middle;\n",
       "    }\n",
       "\n",
       "    .dataframe tbody tr th {\n",
       "        vertical-align: top;\n",
       "    }\n",
       "\n",
       "    .dataframe thead th {\n",
       "        text-align: right;\n",
       "    }\n",
       "</style>\n",
       "<table border=\"1\" class=\"dataframe\">\n",
       "  <thead>\n",
       "    <tr style=\"text-align: right;\">\n",
       "      <th></th>\n",
       "    </tr>\n",
       "  </thead>\n",
       "  <tbody>\n",
       "    <tr>\n",
       "      <th>ENSG00000000003</th>\n",
       "    </tr>\n",
       "    <tr>\n",
       "      <th>ENSG00000000005</th>\n",
       "    </tr>\n",
       "    <tr>\n",
       "      <th>ENSG00000000419</th>\n",
       "    </tr>\n",
       "    <tr>\n",
       "      <th>ENSG00000000457</th>\n",
       "    </tr>\n",
       "    <tr>\n",
       "      <th>ENSG00000000460</th>\n",
       "    </tr>\n",
       "  </tbody>\n",
       "</table>\n",
       "</div>"
      ],
      "text/plain": [
       "Empty DataFrame\n",
       "Columns: []\n",
       "Index: [ENSG00000000003, ENSG00000000005, ENSG00000000419, ENSG00000000457, ENSG00000000460]"
      ]
     },
     "execution_count": 4,
     "metadata": {},
     "output_type": "execute_result"
    }
   ],
   "source": [
    "adata.var.head()"
   ]
  },
  {
   "cell_type": "markdown",
   "id": "4761c8b1",
   "metadata": {},
   "source": [
    "# Preprocess data"
   ]
  },
  {
   "cell_type": "code",
   "execution_count": 5,
   "id": "48f5d1c8",
   "metadata": {},
   "outputs": [
    {
     "name": "stdout",
     "output_type": "stream",
     "text": [
      "(16536, 23817)\n",
      "(16512, 23817)\n",
      "(16512, 14518)\n"
     ]
    },
    {
     "name": "stderr",
     "output_type": "stream",
     "text": [
      "/var/folders/g9/sdkd_scd1jl863ct2t6hw_k80000gp/T/ipykernel_8338/1731056606.py:11: FutureWarning: The default of observed=False is deprecated and will be changed to True in a future version of pandas. Pass observed=False to retain current behavior or observed=True to adopt the future default and silence this warning.\n",
      "  adata.obs.groupby('Factor Value[disease]')['Sample Characteristic[individual]'].value_counts()\n"
     ]
    },
    {
     "data": {
      "text/plain": [
       "Factor Value[disease]  Sample Characteristic[individual]\n",
       "diabetic nephropathy   Diabetes_1                           3300\n",
       "                       Diabetes_3                           1981\n",
       "                       Diabetes_2                           1625\n",
       "                       Control_1                               0\n",
       "                       Control_2                               0\n",
       "                       Control_3                               0\n",
       "normal                 Control_1                            4700\n",
       "                       Control_3                            3581\n",
       "                       Control_2                            1325\n",
       "                       Diabetes_1                              0\n",
       "                       Diabetes_2                              0\n",
       "                       Diabetes_3                              0\n",
       "Name: count, dtype: int64"
      ]
     },
     "execution_count": 5,
     "metadata": {},
     "output_type": "execute_result"
    }
   ],
   "source": [
    "# preprocessing\n",
    "print(adata.shape)\n",
    "sc.pp.filter_cells(adata, min_genes=int(adata.X.shape[1])*0.01)\n",
    "print(adata.shape)\n",
    "sc.pp.filter_genes(adata, min_cells=int(adata.X.shape[0])*0.01)\n",
    "print(adata.shape)\n",
    "sc.pp.normalize_total(adata, target_sum=1e4)\n",
    "sc.pp.log1p(adata)\n",
    "sc.pp.scale(adata)\n",
    "\n",
    "adata.obs.groupby('Factor Value[disease]')['Sample Characteristic[individual]'].value_counts()"
   ]
  },
  {
   "cell_type": "code",
   "execution_count": 6,
   "id": "4819b626",
   "metadata": {},
   "outputs": [],
   "source": [
    "adata.obs['disease'] = pd.Categorical(adata.obs['Factor Value[disease]'], categories=[\"diabetic nephropathy\", \"normal\"], ordered=True)\n",
    "indices = adata.obs.sort_values(['Factor Value[disease]', 'disease']).index\n",
    "adata = adata[indices,:]"
   ]
  },
  {
   "cell_type": "markdown",
   "id": "74ee047b",
   "metadata": {},
   "source": [
    "# Focus on the most prevalent cell type"
   ]
  },
  {
   "cell_type": "code",
   "execution_count": 7,
   "id": "f48e699b",
   "metadata": {},
   "outputs": [
    {
     "data": {
      "text/plain": [
       "AnnData object with n_obs × n_vars = 10950 × 14518\n",
       "    obs: 'Sample Characteristic[individual]', 'Sample Characteristic[sex]', 'Sample Characteristic Ontology Term[sex]', 'Sample Characteristic[age]', 'Sample Characteristic[disease]', 'Sample Characteristic Ontology Term[disease]', 'Sample Characteristic[clinical information]', 'Sample Characteristic[clinical treatment]', 'Factor Value[disease]', 'Factor Value Ontology Term[disease]', 'n_genes', 'disease'\n",
       "    var: 'n_cells', 'mean', 'std'\n",
       "    uns: 'log1p'"
      ]
     },
     "execution_count": 7,
     "metadata": {},
     "output_type": "execute_result"
    }
   ],
   "source": [
    "bdata = adata[adata.obs[\"Sample Characteristic[sex]\"] == \"male\"].copy()# female\n",
    "bdata"
   ]
  },
  {
   "cell_type": "code",
   "execution_count": 8,
   "id": "7de94057",
   "metadata": {},
   "outputs": [
    {
     "data": {
      "text/plain": [
       "Counter({'diabetic nephropathy': 4925, 'normal': 6025})"
      ]
     },
     "execution_count": 8,
     "metadata": {},
     "output_type": "execute_result"
    }
   ],
   "source": [
    "from collections import Counter\n",
    "Counter(bdata.obs[\"Factor Value[disease]\"])"
   ]
  },
  {
   "cell_type": "code",
   "execution_count": 9,
   "id": "c9829e13",
   "metadata": {},
   "outputs": [
    {
     "data": {
      "text/plain": [
       "44.97716894977169"
      ]
     },
     "execution_count": 9,
     "metadata": {},
     "output_type": "execute_result"
    }
   ],
   "source": [
    "4925/(4925+6025)*100"
   ]
  },
  {
   "cell_type": "code",
   "execution_count": 10,
   "id": "9dc2f147",
   "metadata": {},
   "outputs": [
    {
     "data": {
      "text/plain": [
       "(10950, 14518)"
      ]
     },
     "execution_count": 10,
     "metadata": {},
     "output_type": "execute_result"
    }
   ],
   "source": [
    "bdata.shape"
   ]
  },
  {
   "cell_type": "markdown",
   "id": "e2345342",
   "metadata": {},
   "source": [
    "# Map gene names"
   ]
  },
  {
   "cell_type": "code",
   "execution_count": 11,
   "id": "e74cdd83",
   "metadata": {},
   "outputs": [],
   "source": [
    "mapper = pd.read_csv('data/mart_export.txt',index_col=0).fillna(-1)[\"Gene name\"].to_dict()"
   ]
  },
  {
   "cell_type": "code",
   "execution_count": 12,
   "id": "aba80099",
   "metadata": {},
   "outputs": [],
   "source": [
    "new_indexes = []\n",
    "for i in bdata.var.index:\n",
    "    if i in mapper and mapper[i]!=\"\":\n",
    "        new_indexes.append(mapper[i])\n",
    "    else:\n",
    "        new_indexes.append(-1)"
   ]
  },
  {
   "cell_type": "code",
   "execution_count": 13,
   "id": "e4ae4524",
   "metadata": {},
   "outputs": [],
   "source": [
    "bdata.var.index = new_indexes\n",
    "bdata = bdata[:,bdata.var.index != -1]"
   ]
  },
  {
   "cell_type": "code",
   "execution_count": 14,
   "id": "29b0c2ae",
   "metadata": {},
   "outputs": [
    {
     "data": {
      "text/plain": [
       "(10950, 13985)"
      ]
     },
     "execution_count": 14,
     "metadata": {},
     "output_type": "execute_result"
    }
   ],
   "source": [
    "bdata.shape"
   ]
  },
  {
   "cell_type": "code",
   "execution_count": 15,
   "id": "8d0839d9",
   "metadata": {},
   "outputs": [
    {
     "name": "stderr",
     "output_type": "stream",
     "text": [
      "/Users/speignier/anaconda3/lib/python3.10/site-packages/anndata/_core/anndata.py:1832: UserWarning: Variable names are not unique. To make them unique, call `.var_names_make_unique`.\n",
      "  utils.warn_names_duplicates(\"var\")\n"
     ]
    }
   ],
   "source": [
    "bdata.var_names_make_unique()"
   ]
  },
  {
   "cell_type": "code",
   "execution_count": 16,
   "id": "b2246df9",
   "metadata": {},
   "outputs": [
    {
     "data": {
      "text/html": [
       "<div>\n",
       "<style scoped>\n",
       "    .dataframe tbody tr th:only-of-type {\n",
       "        vertical-align: middle;\n",
       "    }\n",
       "\n",
       "    .dataframe tbody tr th {\n",
       "        vertical-align: top;\n",
       "    }\n",
       "\n",
       "    .dataframe thead th {\n",
       "        text-align: right;\n",
       "    }\n",
       "</style>\n",
       "<table border=\"1\" class=\"dataframe\">\n",
       "  <thead>\n",
       "    <tr style=\"text-align: right;\">\n",
       "      <th></th>\n",
       "      <th>TSPAN6</th>\n",
       "      <th>DPM1</th>\n",
       "      <th>SCYL3</th>\n",
       "      <th>FIRRM</th>\n",
       "      <th>CFH</th>\n",
       "      <th>FUCA2</th>\n",
       "      <th>GCLC</th>\n",
       "      <th>NFYA</th>\n",
       "      <th>STPG1</th>\n",
       "      <th>NIPAL3</th>\n",
       "      <th>...</th>\n",
       "      <th>PRRC2B</th>\n",
       "      <th>UGT1A3</th>\n",
       "      <th>UGT1A5</th>\n",
       "      <th>F8A1</th>\n",
       "      <th>CTAGE4-1</th>\n",
       "      <th>H2AC18</th>\n",
       "      <th>H2AC19</th>\n",
       "      <th>RPSA2</th>\n",
       "      <th>CTAGE8-1</th>\n",
       "      <th>XNDC1N-ZNF705EP-ALG1L9P</th>\n",
       "    </tr>\n",
       "  </thead>\n",
       "  <tbody>\n",
       "    <tr>\n",
       "      <th>SAMN11878524-AAACCTGCACTTCTGC</th>\n",
       "      <td>-0.17146</td>\n",
       "      <td>-0.369714</td>\n",
       "      <td>-0.306025</td>\n",
       "      <td>-0.141667</td>\n",
       "      <td>-0.482987</td>\n",
       "      <td>-0.217042</td>\n",
       "      <td>-0.253165</td>\n",
       "      <td>-0.206149</td>\n",
       "      <td>-0.247156</td>\n",
       "      <td>4.024714</td>\n",
       "      <td>...</td>\n",
       "      <td>1.366851</td>\n",
       "      <td>-0.16203</td>\n",
       "      <td>-0.166154</td>\n",
       "      <td>-0.106839</td>\n",
       "      <td>-0.258052</td>\n",
       "      <td>-0.241111</td>\n",
       "      <td>-0.241115</td>\n",
       "      <td>1.903810</td>\n",
       "      <td>-0.260855</td>\n",
       "      <td>-0.221132</td>\n",
       "    </tr>\n",
       "    <tr>\n",
       "      <th>SAMN11878524-AAACCTGCAGGGTATG</th>\n",
       "      <td>-0.17146</td>\n",
       "      <td>-0.369714</td>\n",
       "      <td>-0.306025</td>\n",
       "      <td>-0.141667</td>\n",
       "      <td>2.473946</td>\n",
       "      <td>-0.217042</td>\n",
       "      <td>-0.253165</td>\n",
       "      <td>-0.206149</td>\n",
       "      <td>-0.247156</td>\n",
       "      <td>-0.225779</td>\n",
       "      <td>...</td>\n",
       "      <td>-0.572731</td>\n",
       "      <td>-0.16203</td>\n",
       "      <td>-0.166154</td>\n",
       "      <td>-0.106839</td>\n",
       "      <td>1.932244</td>\n",
       "      <td>-0.241111</td>\n",
       "      <td>-0.241115</td>\n",
       "      <td>-0.449898</td>\n",
       "      <td>1.973501</td>\n",
       "      <td>-0.221132</td>\n",
       "    </tr>\n",
       "    <tr>\n",
       "      <th>SAMN11878524-AAACGGGAGACATAAC</th>\n",
       "      <td>-0.17146</td>\n",
       "      <td>-0.369714</td>\n",
       "      <td>-0.306025</td>\n",
       "      <td>-0.141667</td>\n",
       "      <td>-0.482987</td>\n",
       "      <td>-0.217042</td>\n",
       "      <td>-0.253165</td>\n",
       "      <td>-0.206149</td>\n",
       "      <td>-0.247156</td>\n",
       "      <td>-0.225779</td>\n",
       "      <td>...</td>\n",
       "      <td>0.936168</td>\n",
       "      <td>-0.16203</td>\n",
       "      <td>-0.166154</td>\n",
       "      <td>-0.106839</td>\n",
       "      <td>-0.258052</td>\n",
       "      <td>2.038974</td>\n",
       "      <td>2.045414</td>\n",
       "      <td>-0.449898</td>\n",
       "      <td>-0.260855</td>\n",
       "      <td>-0.221132</td>\n",
       "    </tr>\n",
       "    <tr>\n",
       "      <th>SAMN11878524-AAACGGGAGCGTTTAC</th>\n",
       "      <td>-0.17146</td>\n",
       "      <td>-0.369714</td>\n",
       "      <td>-0.306025</td>\n",
       "      <td>-0.141667</td>\n",
       "      <td>1.969721</td>\n",
       "      <td>-0.217042</td>\n",
       "      <td>-0.253165</td>\n",
       "      <td>-0.206149</td>\n",
       "      <td>-0.247156</td>\n",
       "      <td>-0.225779</td>\n",
       "      <td>...</td>\n",
       "      <td>-0.572731</td>\n",
       "      <td>-0.16203</td>\n",
       "      <td>-0.166154</td>\n",
       "      <td>-0.106839</td>\n",
       "      <td>-0.258052</td>\n",
       "      <td>-0.241111</td>\n",
       "      <td>-0.241115</td>\n",
       "      <td>-0.449898</td>\n",
       "      <td>-0.260855</td>\n",
       "      <td>-0.221132</td>\n",
       "    </tr>\n",
       "    <tr>\n",
       "      <th>SAMN11878524-AAACGGGCACATGTGT</th>\n",
       "      <td>-0.17146</td>\n",
       "      <td>-0.369714</td>\n",
       "      <td>-0.306025</td>\n",
       "      <td>-0.141667</td>\n",
       "      <td>-0.482987</td>\n",
       "      <td>-0.217042</td>\n",
       "      <td>-0.253165</td>\n",
       "      <td>-0.206149</td>\n",
       "      <td>-0.247156</td>\n",
       "      <td>-0.225779</td>\n",
       "      <td>...</td>\n",
       "      <td>2.423924</td>\n",
       "      <td>-0.16203</td>\n",
       "      <td>-0.166154</td>\n",
       "      <td>-0.106839</td>\n",
       "      <td>-0.258052</td>\n",
       "      <td>-0.241111</td>\n",
       "      <td>-0.241115</td>\n",
       "      <td>-0.449898</td>\n",
       "      <td>-0.260855</td>\n",
       "      <td>-0.221132</td>\n",
       "    </tr>\n",
       "    <tr>\n",
       "      <th>...</th>\n",
       "      <td>...</td>\n",
       "      <td>...</td>\n",
       "      <td>...</td>\n",
       "      <td>...</td>\n",
       "      <td>...</td>\n",
       "      <td>...</td>\n",
       "      <td>...</td>\n",
       "      <td>...</td>\n",
       "      <td>...</td>\n",
       "      <td>...</td>\n",
       "      <td>...</td>\n",
       "      <td>...</td>\n",
       "      <td>...</td>\n",
       "      <td>...</td>\n",
       "      <td>...</td>\n",
       "      <td>...</td>\n",
       "      <td>...</td>\n",
       "      <td>...</td>\n",
       "      <td>...</td>\n",
       "      <td>...</td>\n",
       "      <td>...</td>\n",
       "    </tr>\n",
       "    <tr>\n",
       "      <th>SAMN11878528-TTTGTCAGTTCCGTCT</th>\n",
       "      <td>-0.17146</td>\n",
       "      <td>-0.369714</td>\n",
       "      <td>-0.306025</td>\n",
       "      <td>-0.141667</td>\n",
       "      <td>-0.482987</td>\n",
       "      <td>4.741707</td>\n",
       "      <td>-0.253165</td>\n",
       "      <td>-0.206149</td>\n",
       "      <td>-0.247156</td>\n",
       "      <td>-0.225779</td>\n",
       "      <td>...</td>\n",
       "      <td>2.269932</td>\n",
       "      <td>-0.16203</td>\n",
       "      <td>-0.166154</td>\n",
       "      <td>-0.106839</td>\n",
       "      <td>-0.258052</td>\n",
       "      <td>-0.241111</td>\n",
       "      <td>-0.241115</td>\n",
       "      <td>-0.449898</td>\n",
       "      <td>-0.260855</td>\n",
       "      <td>-0.221132</td>\n",
       "    </tr>\n",
       "    <tr>\n",
       "      <th>SAMN11878528-TTTGTCATCACCAGGC</th>\n",
       "      <td>-0.17146</td>\n",
       "      <td>-0.369714</td>\n",
       "      <td>-0.306025</td>\n",
       "      <td>-0.141667</td>\n",
       "      <td>-0.482987</td>\n",
       "      <td>-0.217042</td>\n",
       "      <td>-0.253165</td>\n",
       "      <td>-0.206149</td>\n",
       "      <td>-0.247156</td>\n",
       "      <td>-0.225779</td>\n",
       "      <td>...</td>\n",
       "      <td>-0.572731</td>\n",
       "      <td>-0.16203</td>\n",
       "      <td>-0.166154</td>\n",
       "      <td>-0.106839</td>\n",
       "      <td>-0.258052</td>\n",
       "      <td>-0.241111</td>\n",
       "      <td>-0.241115</td>\n",
       "      <td>-0.449898</td>\n",
       "      <td>-0.260855</td>\n",
       "      <td>4.384156</td>\n",
       "    </tr>\n",
       "    <tr>\n",
       "      <th>SAMN11878528-TTTGTCATCACCGTAA</th>\n",
       "      <td>-0.17146</td>\n",
       "      <td>-0.369714</td>\n",
       "      <td>-0.306025</td>\n",
       "      <td>-0.141667</td>\n",
       "      <td>-0.482987</td>\n",
       "      <td>-0.217042</td>\n",
       "      <td>-0.253165</td>\n",
       "      <td>-0.206149</td>\n",
       "      <td>-0.247156</td>\n",
       "      <td>-0.225779</td>\n",
       "      <td>...</td>\n",
       "      <td>-0.572731</td>\n",
       "      <td>-0.16203</td>\n",
       "      <td>-0.166154</td>\n",
       "      <td>-0.106839</td>\n",
       "      <td>-0.258052</td>\n",
       "      <td>-0.241111</td>\n",
       "      <td>-0.241115</td>\n",
       "      <td>-0.449898</td>\n",
       "      <td>-0.260855</td>\n",
       "      <td>-0.221132</td>\n",
       "    </tr>\n",
       "    <tr>\n",
       "      <th>SAMN11878528-TTTGTCATCCTACAGA</th>\n",
       "      <td>-0.17146</td>\n",
       "      <td>-0.369714</td>\n",
       "      <td>-0.306025</td>\n",
       "      <td>-0.141667</td>\n",
       "      <td>-0.482987</td>\n",
       "      <td>-0.217042</td>\n",
       "      <td>-0.253165</td>\n",
       "      <td>-0.206149</td>\n",
       "      <td>-0.247156</td>\n",
       "      <td>-0.225779</td>\n",
       "      <td>...</td>\n",
       "      <td>2.115871</td>\n",
       "      <td>-0.16203</td>\n",
       "      <td>-0.166154</td>\n",
       "      <td>-0.106839</td>\n",
       "      <td>-0.258052</td>\n",
       "      <td>-0.241111</td>\n",
       "      <td>-0.241115</td>\n",
       "      <td>-0.449898</td>\n",
       "      <td>-0.260855</td>\n",
       "      <td>-0.221132</td>\n",
       "    </tr>\n",
       "    <tr>\n",
       "      <th>SAMN11878528-TTTGTCATCGGCGCTA</th>\n",
       "      <td>-0.17146</td>\n",
       "      <td>-0.369714</td>\n",
       "      <td>-0.306025</td>\n",
       "      <td>-0.141667</td>\n",
       "      <td>-0.482987</td>\n",
       "      <td>4.217863</td>\n",
       "      <td>-0.253165</td>\n",
       "      <td>-0.206149</td>\n",
       "      <td>-0.247156</td>\n",
       "      <td>-0.225779</td>\n",
       "      <td>...</td>\n",
       "      <td>-0.572731</td>\n",
       "      <td>-0.16203</td>\n",
       "      <td>-0.166154</td>\n",
       "      <td>-0.106839</td>\n",
       "      <td>-0.258052</td>\n",
       "      <td>-0.241111</td>\n",
       "      <td>-0.241115</td>\n",
       "      <td>-0.449898</td>\n",
       "      <td>-0.260855</td>\n",
       "      <td>-0.221132</td>\n",
       "    </tr>\n",
       "  </tbody>\n",
       "</table>\n",
       "<p>10950 rows × 13985 columns</p>\n",
       "</div>"
      ],
      "text/plain": [
       "                                TSPAN6      DPM1     SCYL3     FIRRM  \\\n",
       "SAMN11878524-AAACCTGCACTTCTGC -0.17146 -0.369714 -0.306025 -0.141667   \n",
       "SAMN11878524-AAACCTGCAGGGTATG -0.17146 -0.369714 -0.306025 -0.141667   \n",
       "SAMN11878524-AAACGGGAGACATAAC -0.17146 -0.369714 -0.306025 -0.141667   \n",
       "SAMN11878524-AAACGGGAGCGTTTAC -0.17146 -0.369714 -0.306025 -0.141667   \n",
       "SAMN11878524-AAACGGGCACATGTGT -0.17146 -0.369714 -0.306025 -0.141667   \n",
       "...                                ...       ...       ...       ...   \n",
       "SAMN11878528-TTTGTCAGTTCCGTCT -0.17146 -0.369714 -0.306025 -0.141667   \n",
       "SAMN11878528-TTTGTCATCACCAGGC -0.17146 -0.369714 -0.306025 -0.141667   \n",
       "SAMN11878528-TTTGTCATCACCGTAA -0.17146 -0.369714 -0.306025 -0.141667   \n",
       "SAMN11878528-TTTGTCATCCTACAGA -0.17146 -0.369714 -0.306025 -0.141667   \n",
       "SAMN11878528-TTTGTCATCGGCGCTA -0.17146 -0.369714 -0.306025 -0.141667   \n",
       "\n",
       "                                    CFH     FUCA2      GCLC      NFYA  \\\n",
       "SAMN11878524-AAACCTGCACTTCTGC -0.482987 -0.217042 -0.253165 -0.206149   \n",
       "SAMN11878524-AAACCTGCAGGGTATG  2.473946 -0.217042 -0.253165 -0.206149   \n",
       "SAMN11878524-AAACGGGAGACATAAC -0.482987 -0.217042 -0.253165 -0.206149   \n",
       "SAMN11878524-AAACGGGAGCGTTTAC  1.969721 -0.217042 -0.253165 -0.206149   \n",
       "SAMN11878524-AAACGGGCACATGTGT -0.482987 -0.217042 -0.253165 -0.206149   \n",
       "...                                 ...       ...       ...       ...   \n",
       "SAMN11878528-TTTGTCAGTTCCGTCT -0.482987  4.741707 -0.253165 -0.206149   \n",
       "SAMN11878528-TTTGTCATCACCAGGC -0.482987 -0.217042 -0.253165 -0.206149   \n",
       "SAMN11878528-TTTGTCATCACCGTAA -0.482987 -0.217042 -0.253165 -0.206149   \n",
       "SAMN11878528-TTTGTCATCCTACAGA -0.482987 -0.217042 -0.253165 -0.206149   \n",
       "SAMN11878528-TTTGTCATCGGCGCTA -0.482987  4.217863 -0.253165 -0.206149   \n",
       "\n",
       "                                  STPG1    NIPAL3  ...    PRRC2B   UGT1A3  \\\n",
       "SAMN11878524-AAACCTGCACTTCTGC -0.247156  4.024714  ...  1.366851 -0.16203   \n",
       "SAMN11878524-AAACCTGCAGGGTATG -0.247156 -0.225779  ... -0.572731 -0.16203   \n",
       "SAMN11878524-AAACGGGAGACATAAC -0.247156 -0.225779  ...  0.936168 -0.16203   \n",
       "SAMN11878524-AAACGGGAGCGTTTAC -0.247156 -0.225779  ... -0.572731 -0.16203   \n",
       "SAMN11878524-AAACGGGCACATGTGT -0.247156 -0.225779  ...  2.423924 -0.16203   \n",
       "...                                 ...       ...  ...       ...      ...   \n",
       "SAMN11878528-TTTGTCAGTTCCGTCT -0.247156 -0.225779  ...  2.269932 -0.16203   \n",
       "SAMN11878528-TTTGTCATCACCAGGC -0.247156 -0.225779  ... -0.572731 -0.16203   \n",
       "SAMN11878528-TTTGTCATCACCGTAA -0.247156 -0.225779  ... -0.572731 -0.16203   \n",
       "SAMN11878528-TTTGTCATCCTACAGA -0.247156 -0.225779  ...  2.115871 -0.16203   \n",
       "SAMN11878528-TTTGTCATCGGCGCTA -0.247156 -0.225779  ... -0.572731 -0.16203   \n",
       "\n",
       "                                 UGT1A5      F8A1  CTAGE4-1    H2AC18  \\\n",
       "SAMN11878524-AAACCTGCACTTCTGC -0.166154 -0.106839 -0.258052 -0.241111   \n",
       "SAMN11878524-AAACCTGCAGGGTATG -0.166154 -0.106839  1.932244 -0.241111   \n",
       "SAMN11878524-AAACGGGAGACATAAC -0.166154 -0.106839 -0.258052  2.038974   \n",
       "SAMN11878524-AAACGGGAGCGTTTAC -0.166154 -0.106839 -0.258052 -0.241111   \n",
       "SAMN11878524-AAACGGGCACATGTGT -0.166154 -0.106839 -0.258052 -0.241111   \n",
       "...                                 ...       ...       ...       ...   \n",
       "SAMN11878528-TTTGTCAGTTCCGTCT -0.166154 -0.106839 -0.258052 -0.241111   \n",
       "SAMN11878528-TTTGTCATCACCAGGC -0.166154 -0.106839 -0.258052 -0.241111   \n",
       "SAMN11878528-TTTGTCATCACCGTAA -0.166154 -0.106839 -0.258052 -0.241111   \n",
       "SAMN11878528-TTTGTCATCCTACAGA -0.166154 -0.106839 -0.258052 -0.241111   \n",
       "SAMN11878528-TTTGTCATCGGCGCTA -0.166154 -0.106839 -0.258052 -0.241111   \n",
       "\n",
       "                                 H2AC19     RPSA2  CTAGE8-1  \\\n",
       "SAMN11878524-AAACCTGCACTTCTGC -0.241115  1.903810 -0.260855   \n",
       "SAMN11878524-AAACCTGCAGGGTATG -0.241115 -0.449898  1.973501   \n",
       "SAMN11878524-AAACGGGAGACATAAC  2.045414 -0.449898 -0.260855   \n",
       "SAMN11878524-AAACGGGAGCGTTTAC -0.241115 -0.449898 -0.260855   \n",
       "SAMN11878524-AAACGGGCACATGTGT -0.241115 -0.449898 -0.260855   \n",
       "...                                 ...       ...       ...   \n",
       "SAMN11878528-TTTGTCAGTTCCGTCT -0.241115 -0.449898 -0.260855   \n",
       "SAMN11878528-TTTGTCATCACCAGGC -0.241115 -0.449898 -0.260855   \n",
       "SAMN11878528-TTTGTCATCACCGTAA -0.241115 -0.449898 -0.260855   \n",
       "SAMN11878528-TTTGTCATCCTACAGA -0.241115 -0.449898 -0.260855   \n",
       "SAMN11878528-TTTGTCATCGGCGCTA -0.241115 -0.449898 -0.260855   \n",
       "\n",
       "                               XNDC1N-ZNF705EP-ALG1L9P  \n",
       "SAMN11878524-AAACCTGCACTTCTGC                -0.221132  \n",
       "SAMN11878524-AAACCTGCAGGGTATG                -0.221132  \n",
       "SAMN11878524-AAACGGGAGACATAAC                -0.221132  \n",
       "SAMN11878524-AAACGGGAGCGTTTAC                -0.221132  \n",
       "SAMN11878524-AAACGGGCACATGTGT                -0.221132  \n",
       "...                                                ...  \n",
       "SAMN11878528-TTTGTCAGTTCCGTCT                -0.221132  \n",
       "SAMN11878528-TTTGTCATCACCAGGC                 4.384156  \n",
       "SAMN11878528-TTTGTCATCACCGTAA                -0.221132  \n",
       "SAMN11878528-TTTGTCATCCTACAGA                -0.221132  \n",
       "SAMN11878528-TTTGTCATCGGCGCTA                -0.221132  \n",
       "\n",
       "[10950 rows x 13985 columns]"
      ]
     },
     "execution_count": 16,
     "metadata": {},
     "output_type": "execute_result"
    }
   ],
   "source": [
    "bdata.to_df()"
   ]
  },
  {
   "cell_type": "markdown",
   "id": "42c5fa4a",
   "metadata": {},
   "source": [
    "# Run GSEA"
   ]
  },
  {
   "cell_type": "code",
   "execution_count": 17,
   "id": "28fb443e",
   "metadata": {},
   "outputs": [],
   "source": [
    "gs = gp.get_library(\"GO_Biological_Process_2021\")\n"
   ]
  },
  {
   "cell_type": "code",
   "execution_count": 18,
   "id": "874a3412",
   "metadata": {},
   "outputs": [
    {
     "name": "stderr",
     "output_type": "stream",
     "text": [
      "/Users/speignier/anaconda3/lib/python3.10/site-packages/gseapy/gsea.py:110: FutureWarning: DataFrame.groupby with axis=1 is deprecated. Do `frame.T.groupby(...)` without axis instead.\n",
      "  df_std = df.groupby(by=cls_dict, axis=1).std(numeric_only=True, ddof=0)\n"
     ]
    },
    {
     "name": "stdout",
     "output_type": "stream",
     "text": [
      "135.6602258682251\n"
     ]
    }
   ],
   "source": [
    "import time\n",
    "t1 = time.time()\n",
    "res = gp.gsea(data=bdata.to_df().T,\n",
    "        gene_sets=gs,\n",
    "        cls=bdata.obs.disease,\n",
    "        permutation_num=1000,\n",
    "        outdir=None,\n",
    "        threads= 8)\n",
    "t2=time.time()\n",
    "print(t2-t1)"
   ]
  },
  {
   "cell_type": "code",
   "execution_count": 19,
   "id": "1bb7d215",
   "metadata": {},
   "outputs": [
    {
     "data": {
      "text/html": [
       "<div>\n",
       "<style scoped>\n",
       "    .dataframe tbody tr th:only-of-type {\n",
       "        vertical-align: middle;\n",
       "    }\n",
       "\n",
       "    .dataframe tbody tr th {\n",
       "        vertical-align: top;\n",
       "    }\n",
       "\n",
       "    .dataframe thead th {\n",
       "        text-align: right;\n",
       "    }\n",
       "</style>\n",
       "<table border=\"1\" class=\"dataframe\">\n",
       "  <thead>\n",
       "    <tr style=\"text-align: right;\">\n",
       "      <th></th>\n",
       "      <th>Name</th>\n",
       "      <th>Term</th>\n",
       "      <th>ES</th>\n",
       "      <th>NES</th>\n",
       "      <th>NOM p-val</th>\n",
       "      <th>FDR q-val</th>\n",
       "      <th>FWER p-val</th>\n",
       "      <th>Tag %</th>\n",
       "      <th>Gene %</th>\n",
       "      <th>Lead_genes</th>\n",
       "    </tr>\n",
       "  </thead>\n",
       "  <tbody>\n",
       "    <tr>\n",
       "      <th>0</th>\n",
       "      <td>gsea</td>\n",
       "      <td>protein targeting to ER (GO:0045047)</td>\n",
       "      <td>-0.795221</td>\n",
       "      <td>-3.187986</td>\n",
       "      <td>0.0</td>\n",
       "      <td>0.0</td>\n",
       "      <td>0.0</td>\n",
       "      <td>69/103</td>\n",
       "      <td>12.95%</td>\n",
       "      <td>RPS26;RPS4X;RPL26;RPLP1;RPS28;RPS15;RPS12;RPL3...</td>\n",
       "    </tr>\n",
       "    <tr>\n",
       "      <th>1</th>\n",
       "      <td>gsea</td>\n",
       "      <td>cotranslational protein targeting to membrane ...</td>\n",
       "      <td>-0.807238</td>\n",
       "      <td>-3.143485</td>\n",
       "      <td>0.0</td>\n",
       "      <td>0.0</td>\n",
       "      <td>0.0</td>\n",
       "      <td>69/94</td>\n",
       "      <td>12.95%</td>\n",
       "      <td>RPS26;RPS4X;RPL26;RPLP1;RPS28;RPS15;RPS12;RPL3...</td>\n",
       "    </tr>\n",
       "    <tr>\n",
       "      <th>2</th>\n",
       "      <td>gsea</td>\n",
       "      <td>SRP-dependent cotranslational protein targetin...</td>\n",
       "      <td>-0.811624</td>\n",
       "      <td>-3.140525</td>\n",
       "      <td>0.0</td>\n",
       "      <td>0.0</td>\n",
       "      <td>0.0</td>\n",
       "      <td>63/90</td>\n",
       "      <td>10.06%</td>\n",
       "      <td>RPS26;RPS4X;RPL26;RPLP1;RPS28;RPS15;RPS12;RPL3...</td>\n",
       "    </tr>\n",
       "    <tr>\n",
       "      <th>3</th>\n",
       "      <td>gsea</td>\n",
       "      <td>cytoplasmic translation (GO:0002181)</td>\n",
       "      <td>-0.780188</td>\n",
       "      <td>-3.041181</td>\n",
       "      <td>0.0</td>\n",
       "      <td>0.0</td>\n",
       "      <td>0.0</td>\n",
       "      <td>62/93</td>\n",
       "      <td>10.06%</td>\n",
       "      <td>RPS26;RPS4X;RPL26;RPLP1;RPS28;RPS15;RPS12;RPL3...</td>\n",
       "    </tr>\n",
       "    <tr>\n",
       "      <th>4</th>\n",
       "      <td>gsea</td>\n",
       "      <td>peptide biosynthetic process (GO:0043043)</td>\n",
       "      <td>-0.696594</td>\n",
       "      <td>-3.01888</td>\n",
       "      <td>0.0</td>\n",
       "      <td>0.0</td>\n",
       "      <td>0.0</td>\n",
       "      <td>91/148</td>\n",
       "      <td>18.13%</td>\n",
       "      <td>RPS26;RPS4X;RPL26;RPLP1;RPS28;RPS15;RPS12;RPL3...</td>\n",
       "    </tr>\n",
       "  </tbody>\n",
       "</table>\n",
       "</div>"
      ],
      "text/plain": [
       "   Name                                               Term        ES  \\\n",
       "0  gsea               protein targeting to ER (GO:0045047) -0.795221   \n",
       "1  gsea  cotranslational protein targeting to membrane ... -0.807238   \n",
       "2  gsea  SRP-dependent cotranslational protein targetin... -0.811624   \n",
       "3  gsea               cytoplasmic translation (GO:0002181) -0.780188   \n",
       "4  gsea          peptide biosynthetic process (GO:0043043) -0.696594   \n",
       "\n",
       "        NES NOM p-val FDR q-val FWER p-val   Tag %  Gene %  \\\n",
       "0 -3.187986       0.0       0.0        0.0  69/103  12.95%   \n",
       "1 -3.143485       0.0       0.0        0.0   69/94  12.95%   \n",
       "2 -3.140525       0.0       0.0        0.0   63/90  10.06%   \n",
       "3 -3.041181       0.0       0.0        0.0   62/93  10.06%   \n",
       "4  -3.01888       0.0       0.0        0.0  91/148  18.13%   \n",
       "\n",
       "                                          Lead_genes  \n",
       "0  RPS26;RPS4X;RPL26;RPLP1;RPS28;RPS15;RPS12;RPL3...  \n",
       "1  RPS26;RPS4X;RPL26;RPLP1;RPS28;RPS15;RPS12;RPL3...  \n",
       "2  RPS26;RPS4X;RPL26;RPLP1;RPS28;RPS15;RPS12;RPL3...  \n",
       "3  RPS26;RPS4X;RPL26;RPLP1;RPS28;RPS15;RPS12;RPL3...  \n",
       "4  RPS26;RPS4X;RPL26;RPLP1;RPS28;RPS15;RPS12;RPL3...  "
      ]
     },
     "execution_count": 19,
     "metadata": {},
     "output_type": "execute_result"
    }
   ],
   "source": [
    "res.res2d.head(5)"
   ]
  },
  {
   "cell_type": "code",
   "execution_count": 20,
   "id": "117c9b68",
   "metadata": {},
   "outputs": [
    {
     "data": {
      "text/plain": [
       "4.093470334769639"
      ]
     },
     "execution_count": 20,
     "metadata": {},
     "output_type": "execute_result"
    }
   ],
   "source": [
    "sum(res.res2d[\"NOM p-val\"]<0.011)/len(gs)*100"
   ]
  },
  {
   "cell_type": "markdown",
   "id": "6e1c26c0",
   "metadata": {},
   "source": [
    "# Test GSHAPA"
   ]
  },
  {
   "cell_type": "code",
   "execution_count": 21,
   "id": "80f147b6",
   "metadata": {},
   "outputs": [],
   "source": [
    "gs = gp.get_library(\"GO_Biological_Process_2021\")#KEGG_2021_Human\n"
   ]
  },
  {
   "cell_type": "code",
   "execution_count": null,
   "id": "b18b00f5",
   "metadata": {},
   "outputs": [],
   "source": [
    "from gshapa.GSHAPA import GSHAPA3\n",
    "from sklearn.ensemble import RandomForestClassifier\n",
    "import time"
   ]
  },
  {
   "cell_type": "code",
   "execution_count": 23,
   "id": "e9410d2a",
   "metadata": {},
   "outputs": [
    {
     "data": {
      "application/vnd.jupyter.widget-view+json": {
       "model_id": "6387565e178a4e3594e68034d9b4f10a",
       "version_major": 2,
       "version_minor": 0
      },
      "text/plain": [
       "  0%|          | 0/6034 [00:00<?, ?it/s]"
      ]
     },
     "metadata": {},
     "output_type": "display_data"
    },
    {
     "name": "stdout",
     "output_type": "stream",
     "text": [
      "76.00607419013977\n"
     ]
    }
   ],
   "source": [
    "t1 = time.time()\n",
    "\n",
    "# Define parameters\n",
    "MODEL = RandomForestClassifier(random_state=33,\n",
    "                               max_features=\"sqrt\",\n",
    "                               n_estimators=1000,\n",
    "                               n_jobs=-1)\n",
    "                               \n",
    "                               \n",
    "                               \n",
    "TEST_SET_SIZE = 0.2\n",
    "\n",
    "# Build TreeSHAPGSEALite object\n",
    "tsl = GSHAPA3(MODEL,TEST_SET_SIZE,random_state=33)\n",
    "\n",
    "# Fit model\n",
    "tsl.fit(bdata.to_df(), bdata.obs[\"disease\"])\n",
    "\n",
    "# Explain each gene contribution\n",
    "X_explain = tsl.X_test[tsl.y_test==\"diabetic nephropathy\"]\n",
    "tsl.shap(X_explain)\n",
    "\n",
    "# Compute pvalues\n",
    "res2 = tsl.explain_gene_sets(gs,'diabetic nephropathy',n_tests=1000)\n",
    "\n",
    "t2=time.time()\n",
    "print(t2-t1)"
   ]
  },
  {
   "cell_type": "code",
   "execution_count": 24,
   "id": "019b6616",
   "metadata": {},
   "outputs": [
    {
     "data": {
      "text/plain": [
       "0.9800901489142111"
      ]
     },
     "execution_count": 24,
     "metadata": {},
     "output_type": "execute_result"
    }
   ],
   "source": [
    "from sklearn.metrics import roc_auc_score\n",
    "roc_auc_score(tsl.y_test, tsl.model.predict_proba(tsl.X_test)[:,1])"
   ]
  },
  {
   "cell_type": "code",
   "execution_count": 25,
   "id": "8b25db4d",
   "metadata": {},
   "outputs": [
    {
     "data": {
      "text/plain": [
       "0.9324683530972893"
      ]
     },
     "execution_count": 25,
     "metadata": {},
     "output_type": "execute_result"
    }
   ],
   "source": [
    "from sklearn.metrics import balanced_accuracy_score\n",
    "balanced_accuracy_score(tsl.y_test, tsl.model.predict(tsl.X_test))"
   ]
  },
  {
   "cell_type": "code",
   "execution_count": 26,
   "id": "16418cbb",
   "metadata": {},
   "outputs": [
    {
     "name": "stdout",
     "output_type": "stream",
     "text": [
      "                      precision    recall  f1-score   support\n",
      "\n",
      "diabetic nephropathy       0.93      0.92      0.93       985\n",
      "              normal       0.94      0.94      0.94      1205\n",
      "\n",
      "            accuracy                           0.93      2190\n",
      "           macro avg       0.93      0.93      0.93      2190\n",
      "        weighted avg       0.93      0.93      0.93      2190\n",
      "\n"
     ]
    }
   ],
   "source": [
    "from sklearn.metrics import classification_report\n",
    "print(classification_report(tsl.y_test, tsl.model.predict(tsl.X_test)))"
   ]
  },
  {
   "cell_type": "code",
   "execution_count": 27,
   "id": "3c3dc969",
   "metadata": {},
   "outputs": [
    {
     "data": {
      "text/plain": [
       "0.8783559827643355"
      ]
     },
     "execution_count": 27,
     "metadata": {},
     "output_type": "execute_result"
    }
   ],
   "source": [
    "sum(res2[\"P-values\"]<0.011)/len(gs)*100"
   ]
  },
  {
   "cell_type": "markdown",
   "id": "bee28cbb",
   "metadata": {},
   "source": [
    "# Compare both methods"
   ]
  },
  {
   "cell_type": "code",
   "execution_count": 28,
   "id": "3c7d6821",
   "metadata": {},
   "outputs": [],
   "source": [
    "pval_gsea= res.res2d[\"NOM p-val\"]\n",
    "pval_gsea.index = res.res2d[\"Term\"]\n",
    "pval_treeshap = res2[\"P-values\"].loc[pval_gsea.index]\n",
    "\n",
    "pvals = pd.DataFrame({\"pval_gsea\":pval_gsea,\"pval_gshapa\":pval_treeshap})"
   ]
  },
  {
   "cell_type": "code",
   "execution_count": 29,
   "id": "7cb8c750",
   "metadata": {},
   "outputs": [
    {
     "name": "stdout",
     "output_type": "stream",
     "text": [
      "\\begin{tabular}{lrr}\n",
      "\\toprule\n",
      "pval_gshapa & False & True \\\\\n",
      "pval_gsea &  &  \\\\\n",
      "\\midrule\n",
      "False & 1933 & 7 \\\\\n",
      "True & 231 & 16 \\\\\n",
      "\\bottomrule\n",
      "\\end{tabular}\n",
      "\n"
     ]
    }
   ],
   "source": [
    "print(pd.crosstab(pvals[\"pval_gsea\"]<0.011, pvals[\"pval_gshapa\"]<0.011).to_latex())"
   ]
  },
  {
   "cell_type": "code",
   "execution_count": 30,
   "id": "fcd9616d",
   "metadata": {},
   "outputs": [
    {
     "data": {
      "text/plain": [
       "SignificanceResult(statistic=19.126777983920842, pvalue=5.278675298953697e-11)"
      ]
     },
     "execution_count": 30,
     "metadata": {},
     "output_type": "execute_result"
    }
   ],
   "source": [
    "from scipy.stats import fisher_exact\n",
    "fisher_exact(pd.crosstab(pvals[\"pval_gsea\"]<0.011, pvals[\"pval_gshapa\"]<0.011))"
   ]
  },
  {
   "cell_type": "code",
   "execution_count": 31,
   "id": "ebcff834",
   "metadata": {},
   "outputs": [
    {
     "data": {
      "text/html": [
       "<div>\n",
       "<style scoped>\n",
       "    .dataframe tbody tr th:only-of-type {\n",
       "        vertical-align: middle;\n",
       "    }\n",
       "\n",
       "    .dataframe tbody tr th {\n",
       "        vertical-align: top;\n",
       "    }\n",
       "\n",
       "    .dataframe thead th {\n",
       "        text-align: right;\n",
       "    }\n",
       "</style>\n",
       "<table border=\"1\" class=\"dataframe\">\n",
       "  <thead>\n",
       "    <tr style=\"text-align: right;\">\n",
       "      <th></th>\n",
       "      <th>pval_gsea</th>\n",
       "      <th>pval_gshapa</th>\n",
       "    </tr>\n",
       "    <tr>\n",
       "      <th>Term</th>\n",
       "      <th></th>\n",
       "      <th></th>\n",
       "    </tr>\n",
       "  </thead>\n",
       "  <tbody>\n",
       "    <tr>\n",
       "      <th>protein peptidyl-prolyl isomerization (GO:0000413)</th>\n",
       "      <td>0.0</td>\n",
       "      <td>0.000</td>\n",
       "    </tr>\n",
       "    <tr>\n",
       "      <th>cellular response to cadmium ion (GO:0071276)</th>\n",
       "      <td>0.0</td>\n",
       "      <td>0.001</td>\n",
       "    </tr>\n",
       "    <tr>\n",
       "      <th>peptidyl-proline modification (GO:0018208)</th>\n",
       "      <td>0.0</td>\n",
       "      <td>0.001</td>\n",
       "    </tr>\n",
       "    <tr>\n",
       "      <th>response to copper ion (GO:0046688)</th>\n",
       "      <td>0.0</td>\n",
       "      <td>0.003</td>\n",
       "    </tr>\n",
       "    <tr>\n",
       "      <th>response to zinc ion (GO:0010043)</th>\n",
       "      <td>0.0</td>\n",
       "      <td>0.003</td>\n",
       "    </tr>\n",
       "    <tr>\n",
       "      <th>response to cadmium ion (GO:0046686)</th>\n",
       "      <td>0.00198</td>\n",
       "      <td>0.003</td>\n",
       "    </tr>\n",
       "    <tr>\n",
       "      <th>cellular defense response (GO:0006968)</th>\n",
       "      <td>0.101626</td>\n",
       "      <td>0.004</td>\n",
       "    </tr>\n",
       "    <tr>\n",
       "      <th>cellular divalent inorganic cation homeostasis (GO:0072503)</th>\n",
       "      <td>0.001988</td>\n",
       "      <td>0.004</td>\n",
       "    </tr>\n",
       "    <tr>\n",
       "      <th>regulation of ossification (GO:0030278)</th>\n",
       "      <td>0.101562</td>\n",
       "      <td>0.005</td>\n",
       "    </tr>\n",
       "    <tr>\n",
       "      <th>potassium ion homeostasis (GO:0055075)</th>\n",
       "      <td>0.003922</td>\n",
       "      <td>0.006</td>\n",
       "    </tr>\n",
       "  </tbody>\n",
       "</table>\n",
       "</div>"
      ],
      "text/plain": [
       "                                                   pval_gsea  pval_gshapa\n",
       "Term                                                                     \n",
       "protein peptidyl-prolyl isomerization (GO:0000413)       0.0        0.000\n",
       "cellular response to cadmium ion (GO:0071276)            0.0        0.001\n",
       "peptidyl-proline modification (GO:0018208)               0.0        0.001\n",
       "response to copper ion (GO:0046688)                      0.0        0.003\n",
       "response to zinc ion (GO:0010043)                        0.0        0.003\n",
       "response to cadmium ion (GO:0046686)                 0.00198        0.003\n",
       "cellular defense response (GO:0006968)              0.101626        0.004\n",
       "cellular divalent inorganic cation homeostasis ...  0.001988        0.004\n",
       "regulation of ossification (GO:0030278)             0.101562        0.005\n",
       "potassium ion homeostasis (GO:0055075)              0.003922        0.006"
      ]
     },
     "execution_count": 31,
     "metadata": {},
     "output_type": "execute_result"
    }
   ],
   "source": [
    "pvals.sort_values(\"pval_gshapa\")[:10]"
   ]
  },
  {
   "cell_type": "markdown",
   "id": "ced4988e",
   "metadata": {},
   "source": [
    "# Check specific patients"
   ]
  },
  {
   "cell_type": "code",
   "execution_count": 35,
   "id": "5111a5d1",
   "metadata": {},
   "outputs": [],
   "source": [
    "bdata_test = bdata[tsl.X_test.index]\n",
    "bdata_test_patients = bdata_test[bdata_test.obs[\"Sample Characteristic[disease]\"]=='diabetic nephropathy']\n",
    "individuals = list(set(bdata_test_patients.obs[\"Sample Characteristic[individual]\"]))"
   ]
  },
  {
   "cell_type": "code",
   "execution_count": 36,
   "id": "bfd25864",
   "metadata": {},
   "outputs": [
    {
     "name": "stdout",
     "output_type": "stream",
     "text": [
      "Diabetes_1\n"
     ]
    },
    {
     "data": {
      "application/vnd.jupyter.widget-view+json": {
       "model_id": "15ab816dd1724e20988baaa610348ee9",
       "version_major": 2,
       "version_minor": 0
      },
      "text/plain": [
       "  0%|          | 0/6034 [00:00<?, ?it/s]"
      ]
     },
     "metadata": {},
     "output_type": "display_data"
    },
    {
     "name": "stdout",
     "output_type": "stream",
     "text": [
      "Diabetes_2\n"
     ]
    },
    {
     "data": {
      "application/vnd.jupyter.widget-view+json": {
       "model_id": "13542dc0c99347b9ae1fa1de47df33ae",
       "version_major": 2,
       "version_minor": 0
      },
      "text/plain": [
       "  0%|          | 0/6034 [00:00<?, ?it/s]"
      ]
     },
     "metadata": {},
     "output_type": "display_data"
    }
   ],
   "source": [
    "individuals_tests = {}\n",
    "for i in individuals:\n",
    "    print(i)\n",
    "    bdataexplain = bdata_test_patients[bdata_test_patients.obs[\"Sample Characteristic[individual]\"] == i]\n",
    "    tsl.shap(bdata_explain.to_df())\n",
    "    res_i = tsl.explain_gene_sets(gs,'diabetic nephropathy',n_tests=1000)\n",
    "    individuals_tests[i] = res_i\n",
    "    "
   ]
  },
  {
   "cell_type": "code",
   "execution_count": 37,
   "id": "3eb33cce",
   "metadata": {},
   "outputs": [],
   "source": [
    "p_values_patients = {}\n",
    "for i in individuals_tests:\n",
    "    res_i = individuals_tests[i]\n",
    "    p_values_patients[i] = res_i[\"corrected P-values\"]\n",
    "p_values_patients = pd.DataFrame(p_values_patients)\n",
    "scores = -np.log10(p_values_patients+1e-100)"
   ]
  },
  {
   "cell_type": "code",
   "execution_count": 38,
   "id": "80202d10",
   "metadata": {},
   "outputs": [],
   "source": [
    "significant_donors = scores[scores.sum(axis=1)>0]\n",
    "significant_donors.columns = [\"Donor \"+c.split(\"_\")[-1] for c in significant_donors.columns]"
   ]
  },
  {
   "cell_type": "code",
   "execution_count": 39,
   "id": "40c89a58",
   "metadata": {},
   "outputs": [
    {
     "name": "stderr",
     "output_type": "stream",
     "text": [
      "Tight layout not applied. The left and right margins cannot be made large enough to accommodate all axes decorations.\n"
     ]
    },
    {
     "data": {
      "image/png": "[encoded data removed]",
      "text/plain": [
       "<Figure size 400x500 with 4 Axes>"
      ]
     },
     "metadata": {},
     "output_type": "display_data"
    }
   ],
   "source": [
    "import seaborn as sns\n",
    "sns.set(font_scale=1.4)\n",
    "ax = sns.clustermap(significant_donors,figsize=(4,5),yticklabels=True,)\n",
    "ax.cax.set_visible(False)"
   ]
  },
  {
   "cell_type": "code",
   "execution_count": null,
   "id": "be54b834",
   "metadata": {},
   "outputs": [],
   "source": []
  }
 ],
 "metadata": {
  "kernelspec": {
   "display_name": "Python 3 (ipykernel)",
   "language": "python",
   "name": "python3"
  },
  "language_info": {
   "codemirror_mode": {
    "name": "ipython",
    "version": 3
   },
   "file_extension": ".py",
   "mimetype": "text/x-python",
   "name": "python",
   "nbconvert_exporter": "python",
   "pygments_lexer": "ipython3",
   "version": "3.10.8"
  }
 },
 "nbformat": 4,
 "nbformat_minor": 5
}
