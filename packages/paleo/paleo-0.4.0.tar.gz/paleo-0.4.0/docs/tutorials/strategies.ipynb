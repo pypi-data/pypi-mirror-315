{
 "cells": [
  {
   "cell_type": "markdown",
   "metadata": {},
   "source": [
    "# Replay strategies\n"
   ]
  },
  {
   "cell_type": "code",
   "execution_count": 1,
   "metadata": {},
   "outputs": [],
   "source": [
    "import networkx as nx\n",
    "from tqdm.auto import tqdm\n",
    "\n",
    "from caveclient import CAVEclient\n",
    "from paleo import (\n",
    "    get_initial_graph,\n",
    "    get_operations_level2_edits,\n",
    "    get_nucleus_supervoxel,\n",
    "    get_node_aliases,\n",
    "    get_detailed_change_log,\n",
    ")"
   ]
  },
  {
   "cell_type": "code",
   "execution_count": null,
   "metadata": {},
   "outputs": [],
   "source": [
    "root_id = 864691135639556411\n",
    "client = CAVEclient(\"minnie65_public\", version=1078)\n",
    "change_log = get_detailed_change_log(root_id, client, filtered=False)\n",
    "change_log"
   ]
  },
  {
   "cell_type": "code",
   "execution_count": null,
   "metadata": {},
   "outputs": [],
   "source": [
    "networkdeltas = get_operations_level2_edits(change_log.index, client)\n",
    "initial_graph = get_initial_graph(root_id, client)\n",
    "nuc_supervoxel_id = get_nucleus_supervoxel(root_id, client)\n",
    "node_info = get_node_aliases(nuc_supervoxel_id, client, stop_layer=2)\n",
    "anchor_nodes = node_info.index"
   ]
  },
  {
   "cell_type": "code",
   "execution_count": 5,
   "metadata": {},
   "outputs": [],
   "source": [
    "from paleo import get_metaedits\n",
    "\n",
    "metaedits, operation_map = get_metaedits(networkdeltas)"
   ]
  },
  {
   "cell_type": "code",
   "execution_count": null,
   "metadata": {},
   "outputs": [],
   "source": [
    "change_log[\"metaedit\"] = change_log.index.map(operation_map)\n",
    "\n",
    "metaedit_info = (\n",
    "    change_log.groupby(\"metaedit\")\n",
    "    .agg({\"timestamp\": \"min\", \"is_merge\": \"any\", \"metaedit\": \"count\"})\n",
    "    .rename(\n",
    "        columns={\n",
    "            \"metaedit\": \"n_edits\",\n",
    "            \"timestamp\": \"first_timestamp\",\n",
    "            \"is_merge\": \"has_merge\",\n",
    "        }\n",
    "    )\n",
    ")\n",
    "metaedit_info[\"operation_ids\"] = (\n",
    "    change_log.reset_index().groupby(\"metaedit\")[\"operation_id\"].unique()\n",
    ")\n",
    "metaedit_info = metaedit_info.sort_values(\"first_timestamp\")\n",
    "metaedit_info"
   ]
  },
  {
   "cell_type": "code",
   "execution_count": null,
   "metadata": {},
   "outputs": [],
   "source": [
    "metaedit_info.index.is_monotonic_increasing"
   ]
  },
  {
   "cell_type": "code",
   "execution_count": null,
   "metadata": {},
   "outputs": [],
   "source": [
    "from paleo import resolve_edit\n",
    "\n",
    "graph = initial_graph.copy()\n",
    "\n",
    "components = []\n",
    "subgraphs = []\n",
    "\n",
    "# remember to include the initial state\n",
    "edits = metaedits.copy()\n",
    "edits = {-1: None, **edits}\n",
    "\n",
    "# after each edit, apply it and store the connected component for the nucleus node\n",
    "for edit_id, delta in tqdm(edits.items(), disable=False):\n",
    "    component = resolve_edit(graph, delta, node_info.index)\n",
    "    components.append(component)\n",
    "\n",
    "    subgraph = graph.subgraph(component).copy()\n",
    "    subgraphs.append(subgraph)"
   ]
  },
  {
   "cell_type": "code",
   "execution_count": 9,
   "metadata": {},
   "outputs": [],
   "source": [
    "final_edgelist = client.chunkedgraph.level2_chunk_graph(root_id)\n",
    "final_graph = nx.from_edgelist(final_edgelist)"
   ]
  },
  {
   "cell_type": "code",
   "execution_count": null,
   "metadata": {},
   "outputs": [],
   "source": [
    "import numpy as np\n",
    "\n",
    "print(np.setdiff1d(final_graph.nodes, subgraphs[-1].nodes))"
   ]
  },
  {
   "cell_type": "code",
   "execution_count": 14,
   "metadata": {},
   "outputs": [],
   "source": [
    "used_l2_ids = np.unique(np.concatenate([list(c) for c in components]))\n",
    "\n",
    "l2data = client.l2cache.get_l2data_table(used_l2_ids, split_columns=True)\n",
    "l2data"
   ]
  },
  {
   "cell_type": "code",
   "execution_count": null,
   "metadata": {},
   "outputs": [],
   "source": [
    "import pandas as pd\n",
    "\n",
    "from pcg_skel import pcg_skeleton_direct\n",
    "\n",
    "nuc_table = client.info.get_datastack_info()[\"soma_table\"]\n",
    "nuc_info = client.materialize.query_table(\n",
    "    nuc_table, filter_equal_dict=dict(pt_root_id=root_id)\n",
    ")\n",
    "nuc_loc = nuc_info[\"pt_position\"].values[0]\n",
    "\n",
    "\n",
    "def skeletonize(subgraph):\n",
    "    component = pd.Index(list(subgraph.nodes))\n",
    "    vertices = l2data.loc[\n",
    "        component, [\"rep_coord_nm_x\", \"rep_coord_nm_y\", \"rep_coord_nm_z\"]\n",
    "    ].values\n",
    "    edges = nx.to_pandas_edgelist(subgraph).values\n",
    "    edges = np.vectorize(component.get_loc)(edges)\n",
    "    skeleton = pcg_skeleton_direct(vertices, edges, root_point=nuc_loc)\n",
    "    return skeleton\n",
    "\n",
    "\n",
    "skeletons = {}\n",
    "for subgraph in tqdm(subgraphs, desc=\"Skeletonizing\"):\n",
    "    skeleton = skeletonize(subgraph)\n",
    "    skeletons[subgraph] = skeleton\n",
    "\n",
    "\n",
    "# graph = initial_graph.copy()\n",
    "# # keep track of components that are reached as we go\n",
    "# components = []\n",
    "# # remember to include the initial state\n",
    "# metaedits = {-1: None, **metaedits}\n",
    "\n",
    "# skeletons = {}\n",
    "# # after each edit, apply it and store the connected component for the nucleus node\n",
    "# for edit_id, delta in tqdm(metaedits.items(), disable=False):\n",
    "#     component = resolve_edit(graph, delta, node_info.index)\n",
    "#     skeleton = skeletonize(graph, component)\n",
    "#     skeletons[edit_id] = skeleton"
   ]
  },
  {
   "cell_type": "code",
   "execution_count": 18,
   "metadata": {},
   "outputs": [],
   "source": [
    "import pyvista as pv\n",
    "\n",
    "plotter = pv.Plotter()\n",
    "plotter.open_gif(\"skeleton_evolution.gif\", fps=30)\n",
    "\n",
    "\n",
    "def skel_to_poly(skeleton):\n",
    "    vertices = skeleton.vertices\n",
    "    edges = skeleton.edges\n",
    "    lines = np.full((len(edges), 3), 2)\n",
    "    lines[:, 1:] = edges\n",
    "    line_poly = pv.PolyData(vertices, lines=lines)\n",
    "    return line_poly\n",
    "\n",
    "\n",
    "last_skeleton = skeletons[list(skeletons.keys())[-1]]\n",
    "actor = plotter.add_mesh(skel_to_poly(last_skeleton), color=\"black\", line_width=2)\n",
    "plotter.write_frame()\n",
    "plotter.remove_actor(actor)\n",
    "\n",
    "first_skeleton = skeletons[list(skeletons.keys())[0]]\n",
    "actor = plotter.add_mesh(skel_to_poly(first_skeleton), color=\"blue\", line_width=5)\n",
    "\n",
    "for edit_id, skeleton in skeletons.items():\n",
    "    line_poly = skel_to_poly(skeleton)\n",
    "    actor = plotter.add_mesh(line_poly, color=\"black\", line_width=2)\n",
    "    plotter.write_frame()\n",
    "    plotter.remove_actor(actor)\n",
    "\n",
    "plotter.close()"
   ]
  },
  {
   "cell_type": "code",
   "execution_count": 19,
   "metadata": {},
   "outputs": [],
   "source": [
    "import time\n",
    "from pcg_skel import pcg_skeleton\n",
    "\n",
    "currtime = time.time()\n",
    "scratch_skeleton = pcg_skeleton(\n",
    "    root_id,\n",
    "    client,\n",
    "    root_point=nuc_loc,\n",
    "    root_point_resolution=[1, 1, 1],\n",
    ")"
   ]
  },
  {
   "cell_type": "code",
   "execution_count": null,
   "metadata": {},
   "outputs": [],
   "source": [
    "from paleo import get_all_time_synapses\n",
    "\n",
    "pre_synapses, post_synapses = get_all_time_synapses(root_id, client, verbose=True)"
   ]
  },
  {
   "cell_type": "code",
   "execution_count": null,
   "metadata": {},
   "outputs": [],
   "source": [
    "from paleo import get_nodes_aliases\n",
    "\n",
    "supervoxel_ids = pre_synapses[\"pre_pt_supervoxel_id\"].unique()\n",
    "print(len(supervoxel_ids))\n",
    "pre_l2_mappings = get_nodes_aliases(supervoxel_ids, client)\n",
    "\n",
    "supervoxel_ids = post_synapses[\"post_pt_supervoxel_id\"].unique()\n",
    "print(len(supervoxel_ids))\n",
    "# post_l2_mappings = get_nodes_aliases(supervoxel_ids, client)"
   ]
  }
 ],
 "metadata": {
  "kernelspec": {
   "display_name": ".venv",
   "language": "python",
   "name": "python3"
  },
  "language_info": {
   "codemirror_mode": {
    "name": "ipython",
    "version": 3
   },
   "file_extension": ".py",
   "mimetype": "text/x-python",
   "name": "python",
   "nbconvert_exporter": "python",
   "pygments_lexer": "ipython3",
   "version": "3.12.5"
  }
 },
 "nbformat": 4,
 "nbformat_minor": 2
}
