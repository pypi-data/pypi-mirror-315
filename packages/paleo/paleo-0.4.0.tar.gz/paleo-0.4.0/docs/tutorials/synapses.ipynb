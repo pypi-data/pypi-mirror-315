{
 "cells": [
  {
   "cell_type": "markdown",
   "metadata": {},
   "source": [
    "# Tracking synapses\n"
   ]
  },
  {
   "cell_type": "code",
   "execution_count": 1,
   "metadata": {},
   "outputs": [
    {
     "name": "stderr",
     "output_type": "stream",
     "text": [
      "WARNING:root:cloudvolume not available. 'precomputed' output format will not work.\n"
     ]
    }
   ],
   "source": [
    "import time\n",
    "\n",
    "from caveclient import CAVEclient\n",
    "from paleo import (\n",
    "    get_initial_graph,\n",
    "    get_root_level2_edits,\n",
    "    get_nucleus_supervoxel,\n",
    "    get_node_aliases,\n",
    ")"
   ]
  },
  {
   "cell_type": "code",
   "execution_count": 2,
   "metadata": {},
   "outputs": [],
   "source": [
    "root_id = 864691135639556411\n",
    "client = CAVEclient(\"minnie65_public\", version=1078)"
   ]
  },
  {
   "cell_type": "markdown",
   "metadata": {},
   "source": [
    "## Collect edit history information\n"
   ]
  },
  {
   "cell_type": "code",
   "execution_count": 3,
   "metadata": {},
   "outputs": [
    {
     "data": {
      "application/vnd.jupyter.widget-view+json": {
       "model_id": "2e5d8ceca02b4bad8e3f121cb859ada7",
       "version_major": 2,
       "version_minor": 0
      },
      "text/plain": [
       "Extracting level2 edits:   0%|          | 0/693 [00:00<?, ?it/s]"
      ]
     },
     "metadata": {},
     "output_type": "display_data"
    },
    {
     "name": "stderr",
     "output_type": "stream",
     "text": [
      "WARNING:root:cloudvolume not available. 'precomputed' output format will not work.\n",
      "WARNING:root:cloudvolume not available. 'precomputed' output format will not work.\n",
      "WARNING:root:cloudvolume not available. 'precomputed' output format will not work.\n",
      "WARNING:root:cloudvolume not available. 'precomputed' output format will not work.\n",
      "WARNING:root:cloudvolume not available. 'precomputed' output format will not work.\n",
      "WARNING:root:cloudvolume not available. 'precomputed' output format will not work.\n",
      "WARNING:root:cloudvolume not available. 'precomputed' output format will not work.\n",
      "WARNING:root:cloudvolume not available. 'precomputed' output format will not work.\n",
      "WARNING:root:cloudvolume not available. 'precomputed' output format will not work.\n",
      "WARNING:root:cloudvolume not available. 'precomputed' output format will not work.\n",
      "WARNING:root:cloudvolume not available. 'precomputed' output format will not work.\n",
      "WARNING:root:cloudvolume not available. 'precomputed' output format will not work.\n"
     ]
    },
    {
     "data": {
      "application/vnd.jupyter.widget-view+json": {
       "model_id": "2bfb473fae694ce08bfe56bee23f611f",
       "version_major": 2,
       "version_minor": 0
      },
      "text/plain": [
       "Getting initial graph:   0%|          | 0/309 [00:00<?, ?it/s]"
      ]
     },
     "metadata": {},
     "output_type": "display_data"
    }
   ],
   "source": [
    "edits = get_root_level2_edits(root_id, client)\n",
    "initial_graph = get_initial_graph(root_id, client)\n",
    "nuc_supervoxel_id = get_nucleus_supervoxel(root_id, client)\n",
    "anchor_nodes = get_node_aliases(nuc_supervoxel_id, client, stop_layer=2)"
   ]
  },
  {
   "cell_type": "markdown",
   "metadata": {},
   "source": [
    "## Apply edit history\n"
   ]
  },
  {
   "cell_type": "code",
   "execution_count": 4,
   "metadata": {},
   "outputs": [
    {
     "data": {
      "application/vnd.jupyter.widget-view+json": {
       "model_id": "25f9535fcd5b4fcba84940a3e1ca4ec8",
       "version_major": 2,
       "version_minor": 0
      },
      "text/plain": [
       "  0%|          | 0/694 [00:00<?, ?it/s]"
      ]
     },
     "metadata": {},
     "output_type": "display_data"
    },
    {
     "data": {
      "text/plain": [
       "{161373192110212021,\n",
       " 161373192177319957,\n",
       " 161373260829688894,\n",
       " 161373260896796674,\n",
       " 161373329549165526,\n",
       " 161373329616273411,\n",
       " 161373398335750279,\n",
       " 161443492202020923,\n",
       " 161443560854389734,\n",
       " 161443560921497602,\n",
       " 161443629573866365,\n",
       " 161443629640974337,\n",
       " 161443698293343195,\n",
       " 161443698360451073,\n",
       " 161443767079927917,\n",
       " 161513860946198532,\n",
       " 161513929598567394,\n",
       " 161513929665675266,\n",
       " 161513929665675274,\n",
       " 161513998318044173,\n",
       " 161513998385152001,\n",
       " 161514067037520900,\n",
       " 161514067104628737,\n",
       " 161514135824105588,\n",
       " 161514135824105609,\n",
       " 161584229690376221,\n",
       " 161584298342745132,\n",
       " 161584298409852931,\n",
       " 161584367062221750,\n",
       " 161584367129329665,\n",
       " 161584435781698483,\n",
       " 161584435848806401,\n",
       " 161584435848806430,\n",
       " 161654598434553982,\n",
       " 161654667154030620,\n",
       " 161654735806399337,\n",
       " 161654735873507331,\n",
       " 161654804592984109}"
      ]
     },
     "execution_count": 4,
     "metadata": {},
     "output_type": "execute_result"
    }
   ],
   "source": [
    "from paleo import apply_edit_sequence\n",
    "\n",
    "nodes_by_state = apply_edit_sequence(\n",
    "    initial_graph,\n",
    "    edits,\n",
    "    anchor_nodes,\n",
    "    return_graphs=False,\n",
    "    include_initial=True,\n",
    "    verbose=True,\n",
    ")\n",
    "nodes_by_state[9028]"
   ]
  },
  {
   "cell_type": "markdown",
   "metadata": {},
   "source": [
    "## Get synapses, map to state history\n"
   ]
  },
  {
   "cell_type": "code",
   "execution_count": 5,
   "metadata": {},
   "outputs": [
    {
     "name": "stdout",
     "output_type": "stream",
     "text": [
      "Getting original roots took 1.35 seconds\n",
      "Getting latest roots took 6.83 seconds\n",
      "Querying synapse table for pre-synapses...\n",
      "Querying synapse table took 33.59 seconds\n"
     ]
    },
    {
     "data": {
      "application/vnd.jupyter.widget-view+json": {
       "model_id": "99f31d46ba4e45f7b4b2ddf72732dd36",
       "version_major": 2,
       "version_minor": 0
      },
      "text/plain": [
       "Getting leaves:   0%|          | 0/3046 [00:00<?, ?it/s]"
      ]
     },
     "metadata": {},
     "output_type": "display_data"
    },
    {
     "data": {
      "application/vnd.jupyter.widget-view+json": {
       "model_id": "c049c2d1db1b4fc890a2e1fe0fa6c098",
       "version_major": 2,
       "version_minor": 0
      },
      "text/plain": [
       "Getting remaining level2s:   0%|          | 0/6 [00:00<?, ?it/s]"
      ]
     },
     "metadata": {},
     "output_type": "display_data"
    },
    {
     "name": "stdout",
     "output_type": "stream",
     "text": [
      "130.925 seconds elapsed.\n"
     ]
    }
   ],
   "source": [
    "from paleo import get_mutable_synapses\n",
    "\n",
    "currtime = time.time()\n",
    "\n",
    "pre_synapses = get_mutable_synapses(root_id, edits, client, verbose=True, sides=\"pre\")\n",
    "\n",
    "print(f\"{time.time() - currtime:.3f} seconds elapsed.\")"
   ]
  },
  {
   "cell_type": "code",
   "execution_count": 6,
   "metadata": {},
   "outputs": [
    {
     "data": {
      "application/vnd.jupyter.widget-view+json": {
       "model_id": "cec2a52fe98c4ad48b51d5dcc9c3653f",
       "version_major": 2,
       "version_minor": 0
      },
      "text/plain": [
       "  0%|          | 0/694 [00:00<?, ?it/s]"
      ]
     },
     "metadata": {},
     "output_type": "display_data"
    }
   ],
   "source": [
    "from paleo import map_synapses_to_sequence\n",
    "\n",
    "pre_synapses_by_state = map_synapses_to_sequence(\n",
    "    pre_synapses, nodes_by_state, side=\"pre\"\n",
    ")"
   ]
  },
  {
   "cell_type": "code",
   "execution_count": 7,
   "metadata": {},
   "outputs": [
    {
     "data": {
      "text/plain": [
       "[]"
      ]
     },
     "execution_count": 7,
     "metadata": {},
     "output_type": "execute_result"
    }
   ],
   "source": [
    "pre_synapses_by_state[9028]"
   ]
  },
  {
   "cell_type": "code",
   "execution_count": 8,
   "metadata": {},
   "outputs": [
    {
     "data": {
      "text/plain": [
       "[161850858,\n",
       " 189432137,\n",
       " 185549118,\n",
       " 189955131,\n",
       " 185551198,\n",
       " 189955192,\n",
       " 173214806,\n",
       " 175121335,\n",
       " 175121197,\n",
       " 189954862,\n",
       " 189954842,\n",
       " 161470811,\n",
       " 189432488,\n",
       " 189432294,\n",
       " 189432341,\n",
       " 156938288,\n",
       " 161469398,\n",
       " 189432102,\n",
       " 175120892,\n",
       " 178846653]"
      ]
     },
     "execution_count": 8,
     "metadata": {},
     "output_type": "execute_result"
    }
   ],
   "source": [
    "pre_synapses_by_state[87490]"
   ]
  },
  {
   "cell_type": "markdown",
   "metadata": {},
   "source": [
    "## Plot number of synapses over time\n"
   ]
  },
  {
   "cell_type": "code",
   "execution_count": 9,
   "metadata": {},
   "outputs": [],
   "source": [
    "n_synapses = [len(s) for s in pre_synapses_by_state.values()]"
   ]
  },
  {
   "cell_type": "code",
   "execution_count": 10,
   "metadata": {},
   "outputs": [
    {
     "data": {
      "text/plain": [
       "Text(0, 0.5, 'Number of pre-synapses')"
      ]
     },
     "execution_count": 10,
     "metadata": {},
     "output_type": "execute_result"
    },
    {
     "data": {
      "image/png": "[encoded data removed]",
      "text/plain": [
       "<Figure size 640x480 with 1 Axes>"
      ]
     },
     "metadata": {},
     "output_type": "display_data"
    }
   ],
   "source": [
    "import seaborn as sns\n",
    "import matplotlib.pyplot as plt\n",
    "\n",
    "sns.set_context(\"talk\")\n",
    "\n",
    "fig, ax = plt.subplots()\n",
    "sns.lineplot(x=range(len(n_synapses)), y=n_synapses, ax=ax)\n",
    "ax.set_xlabel(\"State\")\n",
    "ax.set_ylabel(\"Number of pre-synapses\")"
   ]
  }
 ],
 "metadata": {
  "kernelspec": {
   "display_name": ".venv",
   "language": "python",
   "name": "python3"
  },
  "language_info": {
   "codemirror_mode": {
    "name": "ipython",
    "version": 3
   },
   "file_extension": ".py",
   "mimetype": "text/x-python",
   "name": "python",
   "nbconvert_exporter": "python",
   "pygments_lexer": "ipython3",
   "version": "3.12.5"
  }
 },
 "nbformat": 4,
 "nbformat_minor": 2
}
