{
 "cells": [
  {
   "cell_type": "markdown",
   "id": "69972d82",
   "metadata": {},
   "source": [
    "Once we have extracted the edits that have happened to a neuron (see [here](./extraction.ipynb)), it can be helpful to\n",
    "replay them in order to see how the neuron has changed over time.\n"
   ]
  },
  {
   "cell_type": "markdown",
   "id": "22ac9250",
   "metadata": {},
   "source": [
    "## Extract the edits and initial state of this neuron\n"
   ]
  },
  {
   "cell_type": "code",
   "execution_count": 1,
   "id": "c62b3f5c",
   "metadata": {},
   "outputs": [],
   "source": [
    "import networkx as nx\n",
    "from tqdm.auto import tqdm\n",
    "\n",
    "from caveclient import CAVEclient\n",
    "from paleo import get_initial_graph, get_root_level2_edits"
   ]
  },
  {
   "cell_type": "markdown",
   "id": "4d8d024e",
   "metadata": {},
   "source": [
    "As in the previous example, we'll start by extracting the edits to a neuron.\n"
   ]
  },
  {
   "cell_type": "code",
   "execution_count": 2,
   "id": "053226cb",
   "metadata": {},
   "outputs": [
    {
     "data": {
      "application/vnd.jupyter.widget-view+json": {
       "model_id": "d7e81642884c4e0b9e54f23c25cc7ede",
       "version_major": 2,
       "version_minor": 0
      },
      "text/plain": [
       "Extracting level2 edits:   0%|          | 0/693 [00:00<?, ?it/s]"
      ]
     },
     "metadata": {},
     "output_type": "display_data"
    }
   ],
   "source": [
    "root_id = 864691135639556411\n",
    "\n",
    "client = CAVEclient(\"minnie65_public\", version=1078)\n",
    "\n",
    "networkdeltas = get_root_level2_edits(root_id, client)"
   ]
  },
  {
   "cell_type": "markdown",
   "id": "1f1cb08e",
   "metadata": {},
   "source": [
    "This time, we'll also use `paleo.get_initial_graph` to get the level2 graph connectivity\n",
    "for all objects that participate in this neuron's edit history. This will allow us to\n",
    "replay the edits in the context of the full segmentation graph.\n"
   ]
  },
  {
   "cell_type": "code",
   "execution_count": 3,
   "id": "c0a67125",
   "metadata": {},
   "outputs": [
    {
     "name": "stderr",
     "output_type": "stream",
     "text": [
      "/Users/ben.pedigo/code/cave-edits/paleo/.venv/lib/python3.12/site-packages/networkx/readwrite/json_graph/node_link.py:287: FutureWarning: \n",
      "The default value will be changed to `edges=\"edges\" in NetworkX 3.6.\n",
      "\n",
      "To make this warning go away, explicitly set the edges kwarg, e.g.:\n",
      "\n",
      "  nx.node_link_graph(data, edges=\"links\") to preserve current behavior, or\n",
      "  nx.node_link_graph(data, edges=\"edges\") for forward compatibility.\n",
      "  warnings.warn(\n"
     ]
    },
    {
     "data": {
      "application/vnd.jupyter.widget-view+json": {
       "model_id": "15d02791206a41b4a4547954337df6db",
       "version_major": 2,
       "version_minor": 0
      },
      "text/plain": [
       "Getting initial graph:   0%|          | 0/309 [00:00<?, ?it/s]"
      ]
     },
     "metadata": {},
     "output_type": "display_data"
    }
   ],
   "source": [
    "initial_graph = get_initial_graph(root_id, client)"
   ]
  },
  {
   "cell_type": "markdown",
   "id": "a7c3f3da",
   "metadata": {},
   "source": [
    "## Replaying the edits over the level2 graph\n"
   ]
  },
  {
   "cell_type": "markdown",
   "id": "f522a09c",
   "metadata": {},
   "source": [
    "The simplest thing we can do now is to replay the edits in order. `paleo` provides the\n",
    "`apply_edit` function that takes in the graph and an edit and applies it to the graph.\n",
    "Note that this modifies the graph in place.\n"
   ]
  },
  {
   "cell_type": "code",
   "execution_count": 4,
   "id": "52405e9e",
   "metadata": {},
   "outputs": [
    {
     "data": {
      "application/vnd.jupyter.widget-view+json": {
       "model_id": "2f29470561ef48cabd8619a266fde6fe",
       "version_major": 2,
       "version_minor": 0
      },
      "text/plain": [
       "  0%|          | 0/693 [00:00<?, ?it/s]"
      ]
     },
     "metadata": {},
     "output_type": "display_data"
    }
   ],
   "source": [
    "from paleo import apply_edit\n",
    "\n",
    "deltas = list(networkdeltas.values())\n",
    "\n",
    "graph = initial_graph.copy()\n",
    "for delta in tqdm(deltas, disable=False):\n",
    "    apply_edit(graph, delta)"
   ]
  },
  {
   "cell_type": "markdown",
   "id": "4de2e928",
   "metadata": {},
   "source": [
    "As a sanity check, we might want to compare the graph that we got from replaying edits\n",
    "from the original, to the actual graph that we'd get from `client.chunkedgraph.level2_chunk_graph`.\n",
    "\n",
    "To do so, we need to also know a point on the object of interest to use as an anchor point -\n",
    "this is because typically `graph` will be composed of many connected components, but only\n",
    "one of them corresponds to the current state of our neuron.\n"
   ]
  },
  {
   "cell_type": "code",
   "execution_count": 5,
   "id": "686de9a9",
   "metadata": {},
   "outputs": [],
   "source": [
    "from paleo import get_nucleus_supervoxel\n",
    "\n",
    "nuc_supervoxel_id = get_nucleus_supervoxel(root_id, client)\n",
    "\n",
    "nuc_level2_id = client.chunkedgraph.get_roots(nuc_supervoxel_id, stop_layer=2)[0]\n",
    "\n",
    "neuron_component = nx.node_connected_component(graph, nuc_level2_id)\n",
    "neuron_graph = graph.subgraph(neuron_component)"
   ]
  },
  {
   "cell_type": "code",
   "execution_count": 6,
   "id": "0180dfbc",
   "metadata": {},
   "outputs": [],
   "source": [
    "computed_edgelist = nx.to_pandas_edgelist(neuron_graph).values.astype(int)"
   ]
  },
  {
   "cell_type": "code",
   "execution_count": 7,
   "id": "dc83cf6e",
   "metadata": {},
   "outputs": [],
   "source": [
    "final_edgelist = client.chunkedgraph.level2_chunk_graph(root_id)"
   ]
  },
  {
   "cell_type": "markdown",
   "id": "08731d70",
   "metadata": {},
   "source": [
    "It's assuring to see that we at least have the same number of edges in both cases.\n"
   ]
  },
  {
   "cell_type": "code",
   "execution_count": 8,
   "id": "b70c0170",
   "metadata": {},
   "outputs": [
    {
     "data": {
      "text/plain": [
       "(10210, 10210)"
      ]
     },
     "execution_count": 8,
     "metadata": {},
     "output_type": "execute_result"
    }
   ],
   "source": [
    "len(final_edgelist), len(computed_edgelist)"
   ]
  },
  {
   "cell_type": "markdown",
   "id": "37384cea",
   "metadata": {},
   "source": [
    "...and when we compare the actual edgelists element-wise, we see that they are the same.\n"
   ]
  },
  {
   "cell_type": "code",
   "execution_count": 9,
   "id": "4813198d",
   "metadata": {},
   "outputs": [
    {
     "data": {
      "text/plain": [
       "True"
      ]
     },
     "execution_count": 9,
     "metadata": {},
     "output_type": "execute_result"
    }
   ],
   "source": [
    "import numpy as np\n",
    "\n",
    "final_edgelist = np.unique(np.sort(final_edgelist, axis=1), axis=0)\n",
    "computed_edgelist = np.unique(np.sort(computed_edgelist, axis=1), axis=0)\n",
    "\n",
    "(final_edgelist == computed_edgelist).all()"
   ]
  },
  {
   "cell_type": "markdown",
   "id": "47f567e4",
   "metadata": {},
   "source": [
    "## Tracking neuron state over the edit history\n"
   ]
  },
  {
   "cell_type": "markdown",
   "id": "fd7d2d4b",
   "metadata": {},
   "source": [
    "Now, let's try keeping track of the state of the neuron at every point along this edit\n",
    "history.\n",
    "\n",
    "This becomes just a bit more complicated: often the level2 ID corresponding to\n",
    "a nucleus's location may change over time if there was an edit near that location. If\n",
    "we want to keep track of the segmentation component corresponding to the nucleus\n",
    "(or some other point) over this whole history,\n",
    "then we need to know how this ID changes over time. `paleo` provides the\n",
    "`get_node_aliases` function to help with this.\n"
   ]
  },
  {
   "cell_type": "code",
   "execution_count": 10,
   "id": "5b9bedcf",
   "metadata": {},
   "outputs": [
    {
     "data": {
      "text/html": [
       "<div>\n",
       "<style scoped>\n",
       "    .dataframe tbody tr th:only-of-type {\n",
       "        vertical-align: middle;\n",
       "    }\n",
       "\n",
       "    .dataframe tbody tr th {\n",
       "        vertical-align: top;\n",
       "    }\n",
       "\n",
       "    .dataframe thead th {\n",
       "        text-align: right;\n",
       "    }\n",
       "</style>\n",
       "<table border=\"1\" class=\"dataframe\">\n",
       "  <thead>\n",
       "    <tr style=\"text-align: right;\">\n",
       "      <th></th>\n",
       "      <th>start_valid_ts</th>\n",
       "      <th>end_valid_ts</th>\n",
       "    </tr>\n",
       "    <tr>\n",
       "      <th>node_id</th>\n",
       "      <th></th>\n",
       "      <th></th>\n",
       "    </tr>\n",
       "  </thead>\n",
       "  <tbody>\n",
       "    <tr>\n",
       "      <th>161513998385152439</th>\n",
       "      <td>2020-08-01 13:07:22.739000+00:00</td>\n",
       "      <td>2024-06-05 10:10:01.203215+00:00</td>\n",
       "    </tr>\n",
       "    <tr>\n",
       "      <th>161513998385152001</th>\n",
       "      <td>2020-05-29 13:26:43.761000+00:00</td>\n",
       "      <td>2020-08-01 13:07:22.738999+00:00</td>\n",
       "    </tr>\n",
       "  </tbody>\n",
       "</table>\n",
       "</div>"
      ],
      "text/plain": [
       "                                     start_valid_ts  \\\n",
       "node_id                                               \n",
       "161513998385152439 2020-08-01 13:07:22.739000+00:00   \n",
       "161513998385152001 2020-05-29 13:26:43.761000+00:00   \n",
       "\n",
       "                                       end_valid_ts  \n",
       "node_id                                              \n",
       "161513998385152439 2024-06-05 10:10:01.203215+00:00  \n",
       "161513998385152001 2020-08-01 13:07:22.738999+00:00  "
      ]
     },
     "execution_count": 10,
     "metadata": {},
     "output_type": "execute_result"
    }
   ],
   "source": [
    "from paleo import get_node_aliases\n",
    "\n",
    "node_info = get_node_aliases(nuc_supervoxel_id, client, stop_layer=2)\n",
    "node_info"
   ]
  },
  {
   "cell_type": "markdown",
   "id": "785a708c",
   "metadata": {},
   "source": [
    "Now we have all the ingredients to replay the edits and keep track of the neuron's state.\n"
   ]
  },
  {
   "cell_type": "code",
   "execution_count": 11,
   "id": "9f88d879",
   "metadata": {
    "lines_to_next_cell": 2
   },
   "outputs": [
    {
     "data": {
      "application/vnd.jupyter.widget-view+json": {
       "model_id": "522232bd6a4e4fb6bd7b695a4e57bbae",
       "version_major": 2,
       "version_minor": 0
      },
      "text/plain": [
       "  0%|          | 0/693 [00:00<?, ?it/s]"
      ]
     },
     "metadata": {},
     "output_type": "display_data"
    }
   ],
   "source": [
    "def find_level2_node(graph, level2_ids):\n",
    "    for level2_id in level2_ids:\n",
    "        if graph.has_node(level2_id):\n",
    "            return level2_id\n",
    "    return None\n",
    "\n",
    "\n",
    "# keep track of components that are reached as we go\n",
    "components = []\n",
    "\n",
    "# store the initial state\n",
    "nucleus_node_id = find_level2_node(graph, node_info.index)\n",
    "component = nx.node_connected_component(graph, nucleus_node_id)\n",
    "components.append(component)\n",
    "\n",
    "# after each edit, apply it and store the connected component for the nucleus node\n",
    "for delta in tqdm(deltas, disable=False):\n",
    "    apply_edit(graph, delta)\n",
    "    nucleus_node_id = find_level2_node(graph, node_info.index)\n",
    "    component = nx.node_connected_component(graph, nucleus_node_id)\n",
    "    components.append(component)"
   ]
  },
  {
   "cell_type": "code",
   "execution_count": 12,
   "id": "5563188f",
   "metadata": {},
   "outputs": [
    {
     "data": {
      "text/html": [
       "<div>\n",
       "<style scoped>\n",
       "    .dataframe tbody tr th:only-of-type {\n",
       "        vertical-align: middle;\n",
       "    }\n",
       "\n",
       "    .dataframe tbody tr th {\n",
       "        vertical-align: top;\n",
       "    }\n",
       "\n",
       "    .dataframe thead th {\n",
       "        text-align: right;\n",
       "    }\n",
       "</style>\n",
       "<table border=\"1\" class=\"dataframe\">\n",
       "  <thead>\n",
       "    <tr style=\"text-align: right;\">\n",
       "      <th></th>\n",
       "      <th>0</th>\n",
       "      <th>1</th>\n",
       "      <th>2</th>\n",
       "      <th>3</th>\n",
       "      <th>4</th>\n",
       "      <th>5</th>\n",
       "      <th>6</th>\n",
       "      <th>7</th>\n",
       "      <th>8</th>\n",
       "      <th>9</th>\n",
       "      <th>...</th>\n",
       "      <th>684</th>\n",
       "      <th>685</th>\n",
       "      <th>686</th>\n",
       "      <th>687</th>\n",
       "      <th>688</th>\n",
       "      <th>689</th>\n",
       "      <th>690</th>\n",
       "      <th>691</th>\n",
       "      <th>692</th>\n",
       "      <th>693</th>\n",
       "    </tr>\n",
       "  </thead>\n",
       "  <tbody>\n",
       "    <tr>\n",
       "      <th>150388177863966928</th>\n",
       "      <td>True</td>\n",
       "      <td>True</td>\n",
       "      <td>True</td>\n",
       "      <td>True</td>\n",
       "      <td>True</td>\n",
       "      <td>True</td>\n",
       "      <td>True</td>\n",
       "      <td>True</td>\n",
       "      <td>True</td>\n",
       "      <td>True</td>\n",
       "      <td>...</td>\n",
       "      <td>True</td>\n",
       "      <td>True</td>\n",
       "      <td>True</td>\n",
       "      <td>True</td>\n",
       "      <td>True</td>\n",
       "      <td>True</td>\n",
       "      <td>True</td>\n",
       "      <td>True</td>\n",
       "      <td>True</td>\n",
       "      <td>True</td>\n",
       "    </tr>\n",
       "    <tr>\n",
       "      <th>150458546608144530</th>\n",
       "      <td>True</td>\n",
       "      <td>True</td>\n",
       "      <td>True</td>\n",
       "      <td>True</td>\n",
       "      <td>True</td>\n",
       "      <td>True</td>\n",
       "      <td>True</td>\n",
       "      <td>True</td>\n",
       "      <td>True</td>\n",
       "      <td>True</td>\n",
       "      <td>...</td>\n",
       "      <td>True</td>\n",
       "      <td>True</td>\n",
       "      <td>True</td>\n",
       "      <td>True</td>\n",
       "      <td>True</td>\n",
       "      <td>True</td>\n",
       "      <td>True</td>\n",
       "      <td>True</td>\n",
       "      <td>True</td>\n",
       "      <td>True</td>\n",
       "    </tr>\n",
       "    <tr>\n",
       "      <th>150528846632845407</th>\n",
       "      <td>True</td>\n",
       "      <td>True</td>\n",
       "      <td>True</td>\n",
       "      <td>True</td>\n",
       "      <td>True</td>\n",
       "      <td>True</td>\n",
       "      <td>True</td>\n",
       "      <td>True</td>\n",
       "      <td>True</td>\n",
       "      <td>True</td>\n",
       "      <td>...</td>\n",
       "      <td>True</td>\n",
       "      <td>True</td>\n",
       "      <td>True</td>\n",
       "      <td>True</td>\n",
       "      <td>True</td>\n",
       "      <td>True</td>\n",
       "      <td>True</td>\n",
       "      <td>True</td>\n",
       "      <td>True</td>\n",
       "      <td>True</td>\n",
       "    </tr>\n",
       "    <tr>\n",
       "      <th>150528846632845424</th>\n",
       "      <td>True</td>\n",
       "      <td>True</td>\n",
       "      <td>True</td>\n",
       "      <td>True</td>\n",
       "      <td>True</td>\n",
       "      <td>True</td>\n",
       "      <td>True</td>\n",
       "      <td>True</td>\n",
       "      <td>True</td>\n",
       "      <td>True</td>\n",
       "      <td>...</td>\n",
       "      <td>True</td>\n",
       "      <td>True</td>\n",
       "      <td>True</td>\n",
       "      <td>True</td>\n",
       "      <td>True</td>\n",
       "      <td>True</td>\n",
       "      <td>True</td>\n",
       "      <td>True</td>\n",
       "      <td>True</td>\n",
       "      <td>True</td>\n",
       "    </tr>\n",
       "    <tr>\n",
       "      <th>150528915352323074</th>\n",
       "      <td>True</td>\n",
       "      <td>True</td>\n",
       "      <td>True</td>\n",
       "      <td>True</td>\n",
       "      <td>True</td>\n",
       "      <td>True</td>\n",
       "      <td>True</td>\n",
       "      <td>True</td>\n",
       "      <td>True</td>\n",
       "      <td>True</td>\n",
       "      <td>...</td>\n",
       "      <td>True</td>\n",
       "      <td>True</td>\n",
       "      <td>True</td>\n",
       "      <td>True</td>\n",
       "      <td>True</td>\n",
       "      <td>True</td>\n",
       "      <td>True</td>\n",
       "      <td>True</td>\n",
       "      <td>True</td>\n",
       "      <td>True</td>\n",
       "    </tr>\n",
       "    <tr>\n",
       "      <th>...</th>\n",
       "      <td>...</td>\n",
       "      <td>...</td>\n",
       "      <td>...</td>\n",
       "      <td>...</td>\n",
       "      <td>...</td>\n",
       "      <td>...</td>\n",
       "      <td>...</td>\n",
       "      <td>...</td>\n",
       "      <td>...</td>\n",
       "      <td>...</td>\n",
       "      <td>...</td>\n",
       "      <td>...</td>\n",
       "      <td>...</td>\n",
       "      <td>...</td>\n",
       "      <td>...</td>\n",
       "      <td>...</td>\n",
       "      <td>...</td>\n",
       "      <td>...</td>\n",
       "      <td>...</td>\n",
       "      <td>...</td>\n",
       "      <td>...</td>\n",
       "    </tr>\n",
       "    <tr>\n",
       "      <th>181993776573580123</th>\n",
       "      <td>True</td>\n",
       "      <td>True</td>\n",
       "      <td>True</td>\n",
       "      <td>True</td>\n",
       "      <td>True</td>\n",
       "      <td>True</td>\n",
       "      <td>True</td>\n",
       "      <td>True</td>\n",
       "      <td>True</td>\n",
       "      <td>True</td>\n",
       "      <td>...</td>\n",
       "      <td>True</td>\n",
       "      <td>True</td>\n",
       "      <td>True</td>\n",
       "      <td>True</td>\n",
       "      <td>True</td>\n",
       "      <td>True</td>\n",
       "      <td>True</td>\n",
       "      <td>True</td>\n",
       "      <td>True</td>\n",
       "      <td>True</td>\n",
       "    </tr>\n",
       "    <tr>\n",
       "      <th>181993845293056671</th>\n",
       "      <td>True</td>\n",
       "      <td>True</td>\n",
       "      <td>True</td>\n",
       "      <td>True</td>\n",
       "      <td>True</td>\n",
       "      <td>True</td>\n",
       "      <td>True</td>\n",
       "      <td>True</td>\n",
       "      <td>True</td>\n",
       "      <td>True</td>\n",
       "      <td>...</td>\n",
       "      <td>True</td>\n",
       "      <td>True</td>\n",
       "      <td>True</td>\n",
       "      <td>True</td>\n",
       "      <td>True</td>\n",
       "      <td>True</td>\n",
       "      <td>True</td>\n",
       "      <td>True</td>\n",
       "      <td>True</td>\n",
       "      <td>True</td>\n",
       "    </tr>\n",
       "    <tr>\n",
       "      <th>181993845293057025</th>\n",
       "      <td>True</td>\n",
       "      <td>True</td>\n",
       "      <td>True</td>\n",
       "      <td>True</td>\n",
       "      <td>True</td>\n",
       "      <td>True</td>\n",
       "      <td>True</td>\n",
       "      <td>True</td>\n",
       "      <td>True</td>\n",
       "      <td>True</td>\n",
       "      <td>...</td>\n",
       "      <td>True</td>\n",
       "      <td>True</td>\n",
       "      <td>True</td>\n",
       "      <td>True</td>\n",
       "      <td>True</td>\n",
       "      <td>True</td>\n",
       "      <td>True</td>\n",
       "      <td>True</td>\n",
       "      <td>True</td>\n",
       "      <td>True</td>\n",
       "    </tr>\n",
       "    <tr>\n",
       "      <th>182064145317757549</th>\n",
       "      <td>True</td>\n",
       "      <td>True</td>\n",
       "      <td>True</td>\n",
       "      <td>True</td>\n",
       "      <td>True</td>\n",
       "      <td>True</td>\n",
       "      <td>True</td>\n",
       "      <td>True</td>\n",
       "      <td>True</td>\n",
       "      <td>True</td>\n",
       "      <td>...</td>\n",
       "      <td>True</td>\n",
       "      <td>True</td>\n",
       "      <td>True</td>\n",
       "      <td>True</td>\n",
       "      <td>True</td>\n",
       "      <td>True</td>\n",
       "      <td>True</td>\n",
       "      <td>True</td>\n",
       "      <td>True</td>\n",
       "      <td>True</td>\n",
       "    </tr>\n",
       "    <tr>\n",
       "      <th>182064214037234457</th>\n",
       "      <td>True</td>\n",
       "      <td>True</td>\n",
       "      <td>True</td>\n",
       "      <td>True</td>\n",
       "      <td>True</td>\n",
       "      <td>True</td>\n",
       "      <td>True</td>\n",
       "      <td>True</td>\n",
       "      <td>True</td>\n",
       "      <td>True</td>\n",
       "      <td>...</td>\n",
       "      <td>True</td>\n",
       "      <td>True</td>\n",
       "      <td>True</td>\n",
       "      <td>True</td>\n",
       "      <td>True</td>\n",
       "      <td>True</td>\n",
       "      <td>True</td>\n",
       "      <td>True</td>\n",
       "      <td>True</td>\n",
       "      <td>True</td>\n",
       "    </tr>\n",
       "  </tbody>\n",
       "</table>\n",
       "<p>15544 rows × 694 columns</p>\n",
       "</div>"
      ],
      "text/plain": [
       "                     0     1     2     3     4     5     6     7     8    \\\n",
       "150388177863966928  True  True  True  True  True  True  True  True  True   \n",
       "150458546608144530  True  True  True  True  True  True  True  True  True   \n",
       "150528846632845407  True  True  True  True  True  True  True  True  True   \n",
       "150528846632845424  True  True  True  True  True  True  True  True  True   \n",
       "150528915352323074  True  True  True  True  True  True  True  True  True   \n",
       "...                  ...   ...   ...   ...   ...   ...   ...   ...   ...   \n",
       "181993776573580123  True  True  True  True  True  True  True  True  True   \n",
       "181993845293056671  True  True  True  True  True  True  True  True  True   \n",
       "181993845293057025  True  True  True  True  True  True  True  True  True   \n",
       "182064145317757549  True  True  True  True  True  True  True  True  True   \n",
       "182064214037234457  True  True  True  True  True  True  True  True  True   \n",
       "\n",
       "                     9    ...   684   685   686   687   688   689   690   691  \\\n",
       "150388177863966928  True  ...  True  True  True  True  True  True  True  True   \n",
       "150458546608144530  True  ...  True  True  True  True  True  True  True  True   \n",
       "150528846632845407  True  ...  True  True  True  True  True  True  True  True   \n",
       "150528846632845424  True  ...  True  True  True  True  True  True  True  True   \n",
       "150528915352323074  True  ...  True  True  True  True  True  True  True  True   \n",
       "...                  ...  ...   ...   ...   ...   ...   ...   ...   ...   ...   \n",
       "181993776573580123  True  ...  True  True  True  True  True  True  True  True   \n",
       "181993845293056671  True  ...  True  True  True  True  True  True  True  True   \n",
       "181993845293057025  True  ...  True  True  True  True  True  True  True  True   \n",
       "182064145317757549  True  ...  True  True  True  True  True  True  True  True   \n",
       "182064214037234457  True  ...  True  True  True  True  True  True  True  True   \n",
       "\n",
       "                     692   693  \n",
       "150388177863966928  True  True  \n",
       "150458546608144530  True  True  \n",
       "150528846632845407  True  True  \n",
       "150528846632845424  True  True  \n",
       "150528915352323074  True  True  \n",
       "...                  ...   ...  \n",
       "181993776573580123  True  True  \n",
       "181993845293056671  True  True  \n",
       "181993845293057025  True  True  \n",
       "182064145317757549  True  True  \n",
       "182064214037234457  True  True  \n",
       "\n",
       "[15544 rows x 694 columns]"
      ]
     },
     "execution_count": 12,
     "metadata": {},
     "output_type": "execute_result"
    }
   ],
   "source": [
    "from paleo import get_component_masks\n",
    "\n",
    "l2_masks = get_component_masks(components)\n",
    "l2_masks"
   ]
  },
  {
   "cell_type": "markdown",
   "id": "198a21cf",
   "metadata": {},
   "source": [
    "## Simplifying the process\n",
    "\n",
    "The `resolve_edit` function simplifies some of this boilerplate code by taking in the\n",
    "graph, the edit, and a list of nodes to check to \"anchor\" the edit. In our case, this\n",
    "was the level2 IDs corresponding to the nucleus point. It also simplifies the code if\n",
    "we add an element to our `deltas` dictionary mapping `-1` to `None`, which denotes the\n",
    "original state of the neuron before any edits were applied.\n"
   ]
  },
  {
   "cell_type": "code",
   "execution_count": 13,
   "id": "42cdbbfb",
   "metadata": {},
   "outputs": [
    {
     "data": {
      "application/vnd.jupyter.widget-view+json": {
       "model_id": "0c6c299f2c554a899d9f5082d9682ce6",
       "version_major": 2,
       "version_minor": 0
      },
      "text/plain": [
       "  0%|          | 0/694 [00:00<?, ?it/s]"
      ]
     },
     "metadata": {},
     "output_type": "display_data"
    }
   ],
   "source": [
    "from paleo import resolve_edit\n",
    "\n",
    "# keep track of components that are reached as we go\n",
    "components = []\n",
    "# remember to include the initial state\n",
    "networkdeltas = {-1: None, **networkdeltas}\n",
    "\n",
    "# after each edit, apply it and store the connected component for the nucleus node\n",
    "for edit_id, delta in tqdm(networkdeltas.items(), disable=False):\n",
    "    component = resolve_edit(graph, delta, node_info.index)\n",
    "    components.append(component)"
   ]
  },
  {
   "cell_type": "markdown",
   "id": "ced0a6e3",
   "metadata": {},
   "source": [
    "The above syntax is helpful if you want to have some control over what happens at each stage of the process, or if you want to keep track of particular information at each stage. If you just want the level2 nodes or level2 graph at each stage, you can use the `apply_edit_sequence` function, which is a wrapper around this `resolve_edit` loop.\n",
    "\n",
    "This method returns a dictionary mapping the edit ID to the state of the neuron after applying that edit. By default, this function will include the level2 nodes at each state of the neuron's\n",
    "history.\n"
   ]
  },
  {
   "cell_type": "code",
   "execution_count": 19,
   "id": "87bb9db0",
   "metadata": {},
   "outputs": [
    {
     "data": {
      "application/vnd.jupyter.widget-view+json": {
       "model_id": "a24a1916f9134d949108c38b43d1bbad",
       "version_major": 2,
       "version_minor": 0
      },
      "text/plain": [
       "  0%|          | 0/694 [00:00<?, ?it/s]"
      ]
     },
     "metadata": {},
     "output_type": "display_data"
    },
    {
     "data": {
      "text/plain": [
       "8962"
      ]
     },
     "execution_count": 19,
     "metadata": {},
     "output_type": "execute_result"
    }
   ],
   "source": [
    "from paleo import apply_edit_sequence\n",
    "\n",
    "nodes_by_state = apply_edit_sequence(graph, networkdeltas, node_info.index)\n",
    "\n",
    "len(nodes_by_state[9028])"
   ]
  },
  {
   "cell_type": "markdown",
   "id": "bc097570",
   "metadata": {},
   "source": [
    "If you need to keep the actual connectivity of the level2 graph at each stage, then instead pass in `return_graph=True`. This will return a dictionary mapping the edit ID to the level2 graph at that stage. This version is a bit slower since it makes a copy of the graph at each edit.\n"
   ]
  },
  {
   "cell_type": "code",
   "execution_count": 17,
   "id": "8980eca2",
   "metadata": {},
   "outputs": [
    {
     "data": {
      "application/vnd.jupyter.widget-view+json": {
       "model_id": "7b739177245e4eb98201a63b08cafe9c",
       "version_major": 2,
       "version_minor": 0
      },
      "text/plain": [
       "  0%|          | 0/694 [00:00<?, ?it/s]"
      ]
     },
     "metadata": {},
     "output_type": "display_data"
    },
    {
     "data": {
      "text/plain": [
       "<networkx.classes.graph.Graph at 0x3b5cc6ae0>"
      ]
     },
     "execution_count": 17,
     "metadata": {},
     "output_type": "execute_result"
    }
   ],
   "source": [
    "from paleo import apply_edit_sequence\n",
    "\n",
    "graphs_by_state = apply_edit_sequence(\n",
    "    graph, networkdeltas, node_info.index, return_graphs=True\n",
    ")\n",
    "\n",
    "graphs_by_state[9028]"
   ]
  }
 ],
 "metadata": {
  "jupytext": {
   "cell_metadata_filter": "-all",
   "main_language": "python",
   "notebook_metadata_filter": "-all"
  },
  "kernelspec": {
   "display_name": ".venv",
   "language": "python",
   "name": "python3"
  },
  "language_info": {
   "codemirror_mode": {
    "name": "ipython",
    "version": 3
   },
   "file_extension": ".py",
   "mimetype": "text/x-python",
   "name": "python",
   "nbconvert_exporter": "python",
   "pygments_lexer": "ipython3",
   "version": "3.12.5"
  }
 },
 "nbformat": 4,
 "nbformat_minor": 5
}
