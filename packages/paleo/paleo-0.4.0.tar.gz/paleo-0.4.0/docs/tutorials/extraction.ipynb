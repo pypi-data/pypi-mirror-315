{
 "cells": [
  {
   "cell_type": "markdown",
   "metadata": {},
   "source": [
    "# Extracting edits to the level2 graph"
   ]
  },
  {
   "cell_type": "markdown",
   "metadata": {},
   "source": [
    "## Get a more detailed change log for a root ID\n"
   ]
  },
  {
   "cell_type": "markdown",
   "metadata": {},
   "source": [
    "We provide a utility function for combining the output of a `CAVEclient`'s\n",
    "[`chunkedgraph.get_tabular_change_log`](https://caveconnectome.github.io/CAVEclient/client_api/chunkedgraph/#caveclient.chunkedgraph.ChunkedGraphClientV1.get_tabular_change_log) and [`chunkedgraph.get_operation_details`](https://caveconnectome.github.io/CAVEclient/client_api/chunkedgraph/#caveclient.chunkedgraph.ChunkedGraphClientV1.get_operation_details).\n",
    "\n",
    "!!! note\n",
    "\n",
    "      This probably belongs in `CAVEclient`\n"
   ]
  },
  {
   "cell_type": "code",
   "execution_count": 1,
   "metadata": {},
   "outputs": [
    {
     "data": {
      "text/html": [
       "<div>\n",
       "<style scoped>\n",
       "    .dataframe tbody tr th:only-of-type {\n",
       "        vertical-align: middle;\n",
       "    }\n",
       "\n",
       "    .dataframe tbody tr th {\n",
       "        vertical-align: top;\n",
       "    }\n",
       "\n",
       "    .dataframe thead th {\n",
       "        text-align: right;\n",
       "    }\n",
       "</style>\n",
       "<table border=\"1\" class=\"dataframe\">\n",
       "  <thead>\n",
       "    <tr style=\"text-align: right;\">\n",
       "      <th></th>\n",
       "      <th>user_id</th>\n",
       "      <th>before_root_ids</th>\n",
       "      <th>after_root_ids</th>\n",
       "      <th>is_merge</th>\n",
       "      <th>in_neuron</th>\n",
       "    </tr>\n",
       "    <tr>\n",
       "      <th>operation_id</th>\n",
       "      <th></th>\n",
       "      <th></th>\n",
       "      <th></th>\n",
       "      <th></th>\n",
       "      <th></th>\n",
       "    </tr>\n",
       "  </thead>\n",
       "  <tbody>\n",
       "    <tr>\n",
       "      <th>9028</th>\n",
       "      <td>161</td>\n",
       "      <td>[864691135338600033, 864691135349337074]</td>\n",
       "      <td>[864691134884740858]</td>\n",
       "      <td>True</td>\n",
       "      <td>False</td>\n",
       "    </tr>\n",
       "    <tr>\n",
       "      <th>14768</th>\n",
       "      <td>161</td>\n",
       "      <td>[864691135437585906, 864691136156871317]</td>\n",
       "      <td>[864691136272932030]</td>\n",
       "      <td>True</td>\n",
       "      <td>False</td>\n",
       "    </tr>\n",
       "    <tr>\n",
       "      <th>25672</th>\n",
       "      <td>161</td>\n",
       "      <td>[864691135190922026, 864691135566303299]</td>\n",
       "      <td>[864691135493963920]</td>\n",
       "      <td>True</td>\n",
       "      <td>False</td>\n",
       "    </tr>\n",
       "    <tr>\n",
       "      <th>26481</th>\n",
       "      <td>161</td>\n",
       "      <td>[864691134843526581, 864691135573183940]</td>\n",
       "      <td>[864691135415463098]</td>\n",
       "      <td>True</td>\n",
       "      <td>False</td>\n",
       "    </tr>\n",
       "    <tr>\n",
       "      <th>30000</th>\n",
       "      <td>161</td>\n",
       "      <td>[864691134975250238, 864691135587889860]</td>\n",
       "      <td>[864691135476114088]</td>\n",
       "      <td>True</td>\n",
       "      <td>False</td>\n",
       "    </tr>\n",
       "    <tr>\n",
       "      <th>...</th>\n",
       "      <td>...</td>\n",
       "      <td>...</td>\n",
       "      <td>...</td>\n",
       "      <td>...</td>\n",
       "      <td>...</td>\n",
       "    </tr>\n",
       "    <tr>\n",
       "      <th>532312</th>\n",
       "      <td>2378</td>\n",
       "      <td>[864691135475323712]</td>\n",
       "      <td>[864691137054392182]</td>\n",
       "      <td>False</td>\n",
       "      <td>True</td>\n",
       "    </tr>\n",
       "    <tr>\n",
       "      <th>532314</th>\n",
       "      <td>2378</td>\n",
       "      <td>[864691137054392182]</td>\n",
       "      <td>[864691136089721911]</td>\n",
       "      <td>False</td>\n",
       "      <td>True</td>\n",
       "    </tr>\n",
       "    <tr>\n",
       "      <th>532327</th>\n",
       "      <td>2378</td>\n",
       "      <td>[864691136089721911]</td>\n",
       "      <td>[864691135975162223]</td>\n",
       "      <td>False</td>\n",
       "      <td>True</td>\n",
       "    </tr>\n",
       "    <tr>\n",
       "      <th>532335</th>\n",
       "      <td>2378</td>\n",
       "      <td>[864691135975162223]</td>\n",
       "      <td>[864691135851270855]</td>\n",
       "      <td>False</td>\n",
       "      <td>True</td>\n",
       "    </tr>\n",
       "    <tr>\n",
       "      <th>532354</th>\n",
       "      <td>2378</td>\n",
       "      <td>[864691135614747083, 864691135851270855]</td>\n",
       "      <td>[864691135639556411]</td>\n",
       "      <td>True</td>\n",
       "      <td>True</td>\n",
       "    </tr>\n",
       "  </tbody>\n",
       "</table>\n",
       "<p>693 rows × 5 columns</p>\n",
       "</div>"
      ],
      "text/plain": [
       "             user_id                           before_root_ids  \\\n",
       "operation_id                                                     \n",
       "9028             161  [864691135338600033, 864691135349337074]   \n",
       "14768            161  [864691135437585906, 864691136156871317]   \n",
       "25672            161  [864691135190922026, 864691135566303299]   \n",
       "26481            161  [864691134843526581, 864691135573183940]   \n",
       "30000            161  [864691134975250238, 864691135587889860]   \n",
       "...              ...                                       ...   \n",
       "532312          2378                      [864691135475323712]   \n",
       "532314          2378                      [864691137054392182]   \n",
       "532327          2378                      [864691136089721911]   \n",
       "532335          2378                      [864691135975162223]   \n",
       "532354          2378  [864691135614747083, 864691135851270855]   \n",
       "\n",
       "                    after_root_ids  is_merge  in_neuron  \n",
       "operation_id                                             \n",
       "9028          [864691134884740858]      True      False  \n",
       "14768         [864691136272932030]      True      False  \n",
       "25672         [864691135493963920]      True      False  \n",
       "26481         [864691135415463098]      True      False  \n",
       "30000         [864691135476114088]      True      False  \n",
       "...                            ...       ...        ...  \n",
       "532312        [864691137054392182]     False       True  \n",
       "532314        [864691136089721911]     False       True  \n",
       "532327        [864691135975162223]     False       True  \n",
       "532335        [864691135851270855]     False       True  \n",
       "532354        [864691135639556411]      True       True  \n",
       "\n",
       "[693 rows x 5 columns]"
      ]
     },
     "execution_count": 1,
     "metadata": {},
     "output_type": "execute_result"
    }
   ],
   "source": [
    "from caveclient import CAVEclient\n",
    "from paleo import get_detailed_change_log\n",
    "\n",
    "root_id = 864691135639556411\n",
    "\n",
    "client = CAVEclient(\"minnie65_phase3_v1\")\n",
    "\n",
    "change_log = get_detailed_change_log(root_id, client, filtered=False)\n",
    "change_log.iloc[:, :5]"
   ]
  },
  {
   "cell_type": "markdown",
   "metadata": {},
   "source": [
    "## Get the changes to the level2 graph for a specific edit\n"
   ]
  },
  {
   "cell_type": "code",
   "execution_count": 2,
   "metadata": {},
   "outputs": [
    {
     "data": {
      "text/plain": [
       "9028"
      ]
     },
     "execution_count": 2,
     "metadata": {},
     "output_type": "execute_result"
    }
   ],
   "source": [
    "edit_id = change_log.index[0]\n",
    "edit_id"
   ]
  },
  {
   "cell_type": "code",
   "execution_count": 3,
   "metadata": {},
   "outputs": [
    {
     "name": "stdout",
     "output_type": "stream",
     "text": [
      "4.092 seconds elapsed.\n"
     ]
    }
   ],
   "source": [
    "import time\n",
    "from paleo import get_operation_level2_edit\n",
    "\n",
    "currtime = time.time()\n",
    "l2_edit = get_operation_level2_edit(edit_id, client)\n",
    "print(f\"{time.time() - currtime:.3f} seconds elapsed.\")"
   ]
  },
  {
   "cell_type": "markdown",
   "metadata": {},
   "source": [
    "This returns a [`paleo.NetworkDelta`][] object. This is a lightweight class for storing\n",
    "what edges/nodes are added/removed by an operation, as well as (optionally) a dictionary\n",
    "of arbitrary metadata.\n"
   ]
  },
  {
   "cell_type": "code",
   "execution_count": 4,
   "metadata": {},
   "outputs": [
    {
     "data": {
      "text/plain": [
       "NetworkDelta(\n",
       "   removed_nodes: 26,\n",
       "   added_nodes: 9,\n",
       "   removed_edges: 63,\n",
       "   added_edges: 33,\n",
       "   metadata: {}\n",
       ")"
      ]
     },
     "execution_count": 4,
     "metadata": {},
     "output_type": "execute_result"
    }
   ],
   "source": [
    "l2_edit"
   ]
  },
  {
   "cell_type": "markdown",
   "metadata": {},
   "source": [
    "## Get the changes to the level2 graph for multiple edits\n",
    "\n",
    "With the current set of endpoints and design of the chunkedgraph, it is faster to get\n",
    "a list of changes using this function rather than putting [paleo.get_operation_level2_edit][]\n",
    "in a loop.\n"
   ]
  },
  {
   "cell_type": "code",
   "execution_count": 5,
   "metadata": {},
   "outputs": [
    {
     "data": {
      "application/vnd.jupyter.widget-view+json": {
       "model_id": "e8eba5982cf349deb9e2df95bc90a91e",
       "version_major": 2,
       "version_minor": 0
      },
      "text/plain": [
       "Extracting level2 edits:   0%|          | 0/693 [00:00<?, ?it/s]"
      ]
     },
     "metadata": {},
     "output_type": "display_data"
    },
    {
     "name": "stdout",
     "output_type": "stream",
     "text": [
      "122.348 seconds elapsed.\n"
     ]
    }
   ],
   "source": [
    "from paleo import get_operations_level2_edits\n",
    "\n",
    "currtime = time.time()\n",
    "l2_edits = get_operations_level2_edits(change_log.index, client)\n",
    "print(f\"{time.time() - currtime:.3f} seconds elapsed.\")"
   ]
  },
  {
   "cell_type": "markdown",
   "metadata": {},
   "source": [
    "This returns a dictionary, where the keys are the operation IDs and the values are\n",
    "the corresponding [`paleo.NetworkDelta`][] objects.\n"
   ]
  },
  {
   "cell_type": "markdown",
   "metadata": {},
   "source": [
    "## Get the changes to the level2 graph for all edits to a root ID\n"
   ]
  },
  {
   "cell_type": "markdown",
   "metadata": {},
   "source": [
    "We get even more of a speedup if all of those changes are from the history of one root\n",
    "ID. Again, this is just because of the way current endpoints are structured (some of\n",
    "the information we need is available from [`CAVEclient.chunkedgraph.get_tabular_change_log`](https://caveconnectome.github.io/CAVEclient/client_api/chunkedgraph/#caveclient.chunkedgraph.ChunkedGraphClientV1.get_tabular_change_log)).\n"
   ]
  },
  {
   "cell_type": "code",
   "execution_count": 6,
   "metadata": {},
   "outputs": [
    {
     "data": {
      "application/vnd.jupyter.widget-view+json": {
       "model_id": "f0be41c3244d491889f9211a6c8241e8",
       "version_major": 2,
       "version_minor": 0
      },
      "text/plain": [
       "Extracting level2 edits:   0%|          | 0/693 [00:00<?, ?it/s]"
      ]
     },
     "metadata": {},
     "output_type": "display_data"
    },
    {
     "name": "stdout",
     "output_type": "stream",
     "text": [
      "59.575 seconds elapsed.\n"
     ]
    }
   ],
   "source": [
    "from paleo import get_root_level2_edits\n",
    "\n",
    "currtime = time.time()\n",
    "l2_edits = get_root_level2_edits(root_id, client)\n",
    "print(f\"{time.time() - currtime:.3f} seconds elapsed.\")"
   ]
  },
  {
   "cell_type": "markdown",
   "metadata": {},
   "source": [
    "## Combine edits that affect the same points on the level2 graph\n",
    "\n",
    "Often it is helpful to combine edits that affect the same points on the level2 graph.\n",
    "This can be useful for finding things like edits that were undone by later edits.\n",
    "\n",
    "Currently, this function defines metaedits as those that affect the same points on the\n",
    "level2 graph (more specifically, connected components in a graph where nodes are edits and\n",
    "edges are shared points on the level2 graph). In the future, this could support other\n",
    "schemes for defining metaedits.\n"
   ]
  },
  {
   "cell_type": "code",
   "execution_count": 7,
   "metadata": {},
   "outputs": [],
   "source": [
    "from paleo import get_metaedits\n",
    "\n",
    "metaedits, metaedit_mapping = get_metaedits(l2_edits)"
   ]
  },
  {
   "cell_type": "code",
   "execution_count": 8,
   "metadata": {},
   "outputs": [
    {
     "data": {
      "text/plain": [
       "NetworkDelta(\n",
       "   removed_nodes: 5,\n",
       "   added_nodes: 7,\n",
       "   removed_edges: 17,\n",
       "   added_edges: 19,\n",
       "   metadata: {}\n",
       ")"
      ]
     },
     "execution_count": 8,
     "metadata": {},
     "output_type": "execute_result"
    }
   ],
   "source": [
    "metaedits[23]"
   ]
  },
  {
   "cell_type": "code",
   "execution_count": 9,
   "metadata": {},
   "outputs": [
    {
     "name": "stdout",
     "output_type": "stream",
     "text": [
      "[161733831655687152]\n",
      "[161663462911509525, 161663462911509526, 161733831655687154, 161733831655687155]\n",
      "[161663462911509527, 161733831655687156]\n"
     ]
    }
   ],
   "source": [
    "member_edits = metaedit_mapping[23]\n",
    "for edit in member_edits:\n",
    "    print(list(l2_edits[edit].added_nodes))"
   ]
  },
  {
   "cell_type": "code",
   "execution_count": 10,
   "metadata": {},
   "outputs": [
    {
     "data": {
      "text/plain": [
       "array([161733831655687152, 161663462911509525, 161663462911509526,\n",
       "       161733831655687154, 161733831655687155, 161663462911509527,\n",
       "       161733831655687156])"
      ]
     },
     "execution_count": 10,
     "metadata": {},
     "output_type": "execute_result"
    }
   ],
   "source": [
    "metaedits[23].added_nodes"
   ]
  }
 ],
 "metadata": {
  "kernelspec": {
   "display_name": ".venv",
   "language": "python",
   "name": "python3"
  },
  "language_info": {
   "codemirror_mode": {
    "name": "ipython",
    "version": 3
   },
   "file_extension": ".py",
   "mimetype": "text/x-python",
   "name": "python",
   "nbconvert_exporter": "python",
   "pygments_lexer": "ipython3",
   "version": "3.12.5"
  }
 },
 "nbformat": 4,
 "nbformat_minor": 2
}
