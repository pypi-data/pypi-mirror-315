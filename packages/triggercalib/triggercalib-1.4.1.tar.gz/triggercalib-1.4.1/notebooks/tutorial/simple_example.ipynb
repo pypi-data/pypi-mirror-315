{
 "cells": [
  {
   "cell_type": "markdown",
   "id": "46d00eaf-3027-4ec8-83c2-1eab49a6018c",
   "metadata": {},
   "source": [
    "# Example: Calculating the efficiency of a single HLT1 line\n",
    "\n",
    "This notebook shows how to configure the `HltEff` class from TriggerCalib to calculate the efficiency of a single HLT1 line, with each background mitigation approach.\n",
    "To run this notebook, you will need to have installed TriggerCalib (`pip install triggercalib`) and have `ROOT` present in the running environment.\n",
    "\n",
    "_Note that_ `HltEff` _operates based on_ `RDataFrame` _and so can be run multithreaded using the_ `ROOT.EnableImplicitMT()`."
   ]
  },
  {
   "cell_type": "code",
   "execution_count": null,
   "id": "ff50ece2-3fbf-4ca2-8b3c-788aa442620e",
   "metadata": {},
   "outputs": [],
   "source": [
    "import matplotlib.pyplot as plt\n",
    "import mplhep as hep\n",
    "import numpy as np\n",
    "import ROOT as R\n",
    "from triggercalib import HltEff\n",
    "from triggercalib.utils import tgraph_to_np\n",
    "import uproot\n",
    "\n",
    "hep.style.use(\"LHCb2\")\n",
    "R.EnableImplicitMT(8)\n"
   ]
  },
  {
   "cell_type": "markdown",
   "id": "c2dcd068-3f61-4aab-a255-bc15913b5b38",
   "metadata": {},
   "source": [
    "In this example we'll use `HltEff` to calculate the TOS efficiencies of the HLT1 line `Hlt1TrackMVA` on $B^+\\to J/\\psi\\left(\\mu\\mu\\right)K^+$ 2024 MC simulation (specifically a prefiltered sample from the [rd_ap_2024](https://lhcb-productions.web.cern.ch/productions/?wg=rd&analysis=rd_ap_2024)).\n",
    "To purify signal, sideband subtraction is applied, with sidebands of $[5130-5225]~\\mathrm{MeV}c^{-2}$ and $[5335-5430]~\\mathrm{MeV}c^{-2}$.\n",
    "This is implemented in the `sideband` argument of `HltEff`.\n",
    "The efficiencies here will be calculated in bins of $B^+$ transverse momentum, $p_T\\left(B^+\\right)$, with the binning given as a python dictionary.\n",
    "The TOS is given as `Hlt1TrackMVA` and the TIS is given as both `Hlt1TrackMVA` and `Hlt1TwoTrackMVA` to improve the available statistics.\n",
    "The particle `B` which is passed is the particle in the TISTOS information which starts the branch names for the TIS/TOS decisions.\n",
    "This means that the TIS and TOS are defined in terms of all three final state particles."
   ]
  },
  {
   "cell_type": "code",
   "execution_count": null,
   "id": "6004bf28-af71-499f-bba6-53a96841dbf4",
   "metadata": {},
   "outputs": [],
   "source": [
    "hlt_eff = HltEff(\n",
    "    \"simple_example\",\n",
    "    \"root://eoslhcb.cern.ch//eos/lhcb/wg/rta/WP4/TriggerCalib/Bu2JpsiK_Jpsi2MuMu_block1_ntuple.root:Tuple/DecayTree\",\n",
    "    tos=\"Hlt1TrackMVA\",\n",
    "    tis=[\"Hlt1TrackMVA\", \"Hlt1TwoTrackMVA\"],\n",
    "    particle=\"B\",\n",
    "    binning={\n",
    "        \"B_PT\" : {\n",
    "            \"bins\" : [\n",
    "                n*1e3 for n in (\n",
    "                    2, 3, 4, 5, 6, 7, 8, 9, 10, 11, 12, 13,\n",
    "                    14, 15, 16, 17, 18, 19, 20, 21, 22, 25\n",
    "                )\n",
    "            ]\n",
    "        }\n",
    "    },\n",
    "    sideband={\n",
    "        \"B_DTF_Jpsi_MASS\": {\n",
    "            \"range\": [5280 - 150, 5280 + 150], # Define outer sideband edges as 5130 and 5430\n",
    "            \"sideband\": [5280 - 55, 5280 + 55], # Define inner sideband edges as 5225 and 5335 (signal window inferred between)\n",
    "        }\n",
    "    }\n",
    ")"
   ]
  },
  {
   "cell_type": "markdown",
   "id": "d0e52ee7-599b-481f-8929-1e8583095081",
   "metadata": {},
   "source": [
    "Running the cell above gives us a `HltEff` object, `hlt_eff`.\n",
    "This object contains two results stores: `counts` and `efficiencies`, which can be accessed by indexing with `[\"counts\"]` or `[\"efficiencies]`, respectively.\n",
    "Taking a look at the output above, we see that `hlt_eff` initialises, creates an `RDataFrame` defined from the `path` argument and implements the binning from the `binning` argument.\n",
    "The final two lines are particularly useful for keeping track of what is being done in the backend.\n",
    "When a `HltEff` object is initialised without the `lazy` argument, two methods are called.\n",
    "\n",
    "The first method, `counts()`, creates the histogram of event counts.\n",
    "In the most basic case, this is simply the filling of `ROOT` histograms.\n",
    "This is extended in the sideband-subtraction mode (as here), where histograms in the background and signal windows are also filled.\n",
    "These additional histograms are used to then calculate the sideband-subtracted histograms.\n",
    "In the _experimental_ fit-and-count backend (which can be run by providing the arguments `obs` (`RooFit` `RooAbsReal` type) and `pdf` (`RooFit` `RooAbsPdf` type), the count histograms are filled manually with the values and errors taken from the yields of the fits.\n",
    "The _experimental_ _sWeight_ backend runs more similarly to the standard histogram filling; wherein global fits are first performed to obtain per-event _sWeights_, which are then passed to the histiogram filling.\n",
    "\n",
    "The second method, `efficiencies()`, uses the count histograms from the previous stage to calculate the `TOS` ($N_\\mathrm{TISTOS}/N_\\mathrm{TIS}$), `TIS` ($N_\\mathrm{TISTOS}/N_\\mathrm{TOS}$) and `Trig` efficiencies (_see [LHCb-PUB-2014-039](https://cds.cern.ch/record/1701134/files/LHCb-PUB-2014-039.pdf)_)."
   ]
  },
  {
   "cell_type": "markdown",
   "id": "618f1fd4-9d9b-4163-ab7f-eca929d50885",
   "metadata": {},
   "source": [
    "We can take the `ROOT` `TGraphAsymmErrors` objects directly from `hlt_eff` and plot them in whichever framework we wish.\n",
    "Here we'll make some conversions with `uproot` (recall `tgraph_to_np` defined above) to get some more familiar pythonic objects and then plot these in `matplotlib`.\n",
    "The object we're mainly interested in is `tos_efficiency_B_PT` in `efficiencies`, the TOS efficiencies binned in $p_T\\left(B^+\\right)$ (binned efficiency histograms follow the naming convention `<category>_efficiency_<branch_name>`."
   ]
  },
  {
   "cell_type": "code",
   "execution_count": null,
   "id": "da6532a4-2233-40f7-b92f-81f3c85ba624",
   "metadata": {},
   "outputs": [],
   "source": [
    "print(type(hlt_eff[\"efficiencies\"][\"tos_efficiency_B_PT\"]))\n",
    "midpoints, values, xerrors, yerrors = tgraph_to_np(hlt_eff[\"efficiencies\"][\"tos_efficiency_B_PT\"], x_scale=1e3)\n",
    "xmin = midpoints[0] - xerrors[0][0]\n",
    "xmax = midpoints[-1] + xerrors[1][-1]\n",
    "\n",
    "# Plot efficiency #\n",
    "plt.figure(figsize=(12,10))\n",
    "plt.gca()\n",
    "\n",
    "\n",
    "plt.plot((xmin, xmax), (1,1), color='k', ls='dashed', lw=2)\n",
    "plt.errorbar(\n",
    "    x=midpoints, y=values, xerr=xerrors, yerr=yerrors,\n",
    "    color='r', elinewidth=2, ls=\"none\", marker='.', markersize=8, \n",
    ")\n",
    "\n",
    "plt.xlim(xmin, xmax)\n",
    "plt.xlabel(r\"Transverse momentum, $p_T\\left(B^+\\right)$ / $\\mathrm{GeV}c^{-1}$\")\n",
    "\n",
    "plt.ylim(0, 1.1)\n",
    "plt.ylabel(r\"TOS efficiency, $\\varepsilon_\\mathrm{TOS}$\")\n",
    "\n",
    "hep.lhcb.label(loc=0, rlabel=r\"$B^+\\to J/\\psi\\left(\\mu\\mu\\right)K^+$ 2024 MC\")\n",
    "\n",
    "plt.savefig(\"tos_efficiencies.pdf\")\n",
    "plt.show()"
   ]
  },
  {
   "cell_type": "markdown",
   "id": "bd7ed75d-d20d-4fc1-bfab-a94c42bb8d23",
   "metadata": {},
   "source": [
    "There we have it!\n",
    "In a handful of lines, we've calculated TOS efficiencies in MC for a key control channel.\n",
    "`HltEff` has been designed to be adaptable for a wide range of analysis purposes.\n",
    "The notebook above should provide a base on which to build your analysis implementation.\n",
    "\n",
    "If you have any questions, please join the [TriggerCalib Mattermost channel]().\n"
   ]
  }
 ],
 "metadata": {
  "kernelspec": {
   "display_name": "Python 3 (ipykernel)",
   "language": "python",
   "name": "python3"
  },
  "language_info": {
   "codemirror_mode": {
    "name": "ipython",
    "version": 3
   },
   "file_extension": ".py",
   "mimetype": "text/x-python",
   "name": "python",
   "nbconvert_exporter": "python",
   "pygments_lexer": "ipython3",
   "version": "3.11.8"
  }
 },
 "nbformat": 4,
 "nbformat_minor": 5
}
