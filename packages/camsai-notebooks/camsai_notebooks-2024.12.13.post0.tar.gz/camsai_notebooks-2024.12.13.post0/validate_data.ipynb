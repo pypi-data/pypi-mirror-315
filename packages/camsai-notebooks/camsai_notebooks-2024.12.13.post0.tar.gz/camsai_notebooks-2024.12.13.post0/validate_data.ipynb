{
 "cells": [
  {
   "cell_type": "markdown",
   "source": [
    "# Validate Data.\n",
    "\n",
    "Validate the data in the input materials.\n",
    "\n",
    "<h2 style=\"color:green\">Usage</h2>\n",
    "\n",
    "1. Set notebook parameters in cell 1.1. below (or use the default values).\n",
    "1. Click “Run” > “Run All” to run all cells. \n",
    "1. Scroll down to view results. "
   ],
   "metadata": {
    "collapsed": false
   },
   "id": "bfcbf5c3f9adb668"
  },
  {
   "cell_type": "markdown",
   "source": [
    "## 1. Prepare the Environment\n",
    "### 1.1. Set up  parameters "
   ],
   "metadata": {
    "collapsed": false
   },
   "id": "e3702ff2a5270ce6"
  },
  {
   "cell_type": "code",
   "outputs": [],
   "source": [
    "data = {\n",
    "    \"key\": \"value\"\n",
    "} "
   ],
   "metadata": {
    "collapsed": false
   },
   "id": "e93f72e7c37dea10",
   "execution_count": 0
  },
  {
   "cell_type": "markdown",
   "source": [
    "### 1.2. Install Packages\n",
    "The step executes only in Pyodide environment."
   ],
   "metadata": {
    "collapsed": false
   },
   "id": "9f3ffe460d75942f"
  },
  {
   "cell_type": "code",
   "outputs": [],
   "source": [
    "import sys\n",
    "\n",
    "if sys.platform == \"emscripten\":\n",
    "    import micropip\n",
    "    await micropip.install('camsai-notebooks', deps=False)\n",
    "    from camsai.notebooks.utils import install_packages\n",
    "    await install_packages(\"\")"
   ],
   "metadata": {
    "collapsed": false
   },
   "id": "9eb0650f7183279c",
   "execution_count": 0
  },
  {
   "cell_type": "markdown",
   "source": [
    "## 2. Conduct Validation"
   ],
   "metadata": {
    "collapsed": false
   },
   "id": "ba9e20ebe63ffda7"
  },
  {
   "cell_type": "code",
   "outputs": [],
   "source": [
    "from camsai.standards import is_valid\n",
    "from camsai.standards.mat3ra import Mat3raMaterialSchema\n",
    "from mat3ra.esse.data.examples import EXAMPLES\n",
    "\n",
    "example_material = next((e for e in EXAMPLES if e[\"path\"] == \"material\"), None)[\"data\"]\n",
    "\n",
    "example_material[\"derivedProperties\"] = []\n",
    "assert is_valid(example_material, Mat3raMaterialSchema)\n",
    " "
   ],
   "metadata": {
    "collapsed": false
   },
   "id": "2795d5bdbbaafbe6",
   "execution_count": 0
  },
  {
   "cell_type": "markdown",
   "source": [
    "## 3. Visualize the result"
   ],
   "metadata": {
    "collapsed": false
   },
   "id": "d8f41816d0b48edc"
  },
  {
   "cell_type": "code",
   "outputs": [],
   "source": [
    "import json\n",
    "print(json.dumps(example_material, indent=4))"
   ],
   "metadata": {
    "collapsed": false
   },
   "id": "aea078560283ca95",
   "execution_count": 0
  }
 ],
 "metadata": {
  "kernelspec": {
   "display_name": "Python 3",
   "language": "python",
   "name": "python3"
  },
  "language_info": {
   "codemirror_mode": {
    "name": "ipython",
    "version": 2
   },
   "file_extension": ".py",
   "mimetype": "text/x-python",
   "name": "python",
   "nbconvert_exporter": "python",
   "pygments_lexer": "ipython2",
   "version": "2.7.6"
  }
 },
 "nbformat": 4,
 "nbformat_minor": 5
}
