{
 "cells": [
  {
   "cell_type": "markdown",
   "source": [
    "# CAMSAI Notebooks\n",
    "\n",
    "## 1. Overview.\n",
    "\n",
    "This repository contains a collection of Jupyter notebooks that demonstrate how to use the CAMSAI toolchain.\n",
    "\n",
    "## 2. Generic Functionality.\n",
    "\n",
    "The following notebooks are available:\n",
    "\n",
    "- [validate_data](validate_data.ipynb): This notebook provides an introduction to data standards.\n",
    "\n",
    "## 3. Specific Functionality.\n",
    "\n",
    "Below, we list the contents per provider.\n",
    "\n",
    "| File                                               | Description |\n",
    "|----------------------------------------------------|---------------------------------------------------- |\n",
    "| [mat3ra/introduction](mat3ra/introduction.ipynb)   | Mat3ra Introduction.\n",
    "| [Examples/Workflow](jarvisnist/introduction.ipynb) | JARVIS NIST Introduction. |\n",
    "\n",
    "\n",
    "## Links\n",
    "\n",
    "- [Mat3ra API Documentation](https://docs.mat3ra.com/)\n",
    "- [JARVIS NIST](https://jarvis.nist.gov/)\n"
   ],
   "metadata": {
    "collapsed": false
   },
   "id": "ca988675356058"
  }
 ],
 "metadata": {
  "kernelspec": {
   "display_name": "Python 3",
   "language": "python",
   "name": "python3"
  },
  "language_info": {
   "codemirror_mode": {
    "name": "ipython",
    "version": 2
   },
   "file_extension": ".py",
   "mimetype": "text/x-python",
   "name": "python",
   "nbconvert_exporter": "python",
   "pygments_lexer": "ipython2",
   "version": "2.7.6"
  }
 },
 "nbformat": 4,
 "nbformat_minor": 5
}
