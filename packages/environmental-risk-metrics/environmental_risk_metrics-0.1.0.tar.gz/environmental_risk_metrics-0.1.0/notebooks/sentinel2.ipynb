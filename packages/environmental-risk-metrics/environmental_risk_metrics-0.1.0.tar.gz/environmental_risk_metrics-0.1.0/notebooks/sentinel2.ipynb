{
 "cells": [
  {
   "cell_type": "code",
   "execution_count": 1,
   "metadata": {},
   "outputs": [],
   "source": [
    "%load_ext autoreload\n",
    "%autoreload 2"
   ]
  },
  {
   "cell_type": "code",
   "execution_count": 1,
   "metadata": {},
   "outputs": [
    {
     "name": "stderr",
     "output_type": "stream",
     "text": [
      "2024-12-13 14:54:10,229 - risks.data.fetch.sentinel2 - INFO - Loading NDVI data\n",
      "2024-12-13 14:54:10,229 - risks.data.fetch.sentinel2 - INFO - Loading Sentinel-2 data for bands ['B08', 'B04'] at 10m resolution\n",
      "2024-12-13 14:54:10,230 - risks.data.fetch.sentinel2 - INFO - Searching for Sentinel-2 items between 2024-06-27 and 2024-12-31\n",
      "2024-12-13 14:54:10,613 - risks.data.fetch.sentinel2 - INFO - Found 28 items\n",
      "2024-12-13 14:54:10,614 - risks.data.fetch.sentinel2 - INFO - Signing items for access\n",
      "2024-12-13 14:54:10,631 - risks.data.fetch.sentinel2 - INFO - Loading data into xarray Dataset\n"
     ]
    },
    {
     "data": {
      "application/vnd.jupyter.widget-view+json": {
       "model_id": "9e029f439c9f49ea92566f9e182ba711",
       "version_major": 2,
       "version_minor": 0
      },
      "text/plain": [
       "  0%|          | 0/57 [00:00<?, ?it/s]"
      ]
     },
     "metadata": {},
     "output_type": "display_data"
    },
    {
     "name": "stderr",
     "output_type": "stream",
     "text": [
      "/Users/thimmzwiener/risk-reports/.venv/lib/python3.12/site-packages/rasterio/warp.py:387: NotGeoreferencedWarning: Dataset has no geotransform, gcps, or rpcs. The identity matrix will be returned.\n",
      "  dest = _reproject(\n",
      "2024-12-13 14:54:13,027 - risks.data.fetch.sentinel2 - INFO - Dataset time steps before filtering: 19\n",
      "2024-12-13 14:54:13,028 - risks.data.fetch.sentinel2 - INFO - Filtered dataset to 15 time steps based on 80% cloud cover threshold\n",
      "2024-12-13 14:54:13,033 - risks.data.fetch.sentinel2 - INFO - Successfully loaded Sentinel-2 data\n",
      "2024-12-13 14:54:13,034 - risks.data.fetch.sentinel2 - INFO - Successfully calculated NDVI\n",
      "2024-12-13 14:54:13,433 - risks.data.fetch.sentinel2 - INFO - Calculating mean NDVI values for polygon\n",
      "2024-12-13 14:54:13,441 - risks.data.fetch.sentinel2 - INFO - Calculated mean NDVI for 188 timestamps\n"
     ]
    }
   ],
   "source": [
    "import logging\n",
    "from risks.data.fetch.sentinel2 import Sentinel2\n",
    "from IPython.display import Image\n",
    "\n",
    "# Configure logging to display in Jupyter\n",
    "logging.basicConfig(\n",
    "    level=logging.INFO,\n",
    "    format=\"%(asctime)s - %(name)s - %(levelname)s - %(message)s\",\n",
    "    force=True,  # This ensures the configuration is applied even if logging was previously configured\n",
    ")\n",
    "logger = logging.getLogger(__name__)\n",
    "\n",
    "\n",
    "sentinel2 = Sentinel2()\n",
    "\n",
    "polygon = {\n",
    "    \"type\": \"Feature\",\n",
    "    \"properties\": {},\n",
    "    \"geometry\": {\n",
    "        \"coordinates\": [\n",
    "            [\n",
    "                [10.235198982658801, 51.42076009745068],\n",
    "                [10.236477278753114, 51.41697045550828],\n",
    "                [10.244461712820623, 51.41823370440062],\n",
    "                [10.242888425319222, 51.4220355049745],\n",
    "                [10.235198982658801, 51.42076009745068],\n",
    "            ]\n",
    "        ],\n",
    "        \"type\": \"Polygon\",\n",
    "    },\n",
    "}\n",
    "start_date=\"2024-06-27\"\n",
    "end_date=\"2024-12-31\"\n",
    "\n",
    "\n",
    "ndvi_images = sentinel2.load_ndvi_images(\n",
    "    start_date=start_date,\n",
    "    end_date=end_date,\n",
    "    polygon=polygon,\n",
    "    cropped_image_cloud_cover_threshold=80,\n",
    "    entire_image_cloud_cover_threshold=20,\n",
    ")\n",
    "\n",
    "ndvi_thumbnails = sentinel2.ndvi_thumbnails(\n",
    "    ndvi=ndvi_images, polygon=polygon, polygon_crs=\"EPSG:4326\"\n",
    ")\n",
    "mean_ndvi_values = sentinel2.calculate_mean_ndvi(\n",
    "    ndvi_images=ndvi_images,\n",
    "    polygon=polygon,\n",
    "    polygon_crs=\"EPSG:4326\",\n",
    "    interpolate=True,\n",
    "    start_date=start_date,\n",
    "    end_date=end_date,\n",
    ")\n"
   ]
  },
  {
   "cell_type": "code",
   "execution_count": 3,
   "metadata": {},
   "outputs": [
    {
     "data": {
      "text/plain": [
       "<Axes: >"
      ]
     },
     "execution_count": 3,
     "metadata": {},
     "output_type": "execute_result"
    },
    {
     "data": {
      "image/png": "[encoded data removed]",
      "text/plain": [
       "<Figure size 640x480 with 1 Axes>"
      ]
     },
     "metadata": {},
     "output_type": "display_data"
    }
   ],
   "source": [
    "mean_ndvi_values.plot()"
   ]
  }
 ],
 "metadata": {
  "kernelspec": {
   "display_name": ".venv",
   "language": "python",
   "name": "python3"
  },
  "language_info": {
   "codemirror_mode": {
    "name": "ipython",
    "version": 3
   },
   "file_extension": ".py",
   "mimetype": "text/x-python",
   "name": "python",
   "nbconvert_exporter": "python",
   "pygments_lexer": "ipython3",
   "version": "3.12.6"
  }
 },
 "nbformat": 4,
 "nbformat_minor": 2
}
