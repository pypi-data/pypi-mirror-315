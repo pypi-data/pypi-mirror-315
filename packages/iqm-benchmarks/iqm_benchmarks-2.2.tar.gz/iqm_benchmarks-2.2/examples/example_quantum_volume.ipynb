{
 "cells": [
  {
   "cell_type": "markdown",
   "id": "c5fefdb0",
   "metadata": {},
   "source": [
    "# Quantum Volume (QV) Benchmark Example"
   ]
  },
  {
   "cell_type": "code",
   "execution_count": null,
   "id": "initial_id",
   "metadata": {},
   "outputs": [],
   "source": [
    "%load_ext autoreload\n",
    "%autoreload 2"
   ]
  },
  {
   "cell_type": "markdown",
   "id": "b2c63962f3ca4618",
   "metadata": {},
   "source": [
    "# Choose (or define) a backend"
   ]
  },
  {
   "cell_type": "code",
   "execution_count": null,
   "id": "bd04e92bc8bc6d22",
   "metadata": {},
   "outputs": [],
   "source": [
    "#backend = \"fakeadonis\"\n",
    "backend = \"fakeapollo\"\n",
    "#backend = \"garnet\"\n",
    "#backend = \"deneb\""
   ]
  },
  {
   "cell_type": "markdown",
   "id": "24a83603a9b243f4",
   "metadata": {},
   "source": [
    "#### Set IQM Token if using Resonance."
   ]
  },
  {
   "cell_type": "code",
   "execution_count": null,
   "id": "249d8974af559964",
   "metadata": {},
   "outputs": [],
   "source": [
    "# import os\n",
    "# os.environ[\"IQM_TOKEN\"] = \"\""
   ]
  },
  {
   "cell_type": "markdown",
   "id": "8b3fbf168fb20058",
   "metadata": {},
   "source": [
    "# Quantum Volume Configuration"
   ]
  },
  {
   "cell_type": "code",
   "execution_count": null,
   "id": "b9e5d0c5240203fd",
   "metadata": {},
   "outputs": [],
   "source": [
    "from iqm.benchmarks.quantum_volume.quantum_volume import *"
   ]
  },
  {
   "cell_type": "code",
   "execution_count": null,
   "id": "1072ddc990ea37e1",
   "metadata": {},
   "outputs": [],
   "source": [
    "EXAMPLE_QV = QuantumVolumeConfiguration(\n",
    "    num_circuits=500,\n",
    "    shots=2**8,\n",
    "    calset_id=None,\n",
    "    num_sigmas=2,\n",
    "    choose_qubits_routine=\"custom\",\n",
    "    custom_qubits_array=[[0,1,2,3], [0,1,3,4]],\n",
    "    qiskit_optim_level=3,\n",
    "    optimize_sqg=True,\n",
    "    routing_method=\"sabre\",\n",
    "    physical_layout=\"fixed\",\n",
    "    max_gates_per_batch=60_000,\n",
    "    rem=True,\n",
    "    mit_shots=1_000,\n",
    ")"
   ]
  },
  {
   "cell_type": "markdown",
   "id": "7814b014cec0ca8c",
   "metadata": {},
   "source": [
    "# Run the experiment"
   ]
  },
  {
   "cell_type": "code",
   "execution_count": null,
   "id": "bd9e03c20bafd360",
   "metadata": {},
   "outputs": [],
   "source": [
    "benchmark_qv = QuantumVolumeBenchmark(backend, EXAMPLE_QV)\n",
    "run0_qv = benchmark_qv.run()"
   ]
  },
  {
   "cell_type": "markdown",
   "id": "ac5e568a",
   "metadata": {},
   "source": [
    "One can perform a separate run of the benchmark (also possible with a different configuration)"
   ]
  },
  {
   "cell_type": "code",
   "execution_count": null,
   "id": "972d7910c73bd636",
   "metadata": {},
   "outputs": [],
   "source": "#run1_qv = benchmark_qv.run()"
  },
  {
   "cell_type": "markdown",
   "id": "25a02882167d994b",
   "metadata": {},
   "source": [
    "# Perform Analysis"
   ]
  },
  {
   "cell_type": "code",
   "execution_count": null,
   "id": "af8eb36cbf9b8243",
   "metadata": {},
   "outputs": [],
   "source": [
    "result0_qv = benchmark_qv.analyze()"
   ]
  },
  {
   "cell_type": "code",
   "execution_count": null,
   "id": "7c7caf74de984335",
   "metadata": {},
   "outputs": [],
   "source": [
    "#result1_qv = benchmark.analyze(run_index=0)"
   ]
  },
  {
   "cell_type": "markdown",
   "id": "853877e2",
   "metadata": {},
   "source": [
    "#### List all the keys in the attributes of the dataset"
   ]
  },
  {
   "cell_type": "code",
   "execution_count": null,
   "id": "2fd202e7",
   "metadata": {},
   "outputs": [],
   "source": [
    "attr_keys = sorted([str(x) for x in list(run0_qv.dataset.attrs.keys())])\n",
    "for k in attr_keys:\n",
    "    print(k)"
   ]
  },
  {
   "cell_type": "code",
   "execution_count": null,
   "id": "eac1c873",
   "metadata": {},
   "outputs": [],
   "source": [
    "run0_qv.dataset.attrs[0]"
   ]
  },
  {
   "cell_type": "markdown",
   "id": "02e1f69b",
   "metadata": {},
   "source": [
    "#### The observation object contains the benchmark results"
   ]
  },
  {
   "cell_type": "code",
   "execution_count": null,
   "id": "43bd6aa0fa144255",
   "metadata": {},
   "outputs": [],
   "source": [
    "result0_qv.observations"
   ]
  },
  {
   "cell_type": "markdown",
   "id": "260b61e8",
   "metadata": {},
   "source": [
    "#### Generate plots"
   ]
  },
  {
   "cell_type": "code",
   "execution_count": null,
   "id": "41a3a365",
   "metadata": {},
   "outputs": [],
   "source": [
    "for k in result0_qv.plots.keys():\n",
    "    print(k)"
   ]
  },
  {
   "cell_type": "markdown",
   "id": "b1480142",
   "metadata": {},
   "source": [
    "Print a specific output"
   ]
  },
  {
   "cell_type": "code",
   "execution_count": null,
   "id": "68199b88",
   "metadata": {},
   "outputs": [],
   "source": [
    "# result0_qv.plots[\"vanilla_4_qubits_[0, 1, 3, 4]\"]"
   ]
  },
  {
   "cell_type": "markdown",
   "id": "abd651c8",
   "metadata": {},
   "source": [
    "Or print all the plots at once"
   ]
  },
  {
   "cell_type": "code",
   "execution_count": null,
   "id": "a8d00d6ef2f09c76",
   "metadata": {},
   "outputs": [],
   "source": [
    "result0_qv.plot_all()"
   ]
  },
  {
   "cell_type": "code",
   "execution_count": null,
   "id": "a3576f40",
   "metadata": {},
   "outputs": [],
   "source": []
  }
 ],
 "metadata": {
  "kernelspec": {
   "display_name": "Python 3 (ipykernel)",
   "language": "python",
   "name": "python3"
  },
  "language_info": {
   "codemirror_mode": {
    "name": "ipython",
    "version": 3
   },
   "file_extension": ".py",
   "mimetype": "text/x-python",
   "name": "python",
   "nbconvert_exporter": "python",
   "pygments_lexer": "ipython3",
   "version": "3.11.2"
  }
 },
 "nbformat": 4,
 "nbformat_minor": 5
}
