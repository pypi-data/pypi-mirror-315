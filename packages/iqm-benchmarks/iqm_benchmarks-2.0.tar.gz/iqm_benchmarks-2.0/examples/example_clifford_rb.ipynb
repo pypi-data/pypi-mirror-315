{
 "cells": [
  {
   "cell_type": "markdown",
   "id": "e65a9545",
   "metadata": {},
   "source": [
    "# Clifford Randomized Benchmarking (RB) Example"
   ]
  },
  {
   "cell_type": "code",
   "execution_count": null,
   "id": "initial_id",
   "metadata": {},
   "outputs": [],
   "source": [
    "%load_ext autoreload\n",
    "%autoreload 2"
   ]
  },
  {
   "cell_type": "markdown",
   "id": "2a263e81998110aa",
   "metadata": {},
   "source": [
    "# Choose (or define) a backend"
   ]
  },
  {
   "cell_type": "code",
   "execution_count": null,
   "id": "e35291cffa2e85ca",
   "metadata": {},
   "outputs": [],
   "source": [
    "#backend = \"fakeadonis\"\n",
    "backend = \"fakeapollo\"\n",
    "#backend = \"garnet\"\n",
    "#backend = \"deneb\""
   ]
  },
  {
   "cell_type": "markdown",
   "id": "344de3a9c5922129",
   "metadata": {},
   "source": [
    "#### Set IQM Token if using Resonance."
   ]
  },
  {
   "cell_type": "code",
   "execution_count": null,
   "id": "3a432b291ee43d28",
   "metadata": {},
   "outputs": [],
   "source": [
    "# import os\n",
    "# os.environ[\"IQM_TOKEN\"] = \"\""
   ]
  },
  {
   "cell_type": "markdown",
   "id": "980996fb8cd974e3",
   "metadata": {},
   "source": [
    "# Randomized Benchmarking Configuration"
   ]
  },
  {
   "cell_type": "markdown",
   "id": "8cd8eb25f5429610",
   "metadata": {},
   "source": [
    "NB: Clifford RB is executed by default with Interleaved RB !"
   ]
  },
  {
   "cell_type": "code",
   "execution_count": null,
   "id": "ba85a6f3363db23e",
   "metadata": {},
   "outputs": [],
   "source": [
    "from iqm.benchmarks.randomized_benchmarking.clifford_rb.clifford_rb import *"
   ]
  },
  {
   "cell_type": "code",
   "execution_count": null,
   "id": "20154c4123ffe947",
   "metadata": {},
   "outputs": [],
   "source": [
    "EXAMPLE_CRB = CliffordRBConfiguration(\n",
    "    qubits_array=[[0,1],[3,4]],#,[8,9],[13,14],[17,18],[5,6],[10,11],[15,16]],\n",
    "    sequence_lengths=[2**(m+1)-1 for m in range(6)],\n",
    "    num_circuit_samples=25,\n",
    "    shots=2**8,\n",
    "    calset_id=None,\n",
    "    parallel_execution=False,\n",
    ")"
   ]
  },
  {
   "cell_type": "markdown",
   "id": "7e5d068cd0eb3dee",
   "metadata": {},
   "source": [
    "# Run the experiment"
   ]
  },
  {
   "cell_type": "code",
   "execution_count": null,
   "id": "591063f0d8132eae",
   "metadata": {},
   "outputs": [],
   "source": [
    "benchmark_clifford_rb = CliffordRandomizedBenchmarking(backend, EXAMPLE_CRB)\n",
    "run_clifford_rb = benchmark_clifford_rb.run()"
   ]
  },
  {
   "cell_type": "markdown",
   "id": "3a315574edfd900f",
   "metadata": {},
   "source": [
    "# Perform the analysis"
   ]
  },
  {
   "cell_type": "code",
   "execution_count": null,
   "id": "b88a8b0a2afc80c",
   "metadata": {},
   "outputs": [],
   "source": [
    "result_clifford_rb = benchmark_clifford_rb.analyze()"
   ]
  },
  {
   "cell_type": "code",
   "execution_count": null,
   "id": "3505642a",
   "metadata": {},
   "outputs": [],
   "source": [
    "run_clifford_rb.dataset.attrs"
   ]
  },
  {
   "cell_type": "code",
   "execution_count": null,
   "id": "b1f222a30a8a3679",
   "metadata": {},
   "outputs": [],
   "source": [
    "result_clifford_rb.observations"
   ]
  },
  {
   "cell_type": "code",
   "execution_count": null,
   "id": "a03d39e0c2cce81f",
   "metadata": {},
   "outputs": [],
   "source": [
    "for plot in result_clifford_rb.plots.values():\n",
    "    display(plot)"
   ]
  },
  {
   "cell_type": "code",
   "execution_count": null,
   "id": "3016af51a48da846",
   "metadata": {},
   "outputs": [],
   "source": []
  }
 ],
 "metadata": {
  "kernelspec": {
   "display_name": "qcvv-suite",
   "language": "python",
   "name": "qcvv-suite"
  },
  "language_info": {
   "codemirror_mode": {
    "name": "ipython",
    "version": 3
   },
   "file_extension": ".py",
   "mimetype": "text/x-python",
   "name": "python",
   "nbconvert_exporter": "python",
   "pygments_lexer": "ipython3",
   "version": "3.11.2"
  }
 },
 "nbformat": 4,
 "nbformat_minor": 5
}
