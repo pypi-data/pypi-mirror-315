{
 "cells": [
  {
   "cell_type": "markdown",
   "id": "8eddda55-7933-41e3-a897-ecd90c2f21e0",
   "metadata": {},
   "source": [
    "# Test for distributions"
   ]
  },
  {
   "cell_type": "markdown",
   "id": "da7e549d-569e-4bab-ba3c-12a7adb8c765",
   "metadata": {},
   "source": [
    "## Negative binomial\n",
    "- x: observed n_failure\n",
    "- mu: expected n_failure\n",
    "- phi: over-dispersion\n",
    "- p: probability of success\n",
    "- n: n_success, same as concertration"
   ]
  },
  {
   "cell_type": "code",
   "execution_count": 1,
   "id": "f3179555-e6d6-4c64-bd14-496f3127615d",
   "metadata": {},
   "outputs": [],
   "source": [
    "import numpy as np\n",
    "import scipy.stats as st\n",
    "\n",
    "x = np.array([4, 10, 13])\n",
    "mu = 10\n",
    "phi = 0.1"
   ]
  },
  {
   "cell_type": "code",
   "execution_count": 2,
   "id": "32ecbe0a-72cd-4c76-a0bd-719d3976bb34",
   "metadata": {
    "tags": []
   },
   "outputs": [
    {
     "data": {
      "text/plain": [
       "array([-3.13177799, -2.42929948, -2.82519513])"
      ]
     },
     "execution_count": 2,
     "metadata": {},
     "output_type": "execute_result"
    }
   ],
   "source": [
    "def negaloglik(x, mu, phi):\n",
    "    from scipy.special import gammaln\n",
    "    n = 1 / phi      # concentration, also n_success\n",
    "    p = n / (mu + n) # probability of success in one trial        \n",
    "    var = mu + phi * mu**2 # variance\n",
    "    _loglik = (gammaln(x + n)  - gammaln(x + 1) - gammaln(1/phi) +\n",
    "               n * np.log(p) + x * np.log(1 - p))\n",
    "    return _loglik\n",
    "    \n",
    "negaloglik(x, mu, phi)"
   ]
  },
  {
   "cell_type": "code",
   "execution_count": 3,
   "id": "6a9a64af-9da2-4eef-95b5-eddeca8a327f",
   "metadata": {
    "tags": []
   },
   "outputs": [
    {
     "name": "stdout",
     "output_type": "stream",
     "text": [
      "10.0 20.0\n"
     ]
    },
    {
     "data": {
      "text/plain": [
       "array([-3.13177799, -2.42929948, -2.82519513])"
      ]
     },
     "execution_count": 3,
     "metadata": {},
     "output_type": "execute_result"
    }
   ],
   "source": [
    "var = mu + phi * mu**2\n",
    "n = 1 / phi      # concerntration & number of success\n",
    "p = n / (mu + n) # probability of success\n",
    "\n",
    "## Alternative ways\n",
    "# p = mu / var #: 1 (1 + phi * mu)\n",
    "# n = mu**2 / (var - mu) #: mu / (1 + phi * mu)\n",
    "\n",
    "print(st.nbinom.mean(n, p), st.nbinom.var(n, p))\n",
    "st.nbinom.logpmf(x, n, p)"
   ]
  },
  {
   "cell_type": "code",
   "execution_count": null,
   "id": "55f4e133-6624-4b7f-bd8a-01b536f97136",
   "metadata": {},
   "outputs": [],
   "source": []
  }
 ],
 "metadata": {
  "kernelspec": {
   "display_name": "PyTch",
   "language": "python",
   "name": "pytch"
  },
  "language_info": {
   "codemirror_mode": {
    "name": "ipython",
    "version": 3
   },
   "file_extension": ".py",
   "mimetype": "text/x-python",
   "name": "python",
   "nbconvert_exporter": "python",
   "pygments_lexer": "ipython3",
   "version": "3.12.2"
  }
 },
 "nbformat": 4,
 "nbformat_minor": 5
}
