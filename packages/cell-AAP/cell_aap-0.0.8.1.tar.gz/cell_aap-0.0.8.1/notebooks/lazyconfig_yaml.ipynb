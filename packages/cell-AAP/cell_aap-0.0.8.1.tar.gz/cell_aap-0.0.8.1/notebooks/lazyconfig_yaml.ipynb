{
 "cells": [
  {
   "attachments": {},
   "cell_type": "markdown",
   "id": "2372f51e",
   "metadata": {},
   "source": [
    "# Installing Detectron 2"
   ]
  },
  {
   "cell_type": "code",
   "execution_count": 1,
   "id": "ffe3be80",
   "metadata": {},
   "outputs": [
    {
     "name": "stdout",
     "output_type": "stream",
     "text": [
      "torch:  2.2 ; cuda:  cu121\n",
      "detectron2: 0.6\n"
     ]
    }
   ],
   "source": [
    "import torch, detectron2\n",
    "TORCH_VERSION = \".\".join(torch.__version__.split(\".\")[:2])\n",
    "CUDA_VERSION = torch.__version__.split(\"+\")[-1]\n",
    "print(\"torch: \", TORCH_VERSION, \"; cuda: \", CUDA_VERSION)\n",
    "print(\"detectron2:\", detectron2.__version__)"
   ]
  },
  {
   "cell_type": "code",
   "execution_count": 2,
   "id": "6e70e18d",
   "metadata": {},
   "outputs": [],
   "source": [
    "%%capture\n",
    "\n",
    "import detectron2\n",
    "from detectron2.utils.logger import setup_logger\n",
    "setup_logger()\n",
    "\n",
    "import numpy as np\n",
    "import os, json, cv2, random\n",
    "\n",
    "# import some common libraries\n",
    "import os\n",
    "\n",
    "# import some common detectron2 utilities\n",
    "from detectron2.data.datasets import register_coco_instances\n",
    "from detectron2.utils import comm\n",
    "from detectron2.data import MetadataCatalog\n",
    "from detectron2.utils.logger import setup_logger\n",
    "from detectron2.config import LazyConfig, instantiate\n",
    "from detectron2.engine import DefaultTrainer, AMPTrainer, default_writers, hooks, default_setup, DefaultPredictor\n",
    "from detectron2.engine.defaults import create_ddp_model\n",
    "from detectron2.evaluation import inference_on_dataset, print_csv_format\n",
    "from detectron2.engine import launch, default_argument_parser\n",
    "from detectron2.checkpoint import DetectionCheckpointer\n",
    "from detectron2.model_zoo import get_config\n",
    "from detectron2.utils.visualizer import Visualizer, ColorMode\n",
    "import matplotlib.pyplot as plt\n",
    "\n",
    "from PIL import Image\n"
   ]
  },
  {
   "cell_type": "code",
   "execution_count": 3,
   "id": "aa7ef782",
   "metadata": {},
   "outputs": [],
   "source": [
    "from detectron2.engine import DefaultTrainer\n",
    "import datetime\n",
    "import matplotlib.colors as colors"
   ]
  },
  {
   "attachments": {},
   "cell_type": "markdown",
   "id": "32180637",
   "metadata": {},
   "source": [
    "# Registering a Dataset"
   ]
  },
  {
   "cell_type": "code",
   "execution_count": 4,
   "id": "0156c821",
   "metadata": {
    "scrolled": true
   },
   "outputs": [],
   "source": [
    "from detectron2.data.datasets import register_coco_instances\n",
    "\n",
    "\n",
    "    \n",
    "    \n",
    "metadata = {\n",
    "            'thing_classes': ['nonmitotic', 'mitotic'],\n",
    "            'thing_dataset_id_to_contiguous_id': {0:0, 1:1}\n",
    "                }\n",
    "\n",
    "            \n",
    "for d in [\"train\", \"test\"]:\n",
    "    register_coco_instances(f\"cellseg_{d}_1.9\", metadata, \n",
    "                            f\"/home/anishjv/cell_seg_classify/coco_conv_dataset_1.9/{d}/instances_cellseg_1.9_{d}.json\", \n",
    "                            f\"/home/anishjv/cell_seg_classify/coco_conv_dataset_1.9/{d}/images\")\n"
   ]
  },
  {
   "attachments": {},
   "cell_type": "markdown",
   "id": "6902c13a",
   "metadata": {},
   "source": [
    " # Setting Configurations\n",
    " "
   ]
  },
  {
   "cell_type": "code",
   "execution_count": 7,
   "id": "f4bd3c4f",
   "metadata": {},
   "outputs": [],
   "source": [
    "now = datetime.datetime.now()\n",
    "cfg = LazyConfig.load(\"detectron2/configs/COCO-InstanceSegmentation/mask_rcnn_R_50_FPN_1x.py\")\n",
    "cfg.dataloader.train.dataset.names = 'cellseg_train_1.9'\n",
    "cfg.dataloader.test.dataset.names = 'cellseg_test_1.9'\n",
    "\n",
    "cfg.train.max_iter = 21750\n",
    "cfg.dataloader.train.total_batch_size = 4\n",
    "\n",
    "cfg.model.proposal_generator.pre_nms_topk = [18000, 12000]\n",
    "cfg.model.proposal_generator.post_nms_topk = [3000, 2000]\n",
    "\n",
    "cfg.model.roi_heads.batch_size_per_image = 512\n",
    "cfg.model.roi_heads.num_classes = 2\n",
    "#cfg.model.roi_heads.box_predictor.use_focal = True experimental \n",
    "\n",
    "cfg.model.pixel_mean = [85.52, 85.52, 85.52]\n",
    "cfg.model.pixel_std = [11.66, 11.66, 11.6]\n",
    "\n",
    "cfg.model.proposal_generator.anchor_generator.sizes = [\n",
    "    [32],\n",
    "    [64],\n",
    "    [128],\n",
    "    [256],\n",
    "    [300]\n",
    "]\n",
    "\n",
    "\n",
    "cfg.train.output_dir = f'/scratch/ajitj_root/ajitj99/anishjv/logs/{now.strftime(\"%Y%m%d_%H%M%S\")}_res50'\n",
    "cfg.train.checkpointer.period = 2175\n",
    "cfg.train.eval_period = 1087\n",
    "cfg.dataloader.evaluator['max_dets_per_image'] = 2000\n",
    "\n",
    "\n",
    "\n"
   ]
  },
  {
   "attachments": {},
   "cell_type": "markdown",
   "id": "7c34d12c",
   "metadata": {},
   "source": [
    "Augmentations\n"
   ]
  },
  {
   "cell_type": "code",
   "execution_count": 8,
   "id": "f8e175d3",
   "metadata": {},
   "outputs": [],
   "source": [
    "cfg.dataloader.train.mapper.augmentations.append(\n",
    "    {\n",
    "        '_target_': detectron2.data.transforms.Resize, 'shape': (512, 512)\n",
    "    }\n",
    "    \n",
    ")\n",
    "\n",
    "\n",
    "cfg.dataloader.train.mapper.augmentations.append(\n",
    "    {\n",
    "        '_target_': detectron2.data.transforms.Resize, 'shape': (512, 768)\n",
    "    }\n",
    "    \n",
    ")\n",
    "\n",
    "\n",
    "cfg.dataloader.train.mapper.augmentations.append(\n",
    "    {\n",
    "        '_target_': detectron2.data.transforms.RandomCrop,  'crop_type': 'relative', 'crop_size': (0.25, 0.5)\n",
    "    }\n",
    "\n",
    ")\n",
    "\n",
    "cfg.dataloader.train.mapper.augmentations.append(\n",
    "    {\n",
    "        \"_target_\": detectron2.data.transforms.RandomContrast, 'intensity_max': 1.25, 'intensity_min': 0.75\n",
    "    }\n",
    ")\n",
    "\n",
    "\n",
    "cfg.dataloader.train.mapper.augmentations.append(\n",
    "    {\n",
    "        '_target_': detectron2.data.transforms.RandomBrightness, 'intensity_max': 1.25, 'intensity_min': 0.75\n",
    "    }\n",
    ")\n"
   ]
  },
  {
   "attachments": {},
   "cell_type": "markdown",
   "id": "873fb505",
   "metadata": {},
   "source": [
    "Saving the configs in yaml format\n"
   ]
  },
  {
   "cell_type": "code",
   "execution_count": 9,
   "id": "6848d147",
   "metadata": {},
   "outputs": [],
   "source": [
    "LazyConfig.save(cfg, 'paper_models/Res50-1.9/r50_1.9.yaml')"
   ]
  }
 ],
 "metadata": {
  "kernelspec": {
   "display_name": "Python 3 (ipykernel)",
   "language": "python",
   "name": "python3"
  },
  "language_info": {
   "codemirror_mode": {
    "name": "ipython",
    "version": 3
   },
   "file_extension": ".py",
   "mimetype": "text/x-python",
   "name": "python",
   "nbconvert_exporter": "python",
   "pygments_lexer": "ipython3",
   "version": "3.10.9"
  }
 },
 "nbformat": 4,
 "nbformat_minor": 5
}
