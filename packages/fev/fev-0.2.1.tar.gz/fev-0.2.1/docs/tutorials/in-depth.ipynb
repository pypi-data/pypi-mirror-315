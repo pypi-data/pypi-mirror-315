{
 "cells": [
  {
   "cell_type": "code",
   "execution_count": 1,
   "metadata": {},
   "outputs": [],
   "source": [
    "%load_ext autoreload\n",
    "%autoreload 2\n",
    "import warnings\n",
    "from pathlib import Path\n",
    "\n",
    "import datasets\n",
    "from tqdm.auto import tqdm\n",
    "\n",
    "import fev\n",
    "\n",
    "warnings.simplefilter(\"ignore\")\n",
    "datasets.disable_progress_bars()"
   ]
  },
  {
   "cell_type": "markdown",
   "metadata": {},
   "source": [
    "## Dataset format\n",
    "We store time series datasets using the Hugging Face `datasets` library.\n",
    "\n",
    "We assume that all time series datasets obey the following schema:\n",
    "- each dataset entry (=row) represents a single (univariate/multivariate) time series\n",
    "- each entry contains\n",
    "    - 1/ a field of type `Sequence(timestamp)` that contains the timestamps of observations\n",
    "    - 2/ at least one field of type `Sequence(float)` that can be used as the target time series\n",
    "    - 3/ a field of type `string` that contains the unique ID of each time series\n",
    "- all fields of type Sequence have the same length"
   ]
  },
  {
   "cell_type": "code",
   "execution_count": 2,
   "metadata": {},
   "outputs": [
    {
     "data": {
      "text/plain": [
       "Dataset({\n",
       "    features: ['id', 'timestamp', 'target', 'city', 'station', 'measurement'],\n",
       "    num_rows: 270\n",
       "})"
      ]
     },
     "execution_count": 2,
     "metadata": {},
     "output_type": "execute_result"
    }
   ],
   "source": [
    "ds = datasets.load_dataset(\"autogluon/chronos_datasets\", \"monash_kdd_cup_2018\", split=\"train\")\n",
    "ds.set_format(\"numpy\")\n",
    "ds"
   ]
  },
  {
   "cell_type": "code",
   "execution_count": 3,
   "metadata": {},
   "outputs": [
    {
     "data": {
      "text/plain": [
       "{'id': np.str_('T000000'),\n",
       " 'timestamp': array(['2017-01-01T14:00:00.000', '2017-01-01T15:00:00.000',\n",
       "        '2017-01-01T16:00:00.000', ..., '2018-03-31T13:00:00.000',\n",
       "        '2018-03-31T14:00:00.000', '2018-03-31T15:00:00.000'],\n",
       "       dtype='datetime64[ms]'),\n",
       " 'target': array([453., 417., 395., ..., 132., 158., 118.], dtype=float32),\n",
       " 'city': np.str_('Beijing'),\n",
       " 'station': np.str_('aotizhongxin_aq'),\n",
       " 'measurement': np.str_('PM2.5')}"
      ]
     },
     "execution_count": 3,
     "metadata": {},
     "output_type": "execute_result"
    }
   ],
   "source": [
    "# Each entry (=row) corresponds to a single time series\n",
    "ds[0]"
   ]
  },
  {
   "cell_type": "code",
   "execution_count": 4,
   "metadata": {},
   "outputs": [
    {
     "data": {
      "text/plain": [
       "{'id': Value(dtype='string', id=None),\n",
       " 'timestamp': Sequence(feature=Value(dtype='timestamp[ms]', id=None), length=-1, id=None),\n",
       " 'target': Sequence(feature=Value(dtype='float64', id=None), length=-1, id=None),\n",
       " 'city': Value(dtype='string', id=None),\n",
       " 'station': Value(dtype='string', id=None),\n",
       " 'measurement': Value(dtype='string', id=None)}"
      ]
     },
     "execution_count": 4,
     "metadata": {},
     "output_type": "execute_result"
    }
   ],
   "source": [
    "# Feature metadata is stored in the datasets\n",
    "ds.features"
   ]
  },
  {
   "cell_type": "markdown",
   "metadata": {},
   "source": [
    "## Evaluation on a single Task\n",
    "A `fev.Task` object contains all information that uniquely identifies a time series forecasting task."
   ]
  },
  {
   "cell_type": "markdown",
   "metadata": {},
   "source": [
    "### Data sources\n",
    "Dataset stored on Hugging Face Hub: https://huggingface.co/datasets/autogluon/chronos_datasets"
   ]
  },
  {
   "cell_type": "code",
   "execution_count": 5,
   "metadata": {},
   "outputs": [],
   "source": [
    "task = fev.Task(\n",
    "    dataset_path=\"autogluon/chronos_datasets\",\n",
    "    dataset_config=\"monash_cif_2016\",\n",
    "    horizon=12,\n",
    ")"
   ]
  },
  {
   "cell_type": "markdown",
   "metadata": {},
   "source": [
    "Dataset stored on S3"
   ]
  },
  {
   "cell_type": "code",
   "execution_count": 6,
   "metadata": {},
   "outputs": [],
   "source": [
    "# Dataset consisting of a single parquet / arrow file\n",
    "task = fev.Task(\n",
    "    dataset_path=\"s3://autogluon/datasets/timeseries/m1_monthly/data.parquet\",\n",
    "    horizon=12,\n",
    ")\n",
    "# Dataset consisting of multiple parquet / arrow files\n",
    "task = fev.Task(\n",
    "    dataset_path=\"s3://autogluon/datasets/timeseries/m1_monthly/*.parquet\",\n",
    "    horizon=12,\n",
    ")"
   ]
  },
  {
   "cell_type": "markdown",
   "metadata": {},
   "source": [
    "Dataset stored locally"
   ]
  },
  {
   "cell_type": "code",
   "execution_count": 7,
   "metadata": {},
   "outputs": [],
   "source": [
    "# Download dataset from HF Hub and save it locally\n",
    "ds = datasets.load_dataset(\"autogluon/chronos_datasets\", name=\"m4_hourly\", split=\"train\")\n",
    "local_path = \"/tmp/m4_hourly/data.parquet\"\n",
    "ds.to_parquet(local_path)\n",
    "\n",
    "task = fev.Task(\n",
    "    dataset_path=local_path,\n",
    "    horizon=48,\n",
    ")"
   ]
  },
  {
   "cell_type": "markdown",
   "metadata": {},
   "source": [
    "### Covariates\n",
    "By default, all columns of type `Sequence` are interpreted as known covariates, and all remaining columns are interpreted as static covariates."
   ]
  },
  {
   "cell_type": "code",
   "execution_count": 8,
   "metadata": {},
   "outputs": [
    {
     "name": "stdout",
     "output_type": "stream",
     "text": [
      "Dataset({\n",
      "    features: ['id', 'timestamp', 'HUFL', 'HULL', 'MUFL', 'MULL', 'LUFL', 'LULL', 'OT'],\n",
      "    num_rows: 2\n",
      "})\n",
      "Dataset({\n",
      "    features: ['id', 'timestamp', 'HUFL', 'HULL', 'MUFL', 'MULL', 'LUFL', 'LULL'],\n",
      "    num_rows: 2\n",
      "})\n"
     ]
    }
   ],
   "source": [
    "task = fev.Task(\n",
    "    dataset_path=\"autogluon/chronos_datasets_extra\",\n",
    "    dataset_config=\"ETTh\",\n",
    "    horizon=24,\n",
    "    target_column=\"OT\",\n",
    ")\n",
    "past_data, future_data = task.get_input_data()\n",
    "print(past_data)\n",
    "print(future_data)"
   ]
  },
  {
   "cell_type": "markdown",
   "metadata": {},
   "source": [
    "We can configure how the covariates are used as part of the task definition.\n",
    "\n",
    "For example, here we say that \n",
    "- columns `HUFL` and `HULL` are known only in the past\n",
    "- columns `MUFL` and `MULL` are excluded from the dataset"
   ]
  },
  {
   "cell_type": "code",
   "execution_count": 9,
   "metadata": {},
   "outputs": [
    {
     "name": "stdout",
     "output_type": "stream",
     "text": [
      "Dataset({\n",
      "    features: ['id', 'timestamp', 'HUFL', 'HULL', 'LUFL', 'LULL', 'OT'],\n",
      "    num_rows: 2\n",
      "})\n",
      "Dataset({\n",
      "    features: ['id', 'timestamp', 'LUFL', 'LULL'],\n",
      "    num_rows: 2\n",
      "})\n"
     ]
    }
   ],
   "source": [
    "task = fev.Task(\n",
    "    dataset_path=\"autogluon/chronos_datasets_extra\",\n",
    "    dataset_config=\"ETTh\",\n",
    "    horizon=24,\n",
    "    target_column=\"OT\",\n",
    "    past_dynamic_columns=[\"HUFL\", \"HULL\"],\n",
    "    excluded_columns=[\"MUFL\", \"MULL\"],\n",
    ")\n",
    "\n",
    "past_data, future_data = task.get_input_data()\n",
    "print(past_data)\n",
    "print(future_data)"
   ]
  },
  {
   "cell_type": "markdown",
   "metadata": {},
   "source": [
    "### Predictions format\n",
    "Each task expects predictions to follow a certain format that is specified by `task.predictions_schema`.\n",
    "\n",
    "For point forecasting tasks (i.e., if `quantile_levels=None`), predictions must contain a single array of length `horizon` for each time series."
   ]
  },
  {
   "cell_type": "code",
   "execution_count": 10,
   "metadata": {},
   "outputs": [],
   "source": [
    "task = fev.Task(\n",
    "    dataset_path=\"autogluon/chronos_datasets\",\n",
    "    dataset_config=\"m4_hourly\",\n",
    "    horizon=48,\n",
    "    eval_metric=\"MASE\",\n",
    "    seasonality=24,\n",
    ")"
   ]
  },
  {
   "cell_type": "code",
   "execution_count": 11,
   "metadata": {},
   "outputs": [
    {
     "data": {
      "text/plain": [
       "{'predictions': Sequence(feature=Value(dtype='float64', id=None), length=48, id=None)}"
      ]
     },
     "execution_count": 11,
     "metadata": {},
     "output_type": "execute_result"
    }
   ],
   "source": [
    "task.predictions_schema"
   ]
  },
  {
   "cell_type": "markdown",
   "metadata": {},
   "source": [
    "For probabilistic forecasting tasks (i.e., if `quantile_levels` is provided), predictions must additionally contain a prediction for each quantile level."
   ]
  },
  {
   "cell_type": "code",
   "execution_count": 12,
   "metadata": {},
   "outputs": [],
   "source": [
    "task = fev.Task(\n",
    "    dataset_path=\"autogluon/chronos_datasets\",\n",
    "    dataset_config=\"m4_hourly\",\n",
    "    horizon=48,\n",
    "    seasonality=24,\n",
    "    quantile_levels=[0.1, 0.5, 0.9],\n",
    "    eval_metric=\"WQL\",\n",
    ")"
   ]
  },
  {
   "cell_type": "code",
   "execution_count": 13,
   "metadata": {},
   "outputs": [
    {
     "data": {
      "text/plain": [
       "{'predictions': Sequence(feature=Value(dtype='float64', id=None), length=48, id=None),\n",
       " '0.1': Sequence(feature=Value(dtype='float64', id=None), length=48, id=None),\n",
       " '0.5': Sequence(feature=Value(dtype='float64', id=None), length=48, id=None),\n",
       " '0.9': Sequence(feature=Value(dtype='float64', id=None), length=48, id=None)}"
      ]
     },
     "execution_count": 13,
     "metadata": {},
     "output_type": "execute_result"
    }
   ],
   "source": [
    "task.predictions_schema"
   ]
  },
  {
   "cell_type": "markdown",
   "metadata": {},
   "source": [
    "## Backtesting & custom cutoffs\n",
    "By default, the train/test split is generated as follows:\n",
    "- test set contains the last `horizon` time steps of each time series\n",
    "- train set contains everything up to the last `horizon` time steps of each time series\n",
    "\n",
    "We can create the train/test splits at custom points in the time series using the `cutoff` argument.\n",
    "\n",
    "The default behavior corresponds to setting `cutoff = -horizon`:"
   ]
  },
  {
   "cell_type": "code",
   "execution_count": 14,
   "metadata": {},
   "outputs": [],
   "source": [
    "task = fev.Task(\n",
    "    dataset_path=\"autogluon/chronos_datasets_extra\",\n",
    "    dataset_config=\"ETTh\",\n",
    "    horizon=24,\n",
    "    target_column=\"OT\",\n",
    "    cutoff=-24,\n",
    ")"
   ]
  },
  {
   "cell_type": "markdown",
   "metadata": {},
   "source": [
    "We can set cutoff to a positive or negative integer. In this case, the training data will correspond to `y[:cutoff]` and the test set will be `y[cutoff : cutoff + horizon]`.\n",
    "\n",
    "We can also set `cutoff` to a datetime-like string. In this case, `cutoff` will be the last timestamp in the training data."
   ]
  },
  {
   "cell_type": "code",
   "execution_count": 15,
   "metadata": {},
   "outputs": [
    {
     "name": "stdout",
     "output_type": "stream",
     "text": [
      "Last train timestamp: 2017-01-01T00:00:00.000000000\n",
      "First test timestamp: 2017-01-01T01:00:00.000000000\n"
     ]
    }
   ],
   "source": [
    "task = fev.Task(\n",
    "    dataset_path=\"autogluon/chronos_datasets_extra\",\n",
    "    dataset_config=\"ETTh\",\n",
    "    horizon=24,\n",
    "    target_column=\"OT\",\n",
    "    cutoff=\"2017-01-01\",\n",
    ")\n",
    "past_data, future_data = task.get_input_data()\n",
    "print(f\"Last train timestamp: {past_data[0]['timestamp'][-1]}\")\n",
    "print(f\"First test timestamp: {future_data[0]['timestamp'][0]}\")"
   ]
  },
  {
   "cell_type": "markdown",
   "metadata": {},
   "source": [
    "We can create tasks corresponding to multiple backtests by providing different values for the `cutoff`:"
   ]
  },
  {
   "cell_type": "code",
   "execution_count": 16,
   "metadata": {},
   "outputs": [],
   "source": [
    "tasks = [\n",
    "    fev.Task(\n",
    "        dataset_path=\"autogluon/chronos_datasets_extra\",\n",
    "        dataset_config=\"ETTh\",\n",
    "        horizon=24,\n",
    "        target_column=\"OT\",\n",
    "        cutoff=\"2017-01-01\",\n",
    "    ),\n",
    "    fev.Task(\n",
    "        dataset_path=\"autogluon/chronos_datasets_extra\",\n",
    "        dataset_config=\"ETTh\",\n",
    "        horizon=24,\n",
    "        target_column=\"OT\",\n",
    "        cutoff=\"2017-02-07\",\n",
    "    ),\n",
    "    fev.Task(\n",
    "        dataset_path=\"autogluon/chronos_datasets_extra\",\n",
    "        dataset_config=\"ETTh\",\n",
    "        horizon=24,\n",
    "        target_column=\"OT\",\n",
    "        cutoff=\"2017-06-03\",\n",
    "    ),\n",
    "]"
   ]
  },
  {
   "cell_type": "markdown",
   "metadata": {},
   "source": [
    "The `fev.TaskGenerator` class provides a more concise way to create multiple related configurations, e.g., for backtesting:"
   ]
  },
  {
   "cell_type": "code",
   "execution_count": 17,
   "metadata": {},
   "outputs": [
    {
     "name": "stdout",
     "output_type": "stream",
     "text": [
      "Task 0\n",
      "\tLast train timestamp: 2017-01-01T00:00:00.000000000\n",
      "\tFirst test timestamp: 2017-01-01T01:00:00.000000000\n",
      "Task 1\n",
      "\tLast train timestamp: 2017-02-07T00:00:00.000000000\n",
      "\tFirst test timestamp: 2017-02-07T01:00:00.000000000\n",
      "Task 2\n",
      "\tLast train timestamp: 2017-06-03T00:00:00.000000000\n",
      "\tFirst test timestamp: 2017-06-03T01:00:00.000000000\n"
     ]
    }
   ],
   "source": [
    "task_generator = fev.TaskGenerator(\n",
    "    dataset_path=\"autogluon/chronos_datasets_extra\",\n",
    "    dataset_config=\"ETTh\",\n",
    "    horizon=24,\n",
    "    target_column=\"OT\",\n",
    "    variants=[\n",
    "        {\"cutoff\": \"2017-01-01\"},\n",
    "        {\"cutoff\": \"2017-02-07\"},\n",
    "        {\"cutoff\": \"2017-06-03\"},\n",
    "    ]\n",
    ")\n",
    "tasks = task_generator.generate_tasks()\n",
    "for i, task in enumerate(tasks):\n",
    "    print(f\"Task {i}\")\n",
    "    past_data, future_data = task.get_input_data()\n",
    "    print(f\"\\tLast train timestamp: {past_data[0]['timestamp'][-1]}\")\n",
    "    print(f\"\\tFirst test timestamp: {future_data[0]['timestamp'][0]}\")"
   ]
  },
  {
   "cell_type": "markdown",
   "metadata": {},
   "source": [
    "If we don't specify `variants`, then `TaskGenerator.generate_tasks()` will produce a single `Task`."
   ]
  },
  {
   "cell_type": "code",
   "execution_count": 18,
   "metadata": {},
   "outputs": [
    {
     "data": {
      "text/plain": [
       "[Task(dataset_path='my_dataset', dataset_config='my_config', horizon=12, cutoff=-12, lead_time=1, min_ts_length=13, max_context_length=None, seasonality=1, eval_metric='MASE', extra_metrics=[], quantile_levels=None, id_column='id', timestamp_column='timestamp', target_column='target', multiple_target_columns=None, past_dynamic_columns=[], excluded_columns=[])]"
      ]
     },
     "execution_count": 18,
     "metadata": {},
     "output_type": "execute_result"
    }
   ],
   "source": [
    "task_generator = fev.TaskGenerator(\n",
    "    dataset_path=\"my_dataset\",\n",
    "    dataset_config=\"my_config\",\n",
    "    horizon=12,\n",
    ")\n",
    "task_generator.generate_tasks()"
   ]
  },
  {
   "cell_type": "markdown",
   "metadata": {},
   "source": [
    "If we do specify `variants`, then `TaskGenerator.generate_tasks()` will produce a single `Task` for each variant in `variants`.\n",
    "\n",
    "In each of the variants, the dict provided in variants will override the default parameters for the task."
   ]
  },
  {
   "cell_type": "code",
   "execution_count": 19,
   "metadata": {},
   "outputs": [
    {
     "data": {
      "text/plain": [
       "[Task(dataset_path='my_dataset', dataset_config='my_config', horizon=12, cutoff=-12, lead_time=1, min_ts_length=13, max_context_length=None, seasonality=1, eval_metric='MASE', extra_metrics=[], quantile_levels=None, id_column='id', timestamp_column='timestamp', target_column='target', multiple_target_columns=None, past_dynamic_columns=[], excluded_columns=[]),\n",
       " Task(dataset_path='my_dataset', dataset_config='my_config', horizon=24, cutoff=-24, lead_time=1, min_ts_length=25, max_context_length=None, seasonality=1, eval_metric='MASE', extra_metrics=[], quantile_levels=None, id_column='id', timestamp_column='timestamp', target_column='target', multiple_target_columns=None, past_dynamic_columns=[], excluded_columns=[])]"
      ]
     },
     "execution_count": 19,
     "metadata": {},
     "output_type": "execute_result"
    }
   ],
   "source": [
    "task_generator = fev.TaskGenerator(\n",
    "    dataset_path=\"my_dataset\",\n",
    "    dataset_config=\"my_config\",\n",
    "    variants=[\n",
    "        {\"horizon\": 12},\n",
    "        {\"horizon\": 24},\n",
    "    ]\n",
    ")\n",
    "task_generator.generate_tasks()"
   ]
  },
  {
   "cell_type": "markdown",
   "metadata": {},
   "source": [
    "## Evaluation on a Benchmark consisting of multiple tasks\n",
    "A `fev.Benchmark` object is essentially a collection of `Task`s.\n",
    "\n",
    "We can create a benchmark from a list of dictionaries. Each dictionary is interpreted as a `fev.TaskGenerator`."
   ]
  },
  {
   "cell_type": "code",
   "execution_count": 20,
   "metadata": {},
   "outputs": [],
   "source": [
    "task_generators = [\n",
    "    {\n",
    "        \"dataset_path\": \"autogluon/chronos_datasets\",\n",
    "        \"dataset_config\": \"monash_m3_monthly\",\n",
    "        \"horizon\": 18,\n",
    "        \"seasonality\": 12,\n",
    "        \"eval_metric\": \"MASE\",\n",
    "    },\n",
    "    {\n",
    "        \"dataset_path\": \"autogluon/chronos_datasets\",\n",
    "        \"dataset_config\": \"monash_electricity_weekly\",\n",
    "        \"horizon\": 8,\n",
    "        \"quantile_levels\": [0.1, 0.5, 0.9],\n",
    "        \"eval_metric\": \"WQL\",\n",
    "        \"variants\": [\n",
    "            {\"cutoff\": \"2013-01-01\"},\n",
    "            {\"cutoff\": \"2014-01-01\"},\n",
    "        ]\n",
    "    },\n",
    "]\n",
    "benchmark = fev.Benchmark.from_list(task_generators)"
   ]
  },
  {
   "cell_type": "markdown",
   "metadata": {},
   "source": [
    "Or from a YAML file"
   ]
  },
  {
   "cell_type": "code",
   "execution_count": 21,
   "metadata": {},
   "outputs": [
    {
     "name": "stdout",
     "output_type": "stream",
     "text": [
      "tasks:\n",
      "- dataset_path: autogluon/chronos_datasets\n",
      "  dataset_config: monash_m1_yearly\n",
      "  horizon: 8\n",
      "- dataset_path: autogluon/chronos_datasets\n",
      "  dataset_config: monash_electricity_weekly\n",
      "  horizon: 8\n",
      "  seasonality: 1\n",
      "  variants:\n",
      "  - cutoff: \"2013-01-01\"\n",
      "  - cutoff: \"2014-01-01\"\n"
     ]
    }
   ],
   "source": [
    "benchmark_path = Path(fev.__file__).parents[2] / \"benchmarks\" / \"example\" / \"tasks.yaml\"\n",
    "# Show contents of the benchmark YAML file\n",
    "!cat {benchmark_path}"
   ]
  },
  {
   "cell_type": "code",
   "execution_count": 22,
   "metadata": {},
   "outputs": [],
   "source": [
    "benchmark = fev.Benchmark.from_yaml(benchmark_path)"
   ]
  },
  {
   "cell_type": "code",
   "execution_count": 23,
   "metadata": {},
   "outputs": [
    {
     "data": {
      "text/plain": [
       "[Task(dataset_path='autogluon/chronos_datasets', dataset_config='monash_m1_yearly', horizon=8, cutoff=-8, lead_time=1, min_ts_length=9, max_context_length=None, seasonality=1, eval_metric='MASE', extra_metrics=[], quantile_levels=None, id_column='id', timestamp_column='timestamp', target_column='target', multiple_target_columns=None, past_dynamic_columns=[], excluded_columns=[]),\n",
       " Task(dataset_path='autogluon/chronos_datasets', dataset_config='monash_electricity_weekly', horizon=8, cutoff='2013-01-01T00:00:00', lead_time=1, min_ts_length=9, max_context_length=None, seasonality=1, eval_metric='MASE', extra_metrics=[], quantile_levels=None, id_column='id', timestamp_column='timestamp', target_column='target', multiple_target_columns=None, past_dynamic_columns=[], excluded_columns=[]),\n",
       " Task(dataset_path='autogluon/chronos_datasets', dataset_config='monash_electricity_weekly', horizon=8, cutoff='2014-01-01T00:00:00', lead_time=1, min_ts_length=9, max_context_length=None, seasonality=1, eval_metric='MASE', extra_metrics=[], quantile_levels=None, id_column='id', timestamp_column='timestamp', target_column='target', multiple_target_columns=None, past_dynamic_columns=[], excluded_columns=[])]"
      ]
     },
     "execution_count": 23,
     "metadata": {},
     "output_type": "execute_result"
    }
   ],
   "source": [
    "benchmark.tasks"
   ]
  },
  {
   "cell_type": "markdown",
   "metadata": {},
   "source": [
    "Now let's evaluate some simple forecasting models on this toy benchmark."
   ]
  },
  {
   "cell_type": "code",
   "execution_count": null,
   "metadata": {},
   "outputs": [],
   "source": [
    "!pip install statsforecast"
   ]
  },
  {
   "cell_type": "code",
   "execution_count": null,
   "metadata": {},
   "outputs": [],
   "source": [
    "from statsforecast.models import ARIMA, SeasonalNaive, Theta\n",
    "\n",
    "\n",
    "def simple_forecast(task: fev.Task, model_name: str = \"naive\") -> list[dict]:\n",
    "    past_data, future_data = task.get_input_data()\n",
    "    if model_name == \"seasonal_naive\":\n",
    "        model = SeasonalNaive(season_length=task.seasonality)\n",
    "    elif model_name == \"theta\":\n",
    "        model = Theta(season_length=task.seasonality)\n",
    "    elif model_name == \"arima\":\n",
    "        model = ARIMA(season_length=task.seasonality)\n",
    "    else:\n",
    "        raise ValueError(f\"Unknown model_name: {model_name}\")\n",
    "\n",
    "    predictions = []\n",
    "    for ts in past_data:\n",
    "        predictions.append(\n",
    "            {\"predictions\": model.forecast(y=ts[task.target_column], h=task.horizon)[\"mean\"]}\n",
    "        )\n",
    "    return predictions"
   ]
  },
  {
   "cell_type": "code",
   "execution_count": 25,
   "metadata": {},
   "outputs": [
    {
     "data": {
      "application/vnd.jupyter.widget-view+json": {
       "model_id": "b96144c1a8d648bd94a3bd7e213f5df3",
       "version_major": 2,
       "version_minor": 0
      },
      "text/plain": [
       "Tasks completed:   0%|          | 0/3 [00:00<?, ?it/s]"
      ]
     },
     "metadata": {},
     "output_type": "display_data"
    }
   ],
   "source": [
    "import time\n",
    "\n",
    "summaries = []\n",
    "for task in tqdm(benchmark.tasks, desc=\"Tasks completed\"):\n",
    "    for model_name in [\"seasonal_naive\", \"arima\", \"theta\"]:\n",
    "        start_time = time.time()\n",
    "        predictions = simple_forecast(task, model_name=model_name)\n",
    "        infer_time_s = time.time() - start_time\n",
    "        eval_summary = task.evaluation_summary(predictions, model_name=model_name, inference_time_s=infer_time_s, training_time_s=0.0)\n",
    "\n",
    "        summaries.append(eval_summary)"
   ]
  },
  {
   "cell_type": "code",
   "execution_count": 26,
   "metadata": {},
   "outputs": [
    {
     "data": {
      "text/html": [
       "<div>\n",
       "<style scoped>\n",
       "    .dataframe tbody tr th:only-of-type {\n",
       "        vertical-align: middle;\n",
       "    }\n",
       "\n",
       "    .dataframe tbody tr th {\n",
       "        vertical-align: top;\n",
       "    }\n",
       "\n",
       "    .dataframe thead th {\n",
       "        text-align: right;\n",
       "    }\n",
       "</style>\n",
       "<table border=\"1\" class=\"dataframe\">\n",
       "  <thead>\n",
       "    <tr style=\"text-align: right;\">\n",
       "      <th></th>\n",
       "      <th>gmean_relative_error</th>\n",
       "      <th>avg_rank</th>\n",
       "      <th>avg_inference_time_s</th>\n",
       "      <th>median_inference_time_s</th>\n",
       "      <th>avg_training_time_s</th>\n",
       "      <th>median_training_time_s</th>\n",
       "      <th>training_corpus_overlap</th>\n",
       "      <th>num_failures</th>\n",
       "    </tr>\n",
       "    <tr>\n",
       "      <th>model_name</th>\n",
       "      <th></th>\n",
       "      <th></th>\n",
       "      <th></th>\n",
       "      <th></th>\n",
       "      <th></th>\n",
       "      <th></th>\n",
       "      <th></th>\n",
       "      <th></th>\n",
       "    </tr>\n",
       "  </thead>\n",
       "  <tbody>\n",
       "    <tr>\n",
       "      <th>theta</th>\n",
       "      <td>0.914107</td>\n",
       "      <td>1.0</td>\n",
       "      <td>3.091147</td>\n",
       "      <td>1.082445</td>\n",
       "      <td>0.0</td>\n",
       "      <td>0.0</td>\n",
       "      <td>0.0</td>\n",
       "      <td>0</td>\n",
       "    </tr>\n",
       "    <tr>\n",
       "      <th>seasonal_naive</th>\n",
       "      <td>1.000000</td>\n",
       "      <td>2.0</td>\n",
       "      <td>1.968541</td>\n",
       "      <td>2.152631</td>\n",
       "      <td>0.0</td>\n",
       "      <td>0.0</td>\n",
       "      <td>0.0</td>\n",
       "      <td>0</td>\n",
       "    </tr>\n",
       "    <tr>\n",
       "      <th>arima</th>\n",
       "      <td>1.870027</td>\n",
       "      <td>3.0</td>\n",
       "      <td>0.168469</td>\n",
       "      <td>0.167763</td>\n",
       "      <td>0.0</td>\n",
       "      <td>0.0</td>\n",
       "      <td>0.0</td>\n",
       "      <td>0</td>\n",
       "    </tr>\n",
       "  </tbody>\n",
       "</table>\n",
       "</div>"
      ],
      "text/plain": [
       "                gmean_relative_error  avg_rank  avg_inference_time_s  \\\n",
       "model_name                                                             \n",
       "theta                       0.914107       1.0              3.091147   \n",
       "seasonal_naive              1.000000       2.0              1.968541   \n",
       "arima                       1.870027       3.0              0.168469   \n",
       "\n",
       "                median_inference_time_s  avg_training_time_s  \\\n",
       "model_name                                                     \n",
       "theta                          1.082445                  0.0   \n",
       "seasonal_naive                 2.152631                  0.0   \n",
       "arima                          0.167763                  0.0   \n",
       "\n",
       "                median_training_time_s  training_corpus_overlap  num_failures  \n",
       "model_name                                                                     \n",
       "theta                              0.0                      0.0             0  \n",
       "seasonal_naive                     0.0                      0.0             0  \n",
       "arima                              0.0                      0.0             0  "
      ]
     },
     "execution_count": 26,
     "metadata": {},
     "output_type": "execute_result"
    }
   ],
   "source": [
    "fev.leaderboard(summaries, baseline_model=\"seasonal_naive\")"
   ]
  },
  {
   "cell_type": "markdown",
   "metadata": {},
   "source": [
    "## Dataset adapters"
   ]
  },
  {
   "cell_type": "code",
   "execution_count": 27,
   "metadata": {},
   "outputs": [],
   "source": [
    "task = fev.Task(\n",
    "    dataset_path=\"autogluon/chronos_datasets\",\n",
    "    dataset_config=\"monash_rideshare\",\n",
    "    horizon=30,\n",
    "    target_column=\"price_mean\",\n",
    "    past_dynamic_columns=[\"distance_mean\", \"surge_mean\"],\n",
    "    excluded_columns=[\"price_min\", \"price_max\", \"distance_min\", \"distance_max\", \"surge_min\", \"surge_max\"],\n",
    ")"
   ]
  },
  {
   "cell_type": "markdown",
   "metadata": {},
   "source": [
    "By default, `task.get_input_data()` returns two `datasets.Dataset` objects:\n",
    "- `past_data` contains all past data including target, timestamps, and covariates\n",
    "- `future_data` contains future values of timestamps and known covariates"
   ]
  },
  {
   "cell_type": "code",
   "execution_count": 28,
   "metadata": {},
   "outputs": [
    {
     "name": "stdout",
     "output_type": "stream",
     "text": [
      "Dataset({\n",
      "    features: ['id', 'timestamp', 'source_location', 'provider_name', 'provider_service', 'price_mean', 'distance_mean', 'surge_mean', 'api_calls', 'temp', 'rain', 'humidity', 'clouds', 'wind'],\n",
      "    num_rows: 156\n",
      "})\n",
      "Dataset({\n",
      "    features: ['id', 'timestamp', 'source_location', 'provider_name', 'provider_service', 'api_calls', 'temp', 'rain', 'humidity', 'clouds', 'wind'],\n",
      "    num_rows: 156\n",
      "})\n"
     ]
    }
   ],
   "source": [
    "past_data, future_data = task.get_input_data()\n",
    "print(past_data)\n",
    "print(future_data)"
   ]
  },
  {
   "cell_type": "markdown",
   "metadata": {},
   "source": [
    "We also provide adapters `fev.convert_input_data()` that make it easy to convert data into formats expected by other frameworks."
   ]
  },
  {
   "cell_type": "code",
   "execution_count": 29,
   "metadata": {},
   "outputs": [
    {
     "name": "stdout",
     "output_type": "stream",
     "text": [
      "train_df\n"
     ]
    },
    {
     "data": {
      "text/html": [
       "<div>\n",
       "<style scoped>\n",
       "    .dataframe tbody tr th:only-of-type {\n",
       "        vertical-align: middle;\n",
       "    }\n",
       "\n",
       "    .dataframe tbody tr th {\n",
       "        vertical-align: top;\n",
       "    }\n",
       "\n",
       "    .dataframe thead th {\n",
       "        text-align: right;\n",
       "    }\n",
       "</style>\n",
       "<table border=\"1\" class=\"dataframe\">\n",
       "  <thead>\n",
       "    <tr style=\"text-align: right;\">\n",
       "      <th></th>\n",
       "      <th>unique_id</th>\n",
       "      <th>ds</th>\n",
       "      <th>y</th>\n",
       "      <th>distance_mean</th>\n",
       "      <th>surge_mean</th>\n",
       "      <th>api_calls</th>\n",
       "      <th>temp</th>\n",
       "      <th>rain</th>\n",
       "      <th>humidity</th>\n",
       "      <th>clouds</th>\n",
       "      <th>wind</th>\n",
       "    </tr>\n",
       "  </thead>\n",
       "  <tbody>\n",
       "    <tr>\n",
       "      <th>0</th>\n",
       "      <td>T000000</td>\n",
       "      <td>2018-11-26 06:00:00</td>\n",
       "      <td>16.555555</td>\n",
       "      <td>1.726667</td>\n",
       "      <td>1.055556</td>\n",
       "      <td>9.0</td>\n",
       "      <td>40.627335</td>\n",
       "      <td>0.0</td>\n",
       "      <td>0.913333</td>\n",
       "      <td>0.990667</td>\n",
       "      <td>1.350667</td>\n",
       "    </tr>\n",
       "    <tr>\n",
       "      <th>1</th>\n",
       "      <td>T000000</td>\n",
       "      <td>2018-11-26 07:00:00</td>\n",
       "      <td>17.299999</td>\n",
       "      <td>1.690000</td>\n",
       "      <td>1.100000</td>\n",
       "      <td>10.0</td>\n",
       "      <td>41.137501</td>\n",
       "      <td>0.0</td>\n",
       "      <td>0.920000</td>\n",
       "      <td>0.970000</td>\n",
       "      <td>1.735000</td>\n",
       "    </tr>\n",
       "    <tr>\n",
       "      <th>2</th>\n",
       "      <td>T000000</td>\n",
       "      <td>2018-11-26 08:00:00</td>\n",
       "      <td>13.500000</td>\n",
       "      <td>1.380000</td>\n",
       "      <td>1.000000</td>\n",
       "      <td>1.0</td>\n",
       "      <td>40.919998</td>\n",
       "      <td>0.0</td>\n",
       "      <td>0.923333</td>\n",
       "      <td>0.980000</td>\n",
       "      <td>1.330000</td>\n",
       "    </tr>\n",
       "    <tr>\n",
       "      <th>3</th>\n",
       "      <td>T000000</td>\n",
       "      <td>2018-11-26 09:00:00</td>\n",
       "      <td>17.954546</td>\n",
       "      <td>1.920909</td>\n",
       "      <td>1.113636</td>\n",
       "      <td>11.0</td>\n",
       "      <td>40.937500</td>\n",
       "      <td>0.0</td>\n",
       "      <td>0.927500</td>\n",
       "      <td>1.000000</td>\n",
       "      <td>1.365000</td>\n",
       "    </tr>\n",
       "    <tr>\n",
       "      <th>4</th>\n",
       "      <td>T000000</td>\n",
       "      <td>2018-11-26 10:00:00</td>\n",
       "      <td>18.625000</td>\n",
       "      <td>2.122500</td>\n",
       "      <td>1.083333</td>\n",
       "      <td>12.0</td>\n",
       "      <td>40.695000</td>\n",
       "      <td>0.0</td>\n",
       "      <td>0.940000</td>\n",
       "      <td>0.995000</td>\n",
       "      <td>1.895000</td>\n",
       "    </tr>\n",
       "  </tbody>\n",
       "</table>\n",
       "</div>"
      ],
      "text/plain": [
       "  unique_id                  ds          y  distance_mean  surge_mean  \\\n",
       "0   T000000 2018-11-26 06:00:00  16.555555       1.726667    1.055556   \n",
       "1   T000000 2018-11-26 07:00:00  17.299999       1.690000    1.100000   \n",
       "2   T000000 2018-11-26 08:00:00  13.500000       1.380000    1.000000   \n",
       "3   T000000 2018-11-26 09:00:00  17.954546       1.920909    1.113636   \n",
       "4   T000000 2018-11-26 10:00:00  18.625000       2.122500    1.083333   \n",
       "\n",
       "   api_calls       temp  rain  humidity    clouds      wind  \n",
       "0        9.0  40.627335   0.0  0.913333  0.990667  1.350667  \n",
       "1       10.0  41.137501   0.0  0.920000  0.970000  1.735000  \n",
       "2        1.0  40.919998   0.0  0.923333  0.980000  1.330000  \n",
       "3       11.0  40.937500   0.0  0.927500  1.000000  1.365000  \n",
       "4       12.0  40.695000   0.0  0.940000  0.995000  1.895000  "
      ]
     },
     "metadata": {},
     "output_type": "display_data"
    },
    {
     "name": "stdout",
     "output_type": "stream",
     "text": [
      "future_df\n"
     ]
    },
    {
     "data": {
      "text/html": [
       "<div>\n",
       "<style scoped>\n",
       "    .dataframe tbody tr th:only-of-type {\n",
       "        vertical-align: middle;\n",
       "    }\n",
       "\n",
       "    .dataframe tbody tr th {\n",
       "        vertical-align: top;\n",
       "    }\n",
       "\n",
       "    .dataframe thead th {\n",
       "        text-align: right;\n",
       "    }\n",
       "</style>\n",
       "<table border=\"1\" class=\"dataframe\">\n",
       "  <thead>\n",
       "    <tr style=\"text-align: right;\">\n",
       "      <th></th>\n",
       "      <th>unique_id</th>\n",
       "      <th>ds</th>\n",
       "      <th>api_calls</th>\n",
       "      <th>temp</th>\n",
       "      <th>rain</th>\n",
       "      <th>humidity</th>\n",
       "      <th>clouds</th>\n",
       "      <th>wind</th>\n",
       "    </tr>\n",
       "  </thead>\n",
       "  <tbody>\n",
       "    <tr>\n",
       "      <th>0</th>\n",
       "      <td>T000000</td>\n",
       "      <td>2018-12-17 13:00:00</td>\n",
       "      <td>10.0</td>\n",
       "      <td>35.169998</td>\n",
       "      <td>0.0</td>\n",
       "      <td>0.90</td>\n",
       "      <td>0.97</td>\n",
       "      <td>7.22</td>\n",
       "    </tr>\n",
       "    <tr>\n",
       "      <th>1</th>\n",
       "      <td>T000000</td>\n",
       "      <td>2018-12-17 14:00:00</td>\n",
       "      <td>7.0</td>\n",
       "      <td>36.299999</td>\n",
       "      <td>0.0</td>\n",
       "      <td>0.90</td>\n",
       "      <td>0.92</td>\n",
       "      <td>6.87</td>\n",
       "    </tr>\n",
       "    <tr>\n",
       "      <th>2</th>\n",
       "      <td>T000000</td>\n",
       "      <td>2018-12-17 15:00:00</td>\n",
       "      <td>13.0</td>\n",
       "      <td>37.250000</td>\n",
       "      <td>0.0</td>\n",
       "      <td>0.87</td>\n",
       "      <td>0.88</td>\n",
       "      <td>7.58</td>\n",
       "    </tr>\n",
       "    <tr>\n",
       "      <th>3</th>\n",
       "      <td>T000000</td>\n",
       "      <td>2018-12-17 16:00:00</td>\n",
       "      <td>12.0</td>\n",
       "      <td>39.000000</td>\n",
       "      <td>0.0</td>\n",
       "      <td>0.84</td>\n",
       "      <td>1.00</td>\n",
       "      <td>6.28</td>\n",
       "    </tr>\n",
       "    <tr>\n",
       "      <th>4</th>\n",
       "      <td>T000000</td>\n",
       "      <td>2018-12-17 17:00:00</td>\n",
       "      <td>9.0</td>\n",
       "      <td>40.009998</td>\n",
       "      <td>0.0</td>\n",
       "      <td>0.81</td>\n",
       "      <td>0.95</td>\n",
       "      <td>6.46</td>\n",
       "    </tr>\n",
       "  </tbody>\n",
       "</table>\n",
       "</div>"
      ],
      "text/plain": [
       "  unique_id                  ds  api_calls       temp  rain  humidity  clouds  \\\n",
       "0   T000000 2018-12-17 13:00:00       10.0  35.169998   0.0      0.90    0.97   \n",
       "1   T000000 2018-12-17 14:00:00        7.0  36.299999   0.0      0.90    0.92   \n",
       "2   T000000 2018-12-17 15:00:00       13.0  37.250000   0.0      0.87    0.88   \n",
       "3   T000000 2018-12-17 16:00:00       12.0  39.000000   0.0      0.84    1.00   \n",
       "4   T000000 2018-12-17 17:00:00        9.0  40.009998   0.0      0.81    0.95   \n",
       "\n",
       "   wind  \n",
       "0  7.22  \n",
       "1  6.87  \n",
       "2  7.58  \n",
       "3  6.28  \n",
       "4  6.46  "
      ]
     },
     "metadata": {},
     "output_type": "display_data"
    },
    {
     "name": "stdout",
     "output_type": "stream",
     "text": [
      "static_df\n"
     ]
    },
    {
     "data": {
      "text/html": [
       "<div>\n",
       "<style scoped>\n",
       "    .dataframe tbody tr th:only-of-type {\n",
       "        vertical-align: middle;\n",
       "    }\n",
       "\n",
       "    .dataframe tbody tr th {\n",
       "        vertical-align: top;\n",
       "    }\n",
       "\n",
       "    .dataframe thead th {\n",
       "        text-align: right;\n",
       "    }\n",
       "</style>\n",
       "<table border=\"1\" class=\"dataframe\">\n",
       "  <thead>\n",
       "    <tr style=\"text-align: right;\">\n",
       "      <th></th>\n",
       "      <th>unique_id</th>\n",
       "      <th>source_location</th>\n",
       "      <th>provider_name</th>\n",
       "      <th>provider_service</th>\n",
       "    </tr>\n",
       "  </thead>\n",
       "  <tbody>\n",
       "    <tr>\n",
       "      <th>0</th>\n",
       "      <td>T000000</td>\n",
       "      <td>Back Bay</td>\n",
       "      <td>Lyft</td>\n",
       "      <td>Lux</td>\n",
       "    </tr>\n",
       "    <tr>\n",
       "      <th>1</th>\n",
       "      <td>T000001</td>\n",
       "      <td>Back Bay</td>\n",
       "      <td>Lyft</td>\n",
       "      <td>Lux Black</td>\n",
       "    </tr>\n",
       "    <tr>\n",
       "      <th>2</th>\n",
       "      <td>T000002</td>\n",
       "      <td>Back Bay</td>\n",
       "      <td>Lyft</td>\n",
       "      <td>Lux Black XL</td>\n",
       "    </tr>\n",
       "    <tr>\n",
       "      <th>3</th>\n",
       "      <td>T000003</td>\n",
       "      <td>Back Bay</td>\n",
       "      <td>Lyft</td>\n",
       "      <td>Lyft</td>\n",
       "    </tr>\n",
       "    <tr>\n",
       "      <th>4</th>\n",
       "      <td>T000004</td>\n",
       "      <td>Back Bay</td>\n",
       "      <td>Lyft</td>\n",
       "      <td>Lyft XL</td>\n",
       "    </tr>\n",
       "  </tbody>\n",
       "</table>\n",
       "</div>"
      ],
      "text/plain": [
       "  unique_id source_location provider_name provider_service\n",
       "0   T000000        Back Bay          Lyft              Lux\n",
       "1   T000001        Back Bay          Lyft        Lux Black\n",
       "2   T000002        Back Bay          Lyft     Lux Black XL\n",
       "3   T000003        Back Bay          Lyft             Lyft\n",
       "4   T000004        Back Bay          Lyft          Lyft XL"
      ]
     },
     "metadata": {},
     "output_type": "display_data"
    }
   ],
   "source": [
    "from IPython.display import display\n",
    "\n",
    "train_df, future_df, static_df = fev.convert_input_data(task, adapter=\"nixtla\")\n",
    "print(\"train_df\")\n",
    "display(train_df.head())\n",
    "print(\"future_df\")\n",
    "display(future_df.head())\n",
    "print(\"static_df\")\n",
    "display(static_df.head())"
   ]
  },
  {
   "cell_type": "code",
   "execution_count": 30,
   "metadata": {},
   "outputs": [
    {
     "name": "stdout",
     "output_type": "stream",
     "text": [
      "train_dataset\n",
      "PandasDataset<size=156, freq=h, num_feat_dynamic_real=6, num_past_feat_dynamic_real=2, num_feat_static_real=0, num_feat_static_cat=3, static_cardinalities=[12.  2. 13.]>\n",
      "prediction_dataset\n",
      "PandasDataset<size=156, freq=h, num_feat_dynamic_real=6, num_past_feat_dynamic_real=2, num_feat_static_real=0, num_feat_static_cat=3, static_cardinalities=[12.  2. 13.]>\n"
     ]
    }
   ],
   "source": [
    "train_dataset, prediction_dataset = fev.convert_input_data(task, adapter=\"gluonts\")\n",
    "print(\"train_dataset\")\n",
    "print(train_dataset)\n",
    "print(\"prediction_dataset\")\n",
    "print(prediction_dataset)"
   ]
  },
  {
   "cell_type": "code",
   "execution_count": 31,
   "metadata": {},
   "outputs": [
    {
     "name": "stdout",
     "output_type": "stream",
     "text": [
      "train_df\n"
     ]
    },
    {
     "data": {
      "text/html": [
       "<div>\n",
       "<style scoped>\n",
       "    .dataframe tbody tr th:only-of-type {\n",
       "        vertical-align: middle;\n",
       "    }\n",
       "\n",
       "    .dataframe tbody tr th {\n",
       "        vertical-align: top;\n",
       "    }\n",
       "\n",
       "    .dataframe thead th {\n",
       "        text-align: right;\n",
       "    }\n",
       "</style>\n",
       "<table border=\"1\" class=\"dataframe\">\n",
       "  <thead>\n",
       "    <tr style=\"text-align: right;\">\n",
       "      <th></th>\n",
       "      <th></th>\n",
       "      <th>price_mean</th>\n",
       "      <th>distance_mean</th>\n",
       "      <th>surge_mean</th>\n",
       "      <th>api_calls</th>\n",
       "      <th>temp</th>\n",
       "      <th>rain</th>\n",
       "      <th>humidity</th>\n",
       "      <th>clouds</th>\n",
       "      <th>wind</th>\n",
       "    </tr>\n",
       "    <tr>\n",
       "      <th>item_id</th>\n",
       "      <th>timestamp</th>\n",
       "      <th></th>\n",
       "      <th></th>\n",
       "      <th></th>\n",
       "      <th></th>\n",
       "      <th></th>\n",
       "      <th></th>\n",
       "      <th></th>\n",
       "      <th></th>\n",
       "      <th></th>\n",
       "    </tr>\n",
       "  </thead>\n",
       "  <tbody>\n",
       "    <tr>\n",
       "      <th rowspan=\"5\" valign=\"top\">T000000</th>\n",
       "      <th>2018-11-26 06:00:00</th>\n",
       "      <td>16.555555</td>\n",
       "      <td>1.726667</td>\n",
       "      <td>1.055556</td>\n",
       "      <td>9.0</td>\n",
       "      <td>40.627335</td>\n",
       "      <td>0.000</td>\n",
       "      <td>0.913333</td>\n",
       "      <td>0.990667</td>\n",
       "      <td>1.350667</td>\n",
       "    </tr>\n",
       "    <tr>\n",
       "      <th>2018-11-26 07:00:00</th>\n",
       "      <td>17.299999</td>\n",
       "      <td>1.690000</td>\n",
       "      <td>1.100000</td>\n",
       "      <td>10.0</td>\n",
       "      <td>41.137501</td>\n",
       "      <td>0.000</td>\n",
       "      <td>0.920000</td>\n",
       "      <td>0.970000</td>\n",
       "      <td>1.735000</td>\n",
       "    </tr>\n",
       "    <tr>\n",
       "      <th>2018-11-26 08:00:00</th>\n",
       "      <td>13.500000</td>\n",
       "      <td>1.380000</td>\n",
       "      <td>1.000000</td>\n",
       "      <td>1.0</td>\n",
       "      <td>40.919998</td>\n",
       "      <td>0.000</td>\n",
       "      <td>0.923333</td>\n",
       "      <td>0.980000</td>\n",
       "      <td>1.330000</td>\n",
       "    </tr>\n",
       "    <tr>\n",
       "      <th>2018-11-26 09:00:00</th>\n",
       "      <td>17.954546</td>\n",
       "      <td>1.920909</td>\n",
       "      <td>1.113636</td>\n",
       "      <td>11.0</td>\n",
       "      <td>40.937500</td>\n",
       "      <td>0.000</td>\n",
       "      <td>0.927500</td>\n",
       "      <td>1.000000</td>\n",
       "      <td>1.365000</td>\n",
       "    </tr>\n",
       "    <tr>\n",
       "      <th>2018-11-26 10:00:00</th>\n",
       "      <td>18.625000</td>\n",
       "      <td>2.122500</td>\n",
       "      <td>1.083333</td>\n",
       "      <td>12.0</td>\n",
       "      <td>40.695000</td>\n",
       "      <td>0.000</td>\n",
       "      <td>0.940000</td>\n",
       "      <td>0.995000</td>\n",
       "      <td>1.895000</td>\n",
       "    </tr>\n",
       "    <tr>\n",
       "      <th>...</th>\n",
       "      <th>...</th>\n",
       "      <td>...</td>\n",
       "      <td>...</td>\n",
       "      <td>...</td>\n",
       "      <td>...</td>\n",
       "      <td>...</td>\n",
       "      <td>...</td>\n",
       "      <td>...</td>\n",
       "      <td>...</td>\n",
       "      <td>...</td>\n",
       "    </tr>\n",
       "    <tr>\n",
       "      <th rowspan=\"5\" valign=\"top\">T000155</th>\n",
       "      <th>2018-12-17 08:00:00</th>\n",
       "      <td>9.454545</td>\n",
       "      <td>2.230909</td>\n",
       "      <td>1.000000</td>\n",
       "      <td>11.0</td>\n",
       "      <td>37.279999</td>\n",
       "      <td>0.000</td>\n",
       "      <td>0.920000</td>\n",
       "      <td>1.000000</td>\n",
       "      <td>10.670000</td>\n",
       "    </tr>\n",
       "    <tr>\n",
       "      <th>2018-12-17 09:00:00</th>\n",
       "      <td>9.700000</td>\n",
       "      <td>2.447333</td>\n",
       "      <td>1.000000</td>\n",
       "      <td>15.0</td>\n",
       "      <td>36.189999</td>\n",
       "      <td>0.000</td>\n",
       "      <td>0.930000</td>\n",
       "      <td>1.000000</td>\n",
       "      <td>9.760000</td>\n",
       "    </tr>\n",
       "    <tr>\n",
       "      <th>2018-12-17 10:00:00</th>\n",
       "      <td>9.300000</td>\n",
       "      <td>2.203000</td>\n",
       "      <td>1.000000</td>\n",
       "      <td>10.0</td>\n",
       "      <td>34.750000</td>\n",
       "      <td>0.003</td>\n",
       "      <td>0.930000</td>\n",
       "      <td>1.000000</td>\n",
       "      <td>9.950000</td>\n",
       "    </tr>\n",
       "    <tr>\n",
       "      <th>2018-12-17 11:00:00</th>\n",
       "      <td>9.400000</td>\n",
       "      <td>2.139333</td>\n",
       "      <td>1.000000</td>\n",
       "      <td>15.0</td>\n",
       "      <td>34.180000</td>\n",
       "      <td>0.009</td>\n",
       "      <td>0.930000</td>\n",
       "      <td>1.000000</td>\n",
       "      <td>9.240000</td>\n",
       "    </tr>\n",
       "    <tr>\n",
       "      <th>2018-12-17 12:00:00</th>\n",
       "      <td>9.593750</td>\n",
       "      <td>1.958750</td>\n",
       "      <td>1.000000</td>\n",
       "      <td>16.0</td>\n",
       "      <td>34.209999</td>\n",
       "      <td>0.000</td>\n",
       "      <td>0.930000</td>\n",
       "      <td>0.990000</td>\n",
       "      <td>8.380000</td>\n",
       "    </tr>\n",
       "  </tbody>\n",
       "</table>\n",
       "<p>79716 rows × 9 columns</p>\n",
       "</div>"
      ],
      "text/plain": [
       "                             price_mean  distance_mean  surge_mean  api_calls  \\\n",
       "item_id timestamp                                                               \n",
       "T000000 2018-11-26 06:00:00   16.555555       1.726667    1.055556        9.0   \n",
       "        2018-11-26 07:00:00   17.299999       1.690000    1.100000       10.0   \n",
       "        2018-11-26 08:00:00   13.500000       1.380000    1.000000        1.0   \n",
       "        2018-11-26 09:00:00   17.954546       1.920909    1.113636       11.0   \n",
       "        2018-11-26 10:00:00   18.625000       2.122500    1.083333       12.0   \n",
       "...                                 ...            ...         ...        ...   \n",
       "T000155 2018-12-17 08:00:00    9.454545       2.230909    1.000000       11.0   \n",
       "        2018-12-17 09:00:00    9.700000       2.447333    1.000000       15.0   \n",
       "        2018-12-17 10:00:00    9.300000       2.203000    1.000000       10.0   \n",
       "        2018-12-17 11:00:00    9.400000       2.139333    1.000000       15.0   \n",
       "        2018-12-17 12:00:00    9.593750       1.958750    1.000000       16.0   \n",
       "\n",
       "                                  temp   rain  humidity    clouds       wind  \n",
       "item_id timestamp                                                             \n",
       "T000000 2018-11-26 06:00:00  40.627335  0.000  0.913333  0.990667   1.350667  \n",
       "        2018-11-26 07:00:00  41.137501  0.000  0.920000  0.970000   1.735000  \n",
       "        2018-11-26 08:00:00  40.919998  0.000  0.923333  0.980000   1.330000  \n",
       "        2018-11-26 09:00:00  40.937500  0.000  0.927500  1.000000   1.365000  \n",
       "        2018-11-26 10:00:00  40.695000  0.000  0.940000  0.995000   1.895000  \n",
       "...                                ...    ...       ...       ...        ...  \n",
       "T000155 2018-12-17 08:00:00  37.279999  0.000  0.920000  1.000000  10.670000  \n",
       "        2018-12-17 09:00:00  36.189999  0.000  0.930000  1.000000   9.760000  \n",
       "        2018-12-17 10:00:00  34.750000  0.003  0.930000  1.000000   9.950000  \n",
       "        2018-12-17 11:00:00  34.180000  0.009  0.930000  1.000000   9.240000  \n",
       "        2018-12-17 12:00:00  34.209999  0.000  0.930000  0.990000   8.380000  \n",
       "\n",
       "[79716 rows x 9 columns]"
      ]
     },
     "metadata": {},
     "output_type": "display_data"
    },
    {
     "name": "stdout",
     "output_type": "stream",
     "text": [
      "train_df.static_features\n"
     ]
    },
    {
     "data": {
      "text/html": [
       "<div>\n",
       "<style scoped>\n",
       "    .dataframe tbody tr th:only-of-type {\n",
       "        vertical-align: middle;\n",
       "    }\n",
       "\n",
       "    .dataframe tbody tr th {\n",
       "        vertical-align: top;\n",
       "    }\n",
       "\n",
       "    .dataframe thead th {\n",
       "        text-align: right;\n",
       "    }\n",
       "</style>\n",
       "<table border=\"1\" class=\"dataframe\">\n",
       "  <thead>\n",
       "    <tr style=\"text-align: right;\">\n",
       "      <th></th>\n",
       "      <th>source_location</th>\n",
       "      <th>provider_name</th>\n",
       "      <th>provider_service</th>\n",
       "    </tr>\n",
       "    <tr>\n",
       "      <th>item_id</th>\n",
       "      <th></th>\n",
       "      <th></th>\n",
       "      <th></th>\n",
       "    </tr>\n",
       "  </thead>\n",
       "  <tbody>\n",
       "    <tr>\n",
       "      <th>T000000</th>\n",
       "      <td>Back Bay</td>\n",
       "      <td>Lyft</td>\n",
       "      <td>Lux</td>\n",
       "    </tr>\n",
       "    <tr>\n",
       "      <th>T000001</th>\n",
       "      <td>Back Bay</td>\n",
       "      <td>Lyft</td>\n",
       "      <td>Lux Black</td>\n",
       "    </tr>\n",
       "    <tr>\n",
       "      <th>T000002</th>\n",
       "      <td>Back Bay</td>\n",
       "      <td>Lyft</td>\n",
       "      <td>Lux Black XL</td>\n",
       "    </tr>\n",
       "    <tr>\n",
       "      <th>T000003</th>\n",
       "      <td>Back Bay</td>\n",
       "      <td>Lyft</td>\n",
       "      <td>Lyft</td>\n",
       "    </tr>\n",
       "    <tr>\n",
       "      <th>T000004</th>\n",
       "      <td>Back Bay</td>\n",
       "      <td>Lyft</td>\n",
       "      <td>Lyft XL</td>\n",
       "    </tr>\n",
       "    <tr>\n",
       "      <th>...</th>\n",
       "      <td>...</td>\n",
       "      <td>...</td>\n",
       "      <td>...</td>\n",
       "    </tr>\n",
       "    <tr>\n",
       "      <th>T000151</th>\n",
       "      <td>West End</td>\n",
       "      <td>Uber</td>\n",
       "      <td>Taxi</td>\n",
       "    </tr>\n",
       "    <tr>\n",
       "      <th>T000152</th>\n",
       "      <td>West End</td>\n",
       "      <td>Uber</td>\n",
       "      <td>UberPool</td>\n",
       "    </tr>\n",
       "    <tr>\n",
       "      <th>T000153</th>\n",
       "      <td>West End</td>\n",
       "      <td>Uber</td>\n",
       "      <td>UberX</td>\n",
       "    </tr>\n",
       "    <tr>\n",
       "      <th>T000154</th>\n",
       "      <td>West End</td>\n",
       "      <td>Uber</td>\n",
       "      <td>UberXL</td>\n",
       "    </tr>\n",
       "    <tr>\n",
       "      <th>T000155</th>\n",
       "      <td>West End</td>\n",
       "      <td>Uber</td>\n",
       "      <td>WAV</td>\n",
       "    </tr>\n",
       "  </tbody>\n",
       "</table>\n",
       "<p>156 rows × 3 columns</p>\n",
       "</div>"
      ],
      "text/plain": [
       "        source_location provider_name provider_service\n",
       "item_id                                               \n",
       "T000000        Back Bay          Lyft              Lux\n",
       "T000001        Back Bay          Lyft        Lux Black\n",
       "T000002        Back Bay          Lyft     Lux Black XL\n",
       "T000003        Back Bay          Lyft             Lyft\n",
       "T000004        Back Bay          Lyft          Lyft XL\n",
       "...                 ...           ...              ...\n",
       "T000151        West End          Uber             Taxi\n",
       "T000152        West End          Uber         UberPool\n",
       "T000153        West End          Uber            UberX\n",
       "T000154        West End          Uber           UberXL\n",
       "T000155        West End          Uber              WAV\n",
       "\n",
       "[156 rows x 3 columns]"
      ]
     },
     "metadata": {},
     "output_type": "display_data"
    },
    {
     "name": "stdout",
     "output_type": "stream",
     "text": [
      "known_covariates\n"
     ]
    },
    {
     "data": {
      "text/html": [
       "<div>\n",
       "<style scoped>\n",
       "    .dataframe tbody tr th:only-of-type {\n",
       "        vertical-align: middle;\n",
       "    }\n",
       "\n",
       "    .dataframe tbody tr th {\n",
       "        vertical-align: top;\n",
       "    }\n",
       "\n",
       "    .dataframe thead th {\n",
       "        text-align: right;\n",
       "    }\n",
       "</style>\n",
       "<table border=\"1\" class=\"dataframe\">\n",
       "  <thead>\n",
       "    <tr style=\"text-align: right;\">\n",
       "      <th></th>\n",
       "      <th></th>\n",
       "      <th>api_calls</th>\n",
       "      <th>temp</th>\n",
       "      <th>rain</th>\n",
       "      <th>humidity</th>\n",
       "      <th>clouds</th>\n",
       "      <th>wind</th>\n",
       "    </tr>\n",
       "    <tr>\n",
       "      <th>item_id</th>\n",
       "      <th>timestamp</th>\n",
       "      <th></th>\n",
       "      <th></th>\n",
       "      <th></th>\n",
       "      <th></th>\n",
       "      <th></th>\n",
       "      <th></th>\n",
       "    </tr>\n",
       "  </thead>\n",
       "  <tbody>\n",
       "    <tr>\n",
       "      <th rowspan=\"5\" valign=\"top\">T000000</th>\n",
       "      <th>2018-12-17 13:00:00</th>\n",
       "      <td>10.0</td>\n",
       "      <td>35.169998</td>\n",
       "      <td>0.0</td>\n",
       "      <td>0.90</td>\n",
       "      <td>0.97</td>\n",
       "      <td>7.22</td>\n",
       "    </tr>\n",
       "    <tr>\n",
       "      <th>2018-12-17 14:00:00</th>\n",
       "      <td>7.0</td>\n",
       "      <td>36.299999</td>\n",
       "      <td>0.0</td>\n",
       "      <td>0.90</td>\n",
       "      <td>0.92</td>\n",
       "      <td>6.87</td>\n",
       "    </tr>\n",
       "    <tr>\n",
       "      <th>2018-12-17 15:00:00</th>\n",
       "      <td>13.0</td>\n",
       "      <td>37.250000</td>\n",
       "      <td>0.0</td>\n",
       "      <td>0.87</td>\n",
       "      <td>0.88</td>\n",
       "      <td>7.58</td>\n",
       "    </tr>\n",
       "    <tr>\n",
       "      <th>2018-12-17 16:00:00</th>\n",
       "      <td>12.0</td>\n",
       "      <td>39.000000</td>\n",
       "      <td>0.0</td>\n",
       "      <td>0.84</td>\n",
       "      <td>1.00</td>\n",
       "      <td>6.28</td>\n",
       "    </tr>\n",
       "    <tr>\n",
       "      <th>2018-12-17 17:00:00</th>\n",
       "      <td>9.0</td>\n",
       "      <td>40.009998</td>\n",
       "      <td>0.0</td>\n",
       "      <td>0.81</td>\n",
       "      <td>0.95</td>\n",
       "      <td>6.46</td>\n",
       "    </tr>\n",
       "    <tr>\n",
       "      <th>...</th>\n",
       "      <th>...</th>\n",
       "      <td>...</td>\n",
       "      <td>...</td>\n",
       "      <td>...</td>\n",
       "      <td>...</td>\n",
       "      <td>...</td>\n",
       "      <td>...</td>\n",
       "    </tr>\n",
       "    <tr>\n",
       "      <th rowspan=\"5\" valign=\"top\">T000155</th>\n",
       "      <th>2018-12-18 14:00:00</th>\n",
       "      <td>17.0</td>\n",
       "      <td>26.190001</td>\n",
       "      <td>0.0</td>\n",
       "      <td>0.47</td>\n",
       "      <td>0.48</td>\n",
       "      <td>13.89</td>\n",
       "    </tr>\n",
       "    <tr>\n",
       "      <th>2018-12-18 15:00:00</th>\n",
       "      <td>15.0</td>\n",
       "      <td>27.219999</td>\n",
       "      <td>0.0</td>\n",
       "      <td>0.46</td>\n",
       "      <td>0.34</td>\n",
       "      <td>15.03</td>\n",
       "    </tr>\n",
       "    <tr>\n",
       "      <th>2018-12-18 16:00:00</th>\n",
       "      <td>15.0</td>\n",
       "      <td>28.700001</td>\n",
       "      <td>0.0</td>\n",
       "      <td>0.47</td>\n",
       "      <td>0.31</td>\n",
       "      <td>14.60</td>\n",
       "    </tr>\n",
       "    <tr>\n",
       "      <th>2018-12-18 17:00:00</th>\n",
       "      <td>9.0</td>\n",
       "      <td>30.049999</td>\n",
       "      <td>0.0</td>\n",
       "      <td>0.46</td>\n",
       "      <td>0.15</td>\n",
       "      <td>13.55</td>\n",
       "    </tr>\n",
       "    <tr>\n",
       "      <th>2018-12-18 18:00:00</th>\n",
       "      <td>12.0</td>\n",
       "      <td>30.790001</td>\n",
       "      <td>0.0</td>\n",
       "      <td>0.46</td>\n",
       "      <td>0.00</td>\n",
       "      <td>13.09</td>\n",
       "    </tr>\n",
       "  </tbody>\n",
       "</table>\n",
       "<p>4680 rows × 6 columns</p>\n",
       "</div>"
      ],
      "text/plain": [
       "                             api_calls       temp  rain  humidity  clouds  \\\n",
       "item_id timestamp                                                           \n",
       "T000000 2018-12-17 13:00:00       10.0  35.169998   0.0      0.90    0.97   \n",
       "        2018-12-17 14:00:00        7.0  36.299999   0.0      0.90    0.92   \n",
       "        2018-12-17 15:00:00       13.0  37.250000   0.0      0.87    0.88   \n",
       "        2018-12-17 16:00:00       12.0  39.000000   0.0      0.84    1.00   \n",
       "        2018-12-17 17:00:00        9.0  40.009998   0.0      0.81    0.95   \n",
       "...                                ...        ...   ...       ...     ...   \n",
       "T000155 2018-12-18 14:00:00       17.0  26.190001   0.0      0.47    0.48   \n",
       "        2018-12-18 15:00:00       15.0  27.219999   0.0      0.46    0.34   \n",
       "        2018-12-18 16:00:00       15.0  28.700001   0.0      0.47    0.31   \n",
       "        2018-12-18 17:00:00        9.0  30.049999   0.0      0.46    0.15   \n",
       "        2018-12-18 18:00:00       12.0  30.790001   0.0      0.46    0.00   \n",
       "\n",
       "                              wind  \n",
       "item_id timestamp                   \n",
       "T000000 2018-12-17 13:00:00   7.22  \n",
       "        2018-12-17 14:00:00   6.87  \n",
       "        2018-12-17 15:00:00   7.58  \n",
       "        2018-12-17 16:00:00   6.28  \n",
       "        2018-12-17 17:00:00   6.46  \n",
       "...                            ...  \n",
       "T000155 2018-12-18 14:00:00  13.89  \n",
       "        2018-12-18 15:00:00  15.03  \n",
       "        2018-12-18 16:00:00  14.60  \n",
       "        2018-12-18 17:00:00  13.55  \n",
       "        2018-12-18 18:00:00  13.09  \n",
       "\n",
       "[4680 rows x 6 columns]"
      ]
     },
     "metadata": {},
     "output_type": "display_data"
    }
   ],
   "source": [
    "train_df, known_covariates = fev.convert_input_data(task, adapter=\"autogluon\")\n",
    "print(\"train_df\")\n",
    "display(train_df)\n",
    "print(\"train_df.static_features\")\n",
    "display(train_df.static_features)\n",
    "print(\"known_covariates\")\n",
    "display(known_covariates)"
   ]
  }
 ],
 "metadata": {
  "kernelspec": {
   "display_name": "fev",
   "language": "python",
   "name": "python3"
  },
  "language_info": {
   "codemirror_mode": {
    "name": "ipython",
    "version": 3
   },
   "file_extension": ".py",
   "mimetype": "text/x-python",
   "name": "python",
   "nbconvert_exporter": "python",
   "pygments_lexer": "ipython3",
   "version": "3.11.10"
  }
 },
 "nbformat": 4,
 "nbformat_minor": 2
}
